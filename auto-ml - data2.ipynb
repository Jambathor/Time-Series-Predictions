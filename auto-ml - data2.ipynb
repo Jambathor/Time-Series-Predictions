{
 "cells": [
  {
   "cell_type": "markdown",
   "metadata": {},
   "source": [
    "Copyright (c) Microsoft Corporation. All rights reserved.\n",
    "\n",
    "Licensed under the MIT License."
   ]
  },
  {
   "cell_type": "markdown",
   "metadata": {},
   "source": [
    "![Impressions](https://PixelServer20190423114238.azurewebsites.net/api/impressions/NotebookVM/how-to-use-azureml/automated-machine-learning/forecasting-bike-share/auto-ml-forecasting-bike-share.png)"
   ]
  },
  {
   "cell_type": "markdown",
   "metadata": {},
   "source": [
    "# Automated Machine Learning\n",
    "**Sales Forecasting**\n",
    "\n"
   ]
  },
  {
   "cell_type": "markdown",
   "metadata": {},
   "source": [
    "## Setup\n"
   ]
  },
  {
   "cell_type": "code",
   "execution_count": 1,
   "metadata": {},
   "outputs": [],
   "source": [
    "import azureml.core\n",
    "import pandas as pd\n",
    "import numpy as np\n",
    "import logging\n",
    "import warnings\n",
    "\n",
    "from pandas.tseries.frequencies import to_offset\n",
    "\n",
    "# Squash warning messages for cleaner output in the notebook\n",
    "warnings.showwarning = lambda *args, **kwargs: None\n",
    "\n",
    "from azureml.core.workspace import Workspace\n",
    "from azureml.core.experiment import Experiment\n",
    "from azureml.train.automl import AutoMLConfig\n",
    "from matplotlib import pyplot as plt\n",
    "from sklearn.metrics import mean_absolute_error, mean_squared_error"
   ]
  },
  {
   "cell_type": "code",
   "execution_count": 2,
   "metadata": {},
   "outputs": [
    {
     "data": {
      "text/html": [
       "<div>\n",
       "<style scoped>\n",
       "    .dataframe tbody tr th:only-of-type {\n",
       "        vertical-align: middle;\n",
       "    }\n",
       "\n",
       "    .dataframe tbody tr th {\n",
       "        vertical-align: top;\n",
       "    }\n",
       "\n",
       "    .dataframe thead th {\n",
       "        text-align: right;\n",
       "    }\n",
       "</style>\n",
       "<table border=\"1\" class=\"dataframe\">\n",
       "  <thead>\n",
       "    <tr style=\"text-align: right;\">\n",
       "      <th></th>\n",
       "      <th></th>\n",
       "    </tr>\n",
       "  </thead>\n",
       "  <tbody>\n",
       "    <tr>\n",
       "      <th>SDK version</th>\n",
       "      <td>1.0.72</td>\n",
       "    </tr>\n",
       "    <tr>\n",
       "      <th>Subscription ID</th>\n",
       "      <td>d6697b5a-c497-42c0-9d09-749855c5c4bd</td>\n",
       "    </tr>\n",
       "    <tr>\n",
       "      <th>Workspace</th>\n",
       "      <td>capstone-ml</td>\n",
       "    </tr>\n",
       "    <tr>\n",
       "      <th>Resource Group</th>\n",
       "      <td>capstone</td>\n",
       "    </tr>\n",
       "    <tr>\n",
       "      <th>Location</th>\n",
       "      <td>westus2</td>\n",
       "    </tr>\n",
       "    <tr>\n",
       "      <th>Run History Name</th>\n",
       "      <td>automl-saleforecasting</td>\n",
       "    </tr>\n",
       "  </tbody>\n",
       "</table>\n",
       "</div>"
      ],
      "text/plain": [
       "                                                      \n",
       "SDK version       1.0.72                              \n",
       "Subscription ID   d6697b5a-c497-42c0-9d09-749855c5c4bd\n",
       "Workspace         capstone-ml                         \n",
       "Resource Group    capstone                            \n",
       "Location          westus2                             \n",
       "Run History Name  automl-saleforecasting              "
      ]
     },
     "execution_count": 2,
     "metadata": {},
     "output_type": "execute_result"
    }
   ],
   "source": [
    "ws = Workspace.from_config()\n",
    "\n",
    "# choose a name for the run history container in the workspace\n",
    "experiment_name = 'automl-saleforecasting'\n",
    "\n",
    "experiment = Experiment(ws, experiment_name)\n",
    "\n",
    "output = {}\n",
    "output['SDK version'] = azureml.core.VERSION\n",
    "output['Subscription ID'] = ws.subscription_id\n",
    "output['Workspace'] = ws.name\n",
    "output['Resource Group'] = ws.resource_group\n",
    "output['Location'] = ws.location\n",
    "output['Run History Name'] = experiment_name\n",
    "pd.set_option('display.max_colwidth', -1)\n",
    "outputDf = pd.DataFrame(data = output, index = [''])\n",
    "outputDf.T"
   ]
  },
  {
   "cell_type": "markdown",
   "metadata": {},
   "source": [
    "## Data"
   ]
  },
  {
   "cell_type": "code",
   "execution_count": 3,
   "metadata": {},
   "outputs": [
    {
     "data": {
      "text/html": [
       "<div>\n",
       "<style scoped>\n",
       "    .dataframe tbody tr th:only-of-type {\n",
       "        vertical-align: middle;\n",
       "    }\n",
       "\n",
       "    .dataframe tbody tr th {\n",
       "        vertical-align: top;\n",
       "    }\n",
       "\n",
       "    .dataframe thead th {\n",
       "        text-align: right;\n",
       "    }\n",
       "</style>\n",
       "<table border=\"1\" class=\"dataframe\">\n",
       "  <thead>\n",
       "    <tr style=\"text-align: right;\">\n",
       "      <th></th>\n",
       "      <th>id</th>\n",
       "      <th>date</th>\n",
       "      <th>store_nbr</th>\n",
       "      <th>item_nbr</th>\n",
       "      <th>unit_sales</th>\n",
       "      <th>onpromotion</th>\n",
       "      <th>city</th>\n",
       "      <th>state</th>\n",
       "      <th>holiday_type</th>\n",
       "      <th>transferred</th>\n",
       "      <th>class</th>\n",
       "      <th>dcoilwtico</th>\n",
       "    </tr>\n",
       "  </thead>\n",
       "  <tbody>\n",
       "    <tr>\n",
       "      <th>0</th>\n",
       "      <td>625</td>\n",
       "      <td>2013-01-02</td>\n",
       "      <td>1</td>\n",
       "      <td>127547</td>\n",
       "      <td>14.00</td>\n",
       "      <td>True</td>\n",
       "      <td>Quito</td>\n",
       "      <td>Pichincha</td>\n",
       "      <td>Work Day</td>\n",
       "      <td>True</td>\n",
       "      <td>2502</td>\n",
       "      <td>93.14</td>\n",
       "    </tr>\n",
       "    <tr>\n",
       "      <th>1</th>\n",
       "      <td>638</td>\n",
       "      <td>2013-01-02</td>\n",
       "      <td>1</td>\n",
       "      <td>158680</td>\n",
       "      <td>5.00</td>\n",
       "      <td>True</td>\n",
       "      <td>Quito</td>\n",
       "      <td>Pichincha</td>\n",
       "      <td>Work Day</td>\n",
       "      <td>True</td>\n",
       "      <td>2502</td>\n",
       "      <td>93.14</td>\n",
       "    </tr>\n",
       "    <tr>\n",
       "      <th>2</th>\n",
       "      <td>678</td>\n",
       "      <td>2013-01-02</td>\n",
       "      <td>1</td>\n",
       "      <td>208384</td>\n",
       "      <td>32.00</td>\n",
       "      <td>True</td>\n",
       "      <td>Quito</td>\n",
       "      <td>Pichincha</td>\n",
       "      <td>Work Day</td>\n",
       "      <td>True</td>\n",
       "      <td>2502</td>\n",
       "      <td>93.14</td>\n",
       "    </tr>\n",
       "    <tr>\n",
       "      <th>3</th>\n",
       "      <td>679</td>\n",
       "      <td>2013-01-02</td>\n",
       "      <td>1</td>\n",
       "      <td>208386</td>\n",
       "      <td>7.00</td>\n",
       "      <td>True</td>\n",
       "      <td>Quito</td>\n",
       "      <td>Pichincha</td>\n",
       "      <td>Work Day</td>\n",
       "      <td>True</td>\n",
       "      <td>2502</td>\n",
       "      <td>93.14</td>\n",
       "    </tr>\n",
       "    <tr>\n",
       "      <th>4</th>\n",
       "      <td>718</td>\n",
       "      <td>2013-01-02</td>\n",
       "      <td>1</td>\n",
       "      <td>227111</td>\n",
       "      <td>9.00</td>\n",
       "      <td>True</td>\n",
       "      <td>Quito</td>\n",
       "      <td>Pichincha</td>\n",
       "      <td>Work Day</td>\n",
       "      <td>True</td>\n",
       "      <td>2502</td>\n",
       "      <td>93.14</td>\n",
       "    </tr>\n",
       "  </tbody>\n",
       "</table>\n",
       "</div>"
      ],
      "text/plain": [
       "    id       date  store_nbr  item_nbr  unit_sales  onpromotion   city  \\\n",
       "0  625 2013-01-02  1          127547   14.00        True         Quito   \n",
       "1  638 2013-01-02  1          158680   5.00         True         Quito   \n",
       "2  678 2013-01-02  1          208384   32.00        True         Quito   \n",
       "3  679 2013-01-02  1          208386   7.00         True         Quito   \n",
       "4  718 2013-01-02  1          227111   9.00         True         Quito   \n",
       "\n",
       "       state holiday_type  transferred  class  dcoilwtico  \n",
       "0  Pichincha  Work Day     True         2502  93.14        \n",
       "1  Pichincha  Work Day     True         2502  93.14        \n",
       "2  Pichincha  Work Day     True         2502  93.14        \n",
       "3  Pichincha  Work Day     True         2502  93.14        \n",
       "4  Pichincha  Work Day     True         2502  93.14        "
      ]
     },
     "execution_count": 3,
     "metadata": {},
     "output_type": "execute_result"
    }
   ],
   "source": [
    "from azureml.core import Dataset, Run\n",
    "cluster13eggs= Dataset.get_by_name(workspace=ws, name='cluster13eggs')\n",
    "data= cluster13eggs.to_pandas_dataframe()\n",
    "data.head()"
   ]
  },
  {
   "cell_type": "code",
   "execution_count": 4,
   "metadata": {},
   "outputs": [],
   "source": [
    "data = data.drop(columns=['id','item_nbr'])"
   ]
  },
  {
   "cell_type": "code",
   "execution_count": 5,
   "metadata": {},
   "outputs": [
    {
     "name": "stdout",
     "output_type": "stream",
     "text": [
      "<class 'pandas.core.frame.DataFrame'>\n",
      "RangeIndex: 155689 entries, 0 to 155688\n",
      "Data columns (total 10 columns):\n",
      "date            155689 non-null datetime64[ns]\n",
      "store_nbr       155689 non-null int64\n",
      "unit_sales      155689 non-null float64\n",
      "onpromotion     155689 non-null bool\n",
      "city            155689 non-null object\n",
      "state           155689 non-null object\n",
      "holiday_type    155689 non-null object\n",
      "transferred     155689 non-null bool\n",
      "class           155689 non-null int64\n",
      "dcoilwtico      155689 non-null float64\n",
      "dtypes: bool(2), datetime64[ns](1), float64(2), int64(2), object(3)\n",
      "memory usage: 9.8+ MB\n"
     ]
    }
   ],
   "source": [
    "data.info()"
   ]
  },
  {
   "cell_type": "code",
   "execution_count": 6,
   "metadata": {},
   "outputs": [
    {
     "data": {
      "text/html": [
       "<div>\n",
       "<style scoped>\n",
       "    .dataframe tbody tr th:only-of-type {\n",
       "        vertical-align: middle;\n",
       "    }\n",
       "\n",
       "    .dataframe tbody tr th {\n",
       "        vertical-align: top;\n",
       "    }\n",
       "\n",
       "    .dataframe thead th {\n",
       "        text-align: right;\n",
       "    }\n",
       "</style>\n",
       "<table border=\"1\" class=\"dataframe\">\n",
       "  <thead>\n",
       "    <tr style=\"text-align: right;\">\n",
       "      <th></th>\n",
       "      <th>date</th>\n",
       "      <th>store_nbr</th>\n",
       "      <th>unit_sales</th>\n",
       "      <th>onpromotion</th>\n",
       "      <th>city</th>\n",
       "      <th>state</th>\n",
       "      <th>holiday_type</th>\n",
       "      <th>transferred</th>\n",
       "      <th>class</th>\n",
       "      <th>dcoilwtico</th>\n",
       "    </tr>\n",
       "  </thead>\n",
       "  <tbody>\n",
       "    <tr>\n",
       "      <th>0</th>\n",
       "      <td>2013-01-02</td>\n",
       "      <td>1</td>\n",
       "      <td>246.00</td>\n",
       "      <td>True</td>\n",
       "      <td>Quito</td>\n",
       "      <td>Pichincha</td>\n",
       "      <td>Work Day</td>\n",
       "      <td>True</td>\n",
       "      <td>2502</td>\n",
       "      <td>93.14</td>\n",
       "    </tr>\n",
       "    <tr>\n",
       "      <th>1</th>\n",
       "      <td>2013-01-02</td>\n",
       "      <td>2</td>\n",
       "      <td>307.00</td>\n",
       "      <td>True</td>\n",
       "      <td>Quito</td>\n",
       "      <td>Pichincha</td>\n",
       "      <td>Work Day</td>\n",
       "      <td>True</td>\n",
       "      <td>2502</td>\n",
       "      <td>93.14</td>\n",
       "    </tr>\n",
       "    <tr>\n",
       "      <th>2</th>\n",
       "      <td>2013-01-02</td>\n",
       "      <td>6</td>\n",
       "      <td>360.00</td>\n",
       "      <td>True</td>\n",
       "      <td>Quito</td>\n",
       "      <td>Pichincha</td>\n",
       "      <td>Work Day</td>\n",
       "      <td>True</td>\n",
       "      <td>2502</td>\n",
       "      <td>93.14</td>\n",
       "    </tr>\n",
       "    <tr>\n",
       "      <th>3</th>\n",
       "      <td>2013-01-03</td>\n",
       "      <td>1</td>\n",
       "      <td>203.00</td>\n",
       "      <td>True</td>\n",
       "      <td>Quito</td>\n",
       "      <td>Pichincha</td>\n",
       "      <td>Work Day</td>\n",
       "      <td>True</td>\n",
       "      <td>2502</td>\n",
       "      <td>92.97</td>\n",
       "    </tr>\n",
       "    <tr>\n",
       "      <th>4</th>\n",
       "      <td>2013-01-03</td>\n",
       "      <td>2</td>\n",
       "      <td>186.00</td>\n",
       "      <td>True</td>\n",
       "      <td>Quito</td>\n",
       "      <td>Pichincha</td>\n",
       "      <td>Work Day</td>\n",
       "      <td>True</td>\n",
       "      <td>2502</td>\n",
       "      <td>92.97</td>\n",
       "    </tr>\n",
       "  </tbody>\n",
       "</table>\n",
       "</div>"
      ],
      "text/plain": [
       "        date  store_nbr  unit_sales  onpromotion   city      state  \\\n",
       "0 2013-01-02  1         246.00       True         Quito  Pichincha   \n",
       "1 2013-01-02  2         307.00       True         Quito  Pichincha   \n",
       "2 2013-01-02  6         360.00       True         Quito  Pichincha   \n",
       "3 2013-01-03  1         203.00       True         Quito  Pichincha   \n",
       "4 2013-01-03  2         186.00       True         Quito  Pichincha   \n",
       "\n",
       "  holiday_type  transferred  class  dcoilwtico  \n",
       "0  Work Day     True         2502  93.14        \n",
       "1  Work Day     True         2502  93.14        \n",
       "2  Work Day     True         2502  93.14        \n",
       "3  Work Day     True         2502  92.97        \n",
       "4  Work Day     True         2502  92.97        "
      ]
     },
     "execution_count": 6,
     "metadata": {},
     "output_type": "execute_result"
    }
   ],
   "source": [
    "data = data.groupby(['date','store_nbr'] , as_index=False).agg(\n",
    "{\n",
    "    'unit_sales':sum,\n",
    "    'onpromotion':'first',\n",
    "    'city': 'first',\n",
    "    'state': 'first',\n",
    "    'holiday_type':'first',\n",
    "    'transferred':'first',\n",
    "    'class':'first',\n",
    "    'dcoilwtico':'first'\n",
    "}\n",
    ")\n",
    "data.head()"
   ]
  },
  {
   "cell_type": "code",
   "execution_count": 7,
   "metadata": {},
   "outputs": [],
   "source": [
    "data['date'] = pd.to_datetime(data['date'])"
   ]
  },
  {
   "cell_type": "markdown",
   "metadata": {},
   "source": [
    "## Split the data\n",
    "\n",
    "splitting on time."
   ]
  },
  {
   "cell_type": "code",
   "execution_count": 8,
   "metadata": {},
   "outputs": [],
   "source": [
    "target_column_name = 'unit_sales'\n",
    "time_column_name = 'date'\n",
    "grain_column_names = ['store_nbr']\n",
    "label =  \"unit_sales\""
   ]
  },
  {
   "cell_type": "code",
   "execution_count": 9,
   "metadata": {},
   "outputs": [
    {
     "name": "stdout",
     "output_type": "stream",
     "text": [
      "(5301, 9)\n",
      "(5301,)\n",
      "(904, 9)\n",
      "(904,)\n"
     ]
    }
   ],
   "source": [
    "train = data[data[time_column_name] < '2017-01-01']\n",
    "test = data[data[time_column_name] >= '2017-01-01']\n",
    "\n",
    "X_train = train.copy()\n",
    "y_train = X_train.pop(target_column_name).values\n",
    "\n",
    "X_test = test.copy()\n",
    "y_test = X_test.pop(target_column_name).values\n",
    "\n",
    "print(X_train.shape)\n",
    "print(y_train.shape)\n",
    "print(X_test.shape)\n",
    "print(y_test.shape)"
   ]
  },
  {
   "cell_type": "markdown",
   "metadata": {},
   "source": [
    "# set up experiment"
   ]
  },
  {
   "cell_type": "code",
   "execution_count": 13,
   "metadata": {},
   "outputs": [],
   "source": [
    "time_series_settings = {\n",
    "    \"time_column_name\": \"date\",\n",
    "    \"grain_column_names\":['store_nbr'],\n",
    "    \"max_horizon\": 50,\n",
    "    \"target_lags\": 2,\n",
    "    \"target_rolling_window_size\": 10,\n",
    "    \"preprocess\": True,\n",
    "}"
   ]
  },
  {
   "cell_type": "code",
   "execution_count": 14,
   "metadata": {},
   "outputs": [],
   "source": [
    "automl_config = AutoMLConfig(task='forecasting',\n",
    "                             primary_metric='normalized_root_mean_squared_error',\n",
    "                             experiment_timeout_minutes=15,\n",
    "                             enable_early_stopping=True,\n",
    "                             training_data=train,\n",
    "                             label_column_name=label,\n",
    "                             n_cross_validations=5,\n",
    "                             enable_ensembling=False,\n",
    "                             verbosity=logging.INFO,\n",
    "                             **time_series_settings)"
   ]
  },
  {
   "cell_type": "markdown",
   "metadata": {},
   "source": [
    "# run model and get best model"
   ]
  },
  {
   "cell_type": "code",
   "execution_count": null,
   "metadata": {},
   "outputs": [
    {
     "name": "stdout",
     "output_type": "stream",
     "text": [
      "Running on local machine\n",
      "Parent Run ID: AutoML_73ea83a8-ac93-4817-a3e0-39261666699f\n",
      "Current status: DatasetFeaturization. Beginning to featurize the dataset.\n",
      "Current status: DatasetFeaturizationCompleted. Completed featurizing the dataset.\n",
      "Current status: DatasetCrossValidationSplit. Generating individually featurized CV splits.\n",
      "Current status: DatasetFeaturization. Beginning to featurize the CV split.\n",
      "Current status: DatasetFeaturizationCompleted. Completed featurizing the CV split.\n",
      "Current status: DatasetFeaturization. Beginning to featurize the CV split.\n",
      "Current status: DatasetFeaturizationCompleted. Completed featurizing the CV split.\n",
      "Current status: DatasetFeaturization. Beginning to featurize the CV split.\n",
      "Current status: DatasetFeaturizationCompleted. Completed featurizing the CV split.\n",
      "Current status: DatasetFeaturization. Beginning to featurize the CV split.\n",
      "Current status: DatasetFeaturizationCompleted. Completed featurizing the CV split.\n",
      "Current status: DatasetFeaturization. Beginning to featurize the CV split.\n",
      "Current status: DatasetFeaturizationCompleted. Completed featurizing the CV split.\n",
      "\n",
      "****************************************************************************************************\n",
      "DATA GUARDRAILS SUMMARY:\n",
      "For more details, use API: run.get_guardrails()\n",
      "\n",
      "TYPE:         Memory Issues Detection\n",
      "STATUS:       PASSED\n",
      "DESCRIPTION:  The selected horizon, lag and rolling window values were analyzed, and no potential memory issues were detected.\n",
      "\n",
      "****************************************************************************************************\n",
      "Current status: ModelSelection. Beginning model selection.\n",
      "\n",
      "****************************************************************************************************\n",
      "ITERATION: The iteration being evaluated.\n",
      "PIPELINE: A summary description of the pipeline being evaluated.\n",
      "DURATION: Time taken for the current iteration.\n",
      "METRIC: The result of computing score on the fitted pipeline.\n",
      "BEST: The best observed score thus far.\n",
      "****************************************************************************************************\n",
      "\n",
      " ITERATION   PIPELINE                                       DURATION      METRIC      BEST\n",
      "         0   "
     ]
    }
   ],
   "source": [
    "local_run = experiment.submit(automl_config, show_output=True)\n"
   ]
  },
  {
   "cell_type": "markdown",
   "metadata": {},
   "source": [
    "### view local run summary"
   ]
  },
  {
   "cell_type": "code",
   "execution_count": 15,
   "metadata": {},
   "outputs": [
    {
     "data": {
      "text/html": [
       "<table style=\"width:100%\"><tr><th>Experiment</th><th>Id</th><th>Type</th><th>Status</th><th>Details Page</th><th>Docs Page</th></tr><tr><td>automl-saleforecasting</td><td>AutoML_0ace7e86-b189-45bc-92e1-b9b581c0bbab</td><td>automl</td><td>Running</td><td><a href=\"https://ml.azure.com/experiments/automl-saleforecasting/runs/AutoML_0ace7e86-b189-45bc-92e1-b9b581c0bbab?wsid=/subscriptions/d6697b5a-c497-42c0-9d09-749855c5c4bd/resourcegroups/capstone/workspaces/capstone-ml\" target=\"_blank\" rel=\"noopener\">Link to Azure Machine Learning studio</a></td><td><a href=\"https://docs.microsoft.com/en-us/python/api/overview/azure/ml/intro?view=azure-ml-py\" target=\"_blank\" rel=\"noopener\">Link to Documentation</a></td></tr></table>"
      ],
      "text/plain": [
       "Run(Experiment: automl-saleforecasting,\n",
       "Id: AutoML_0ace7e86-b189-45bc-92e1-b9b581c0bbab,\n",
       "Type: automl,\n",
       "Status: Running)"
      ]
     },
     "execution_count": 15,
     "metadata": {},
     "output_type": "execute_result"
    }
   ],
   "source": [
    "local_run"
   ]
  },
  {
   "cell_type": "markdown",
   "metadata": {},
   "source": [
    "## get best model"
   ]
  },
  {
   "cell_type": "code",
   "execution_count": 49,
   "metadata": {},
   "outputs": [
    {
     "data": {
      "text/plain": [
       "ForecastingPipelineWrapper(pipeline=Pipeline(memory=None,\n",
       "     steps=[('timeseriestransformer', TimeSeriesTransformer(logger=None,\n",
       "           pipeline_type=<TimeSeriesPipelineType.FULL: 1>)), ('stackensembleregressor', StackEnsembleRegressor(base_learners=[('26', Pipeline(memory=None,\n",
       "     steps=[('maxabsscaler', MaxAbsScaler(copy=True)), ('extratreesregressor'...   random_state=None, selection='cyclic', tol=0.0001, verbose=0),\n",
       "            training_cv_folds=5))]),\n",
       "              stddev=None)"
      ]
     },
     "execution_count": 49,
     "metadata": {},
     "output_type": "execute_result"
    }
   ],
   "source": [
    "best_run, fitted_model = local_run.get_output()\n",
    "fitted_model"
   ]
  },
  {
   "cell_type": "markdown",
   "metadata": {},
   "source": [
    "# monitoring runs"
   ]
  },
  {
   "cell_type": "code",
   "execution_count": 17,
   "metadata": {},
   "outputs": [
    {
     "data": {
      "application/vnd.jupyter.widget-view+json": {
       "model_id": "019ad53580204b7a9d3a14ac56be8a33",
       "version_major": 2,
       "version_minor": 0
      },
      "text/plain": [
       "_AutoMLWidget(widget_settings={'childWidgetDisplay': 'popup', 'send_telemetry': False, 'log_level': 'INFO', 's…"
      ]
     },
     "metadata": {},
     "output_type": "display_data"
    },
    {
     "data": {
      "application/aml.mini.widget.v1": "{\"status\": \"Completed\", \"workbench_run_details_uri\": \"https://ml.azure.com/experiments/automl-saleforecasting/runs/AutoML_0ace7e86-b189-45bc-92e1-b9b581c0bbab?wsid=/subscriptions/d6697b5a-c497-42c0-9d09-749855c5c4bd/resourcegroups/capstone/workspaces/capstone-ml\", \"run_id\": \"AutoML_0ace7e86-b189-45bc-92e1-b9b581c0bbab\", \"run_properties\": {\"run_id\": \"AutoML_0ace7e86-b189-45bc-92e1-b9b581c0bbab\", \"created_utc\": \"2019-11-14T04:05:31.888151Z\", \"properties\": {\"num_iterations\": \"1000\", \"training_type\": \"TrainFull\", \"acquisition_function\": \"EI\", \"primary_metric\": \"normalized_root_mean_squared_error\", \"train_split\": \"0\", \"MaxTimeSeconds\": \"0\", \"acquisition_parameter\": \"0\", \"num_cross_validation\": \"5\", \"target\": \"local\", \"RawAMLSettingsString\": \"{'name': 'automl-saleforecasting', 'path': '.', 'subscription_id': 'd6697b5a-c497-42c0-9d09-749855c5c4bd', 'resource_group': 'capstone', 'workspace_name': 'capstone-ml', 'region': 'westus2', 'compute_target': 'local', 'spark_service': None, 'azure_service': None, 'iterations': 1000, 'primary_metric': 'normalized_root_mean_squared_error', 'task_type': 'regression', 'data_script': None, 'validation_size': 0.0, 'n_cross_validations': 5, 'y_min': 90, 'y_max': 700, 'num_classes': None, 'featurization': 'auto', 'preprocess': True, 'lag_length': 0, 'is_timeseries': True, 'max_cores_per_iteration': 1, 'max_concurrent_iterations': 1, 'iteration_timeout_minutes': None, 'mem_in_mb': None, 'enforce_time_on_windows': False, 'experiment_timeout_minutes': 15, 'experiment_exit_score': None, 'whitelist_models': None, 'blacklist_algos': ['XGBoostRegressor', 'Prophet'], 'supported_models': ['ElasticNet', 'GradientBoosting', 'DecisionTree', 'KNN', 'LassoLars', 'SGD', 'RandomForest', 'ExtremeRandomTrees', 'LightGBM', 'XGBoostRegressor', 'FastLinearRegressor', 'OnlineGradientDescentRegressor', 'TensorFlowLinearRegressor', 'TensorFlowDNN', 'AutoArima', 'Prophet', 'TCNForecaster'], 'auto_blacklist': True, 'blacklist_samples_reached': False, 'exclude_nan_labels': True, 'verbosity': 20, 'debug_log': 'automl.log', 'show_warnings': False, 'model_explainability': False, 'service_url': None, 'sdk_url': None, 'sdk_packages': None, 'enable_onnx_compatible_models': False, 'enable_split_onnx_featurizer_estimator_models': False, 'vm_type': None, 'telemetry_verbosity': 'INFO', 'send_telemetry': True, 'enable_dnn': False, 'enable_feature_sweeping': False, 'time_column_name': 'date', 'grain_column_names': None, 'drop_column_names': None, 'max_horizon': 50, 'dropna': False, 'overwrite_columns': True, 'transform_dictionary': {'min': '_automl_target_col', 'max': '_automl_target_col', 'mean': '_automl_target_col'}, 'window_size': 10, 'country_or_region': None, 'lags': {'_automl_target_col': [2]}, 'seasonality': -1, 'use_stl': None, 'short_series_handling': False, 'enable_early_stopping': True, 'early_stopping_n_iters': 10, 'metrics': None, 'enable_ensembling': False, 'enable_stack_ensembling': True, 'ensemble_iterations': 15, 'enable_tf': False, 'enable_cache': True, 'enable_subsampling': False, 'subsample_seed': None, 'enable_nimbusml': False, 'enable_streaming': False, 'label_column_name': 'unit_sales', 'weight_column_name': None, 'cost_mode': 0, 'metric_operation': 'minimize'}\", \"AMLSettingsJsonString\": \"{\\\"name\\\":\\\"automl-saleforecasting\\\",\\\"path\\\":\\\".\\\",\\\"subscription_id\\\":\\\"d6697b5a-c497-42c0-9d09-749855c5c4bd\\\",\\\"resource_group\\\":\\\"capstone\\\",\\\"workspace_name\\\":\\\"capstone-ml\\\",\\\"region\\\":\\\"westus2\\\",\\\"compute_target\\\":\\\"local\\\",\\\"spark_service\\\":null,\\\"azure_service\\\":null,\\\"iterations\\\":1000,\\\"primary_metric\\\":\\\"normalized_root_mean_squared_error\\\",\\\"task_type\\\":\\\"regression\\\",\\\"data_script\\\":null,\\\"validation_size\\\":0.0,\\\"n_cross_validations\\\":5,\\\"y_min\\\":90,\\\"y_max\\\":700,\\\"num_classes\\\":null,\\\"featurization\\\":\\\"auto\\\",\\\"preprocess\\\":true,\\\"lag_length\\\":0,\\\"is_timeseries\\\":true,\\\"max_cores_per_iteration\\\":1,\\\"max_concurrent_iterations\\\":1,\\\"iteration_timeout_minutes\\\":null,\\\"mem_in_mb\\\":null,\\\"enforce_time_on_windows\\\":false,\\\"experiment_timeout_minutes\\\":15,\\\"experiment_exit_score\\\":null,\\\"whitelist_models\\\":null,\\\"blacklist_algos\\\":[\\\"XGBoostRegressor\\\",\\\"Prophet\\\",\\\"AutoArima\\\"],\\\"supported_models\\\":[\\\"ElasticNet\\\",\\\"GradientBoosting\\\",\\\"DecisionTree\\\",\\\"KNN\\\",\\\"LassoLars\\\",\\\"SGD\\\",\\\"RandomForest\\\",\\\"ExtremeRandomTrees\\\",\\\"LightGBM\\\",\\\"XGBoostRegressor\\\",\\\"FastLinearRegressor\\\",\\\"OnlineGradientDescentRegressor\\\",\\\"TensorFlowLinearRegressor\\\",\\\"TensorFlowDNN\\\",\\\"AutoArima\\\",\\\"Prophet\\\",\\\"TCNForecaster\\\"],\\\"auto_blacklist\\\":true,\\\"blacklist_samples_reached\\\":false,\\\"exclude_nan_labels\\\":true,\\\"verbosity\\\":20,\\\"debug_log\\\":\\\"automl.log\\\",\\\"show_warnings\\\":false,\\\"model_explainability\\\":false,\\\"service_url\\\":null,\\\"sdk_url\\\":null,\\\"sdk_packages\\\":null,\\\"enable_onnx_compatible_models\\\":false,\\\"enable_split_onnx_featurizer_estimator_models\\\":false,\\\"vm_type\\\":null,\\\"telemetry_verbosity\\\":\\\"INFO\\\",\\\"send_telemetry\\\":true,\\\"enable_dnn\\\":false,\\\"enable_feature_sweeping\\\":false,\\\"time_column_name\\\":\\\"date\\\",\\\"grain_column_names\\\":null,\\\"drop_column_names\\\":null,\\\"max_horizon\\\":50,\\\"dropna\\\":false,\\\"overwrite_columns\\\":true,\\\"transform_dictionary\\\":{\\\"min\\\":\\\"_automl_target_col\\\",\\\"max\\\":\\\"_automl_target_col\\\",\\\"mean\\\":\\\"_automl_target_col\\\"},\\\"window_size\\\":10,\\\"country_or_region\\\":null,\\\"lags\\\":{\\\"_automl_target_col\\\":[2]},\\\"seasonality\\\":-1,\\\"use_stl\\\":null,\\\"short_series_handling\\\":false,\\\"enable_early_stopping\\\":true,\\\"early_stopping_n_iters\\\":10,\\\"metrics\\\":null,\\\"enable_ensembling\\\":false,\\\"enable_stack_ensembling\\\":true,\\\"ensemble_iterations\\\":15,\\\"enable_tf\\\":false,\\\"enable_cache\\\":true,\\\"enable_subsampling\\\":false,\\\"subsample_seed\\\":null,\\\"enable_nimbusml\\\":false,\\\"enable_streaming\\\":false,\\\"label_column_name\\\":\\\"unit_sales\\\",\\\"weight_column_name\\\":null,\\\"cost_mode\\\":0,\\\"metric_operation\\\":\\\"minimize\\\"}\", \"DataPrepJsonString\": null, \"EnableSubsampling\": \"False\", \"runTemplate\": \"AutoML\", \"azureml.runsource\": \"automl\", \"display_task_type\": \"forecasting\", \"dependencies_versions\": \"{\\\"azureml-widgets\\\": \\\"1.0.72\\\", \\\"azureml-train\\\": \\\"1.0.72\\\", \\\"azureml-train-restclients-hyperdrive\\\": \\\"1.0.72\\\", \\\"azureml-train-core\\\": \\\"1.0.72\\\", \\\"azureml-train-automl\\\": \\\"1.0.72\\\", \\\"azureml-tensorboard\\\": \\\"1.0.72\\\", \\\"azureml-telemetry\\\": \\\"1.0.72\\\", \\\"azureml-sdk\\\": \\\"1.0.72\\\", \\\"azureml-samples\\\": \\\"0+unknown\\\", \\\"azureml-pipeline\\\": \\\"1.0.72\\\", \\\"azureml-pipeline-steps\\\": \\\"1.0.72\\\", \\\"azureml-pipeline-core\\\": \\\"1.0.72\\\", \\\"azureml-opendatasets\\\": \\\"1.0.72\\\", \\\"azureml-model-management-sdk\\\": \\\"1.0.1b6.post1\\\", \\\"azureml-interpret\\\": \\\"1.0.72.1\\\", \\\"azureml-explain-model\\\": \\\"1.0.72\\\", \\\"azureml-defaults\\\": \\\"1.0.72\\\", \\\"azureml-dataprep\\\": \\\"1.1.29\\\", \\\"azureml-dataprep-native\\\": \\\"13.1.0\\\", \\\"azureml-datadrift\\\": \\\"1.0.72\\\", \\\"azureml-core\\\": \\\"1.0.72\\\", \\\"azureml-contrib-services\\\": \\\"1.0.72\\\", \\\"azureml-contrib-server\\\": \\\"1.0.72\\\", \\\"azureml-contrib-reinforcementlearning\\\": \\\"0.1.0.5919674\\\", \\\"azureml-contrib-opendatasets\\\": \\\"1.0.45\\\", \\\"azureml-contrib-notebook\\\": \\\"1.0.72\\\", \\\"azureml-contrib-interpret\\\": \\\"1.0.72\\\", \\\"azureml-contrib-datadrift\\\": \\\"1.0.72\\\", \\\"azureml-automl-core\\\": \\\"1.0.72.1\\\"}\", \"ProblemInfoJsonString\": \"{\\\"dataset_num_categorical\\\": 0, \\\"is_sparse\\\": false, \\\"subsampling\\\": false, \\\"dataset_classes\\\": 288, \\\"dataset_features\\\": 22, \\\"dataset_samples\\\": 70925, \\\"single_frequency_class_detected\\\": false}\"}, \"tags\": {\"model_explain_run\": \"best_run\", \"experiment_status\": \"ModelSelection\", \"experiment_status_descr\": \"Beginning model selection.\", \"dynamic_whitelisting_iterations\": \"<20>;<25>;<30>;<35>;\"}, \"end_time_utc\": \"2019-11-14T04:20:02.902295Z\", \"status\": \"Completed\", \"log_files\": {}, \"log_groups\": [], \"run_duration\": \"0:14:31\"}, \"child_runs\": [{\"run_id\": \"AutoML_0ace7e86-b189-45bc-92e1-b9b581c0bbab_0\", \"run_number\": 33, \"metric\": null, \"status\": \"Completed\", \"run_type\": null, \"training_percent\": \"100\", \"start_time\": \"2019-11-14T04:05:54.451364Z\", \"end_time\": \"2019-11-14T04:06:08.290847Z\", \"created_time\": \"2019-11-14T04:05:54.375725Z\", \"created_time_dt\": \"2019-11-14T04:05:54.375725Z\", \"duration\": \"0:00:13\", \"iteration\": \"0\", \"goal\": \"normalized_root_mean_squared_error_min\", \"run_name\": \"RobustScaler, ElasticNet\", \"run_properties\": \"copy=True, quantile_range=[25, 75], with_centering=True,\\n       with_scaling=False\", \"primary_metric\": 0.08252714, \"best_metric\": 0.08252714}, {\"run_id\": \"AutoML_0ace7e86-b189-45bc-92e1-b9b581c0bbab_1\", \"run_number\": 34, \"metric\": null, \"status\": \"Completed\", \"run_type\": null, \"training_percent\": \"100\", \"start_time\": \"2019-11-14T04:06:09.690604Z\", \"end_time\": \"2019-11-14T04:06:24.776424Z\", \"created_time\": \"2019-11-14T04:06:09.594188Z\", \"created_time_dt\": \"2019-11-14T04:06:09.594188Z\", \"duration\": \"0:00:15\", \"iteration\": \"1\", \"goal\": \"normalized_root_mean_squared_error_min\", \"run_name\": \"StandardScalerWrapper, ElasticNet\", \"run_properties\": \"<automl.client.core.runtime.model_wrappers.StandardScalerWrapper object at 0x7ff327eb2908\", \"primary_metric\": 0.08177363, \"best_metric\": 0.08177363}, {\"run_id\": \"AutoML_0ace7e86-b189-45bc-92e1-b9b581c0bbab_2\", \"run_number\": 35, \"metric\": null, \"status\": \"Completed\", \"run_type\": null, \"training_percent\": \"100\", \"start_time\": \"2019-11-14T04:06:25.991278Z\", \"end_time\": \"2019-11-14T04:06:46.096051Z\", \"created_time\": \"2019-11-14T04:06:25.913668Z\", \"created_time_dt\": \"2019-11-14T04:06:25.913668Z\", \"duration\": \"0:00:20\", \"iteration\": \"2\", \"goal\": \"normalized_root_mean_squared_error_min\", \"run_name\": \"StandardScalerWrapper, ElasticNet\", \"run_properties\": \"<automl.client.core.runtime.model_wrappers.StandardScalerWrapper object at 0x7ff35037fcf8\", \"primary_metric\": 0.08177215, \"best_metric\": 0.08177215}, {\"run_id\": \"AutoML_0ace7e86-b189-45bc-92e1-b9b581c0bbab_3\", \"run_number\": 36, \"metric\": null, \"status\": \"Completed\", \"run_type\": null, \"training_percent\": \"100\", \"start_time\": \"2019-11-14T04:06:48.563919Z\", \"end_time\": \"2019-11-14T04:07:08.762513Z\", \"created_time\": \"2019-11-14T04:06:48.433117Z\", \"created_time_dt\": \"2019-11-14T04:06:48.433117Z\", \"duration\": \"0:00:20\", \"iteration\": \"3\", \"goal\": \"normalized_root_mean_squared_error_min\", \"run_name\": \"StandardScalerWrapper, RandomForest\", \"run_properties\": \"<automl.client.core.runtime.model_wrappers.StandardScalerWrapper object at 0x7ff3504816a0\", \"primary_metric\": 0.0533739, \"best_metric\": 0.0533739}, {\"run_id\": \"AutoML_0ace7e86-b189-45bc-92e1-b9b581c0bbab_4\", \"run_number\": 37, \"metric\": null, \"status\": \"Completed\", \"run_type\": null, \"training_percent\": \"100\", \"start_time\": \"2019-11-14T04:07:10.135099Z\", \"end_time\": \"2019-11-14T04:07:28.883528Z\", \"created_time\": \"2019-11-14T04:07:10.050036Z\", \"created_time_dt\": \"2019-11-14T04:07:10.050036Z\", \"duration\": \"0:00:18\", \"iteration\": \"4\", \"goal\": \"normalized_root_mean_squared_error_min\", \"run_name\": \"StandardScalerWrapper, LightGBM\", \"run_properties\": \"<automl.client.core.runtime.model_wrappers.StandardScalerWrapper object at 0x7ff327ebfeb8\", \"primary_metric\": 0.04568992, \"best_metric\": 0.04568992}, {\"run_id\": \"AutoML_0ace7e86-b189-45bc-92e1-b9b581c0bbab_5\", \"run_number\": 38, \"metric\": null, \"status\": \"Completed\", \"run_type\": null, \"training_percent\": \"100\", \"start_time\": \"2019-11-14T04:07:30.178983Z\", \"end_time\": \"2019-11-14T04:07:44.919446Z\", \"created_time\": \"2019-11-14T04:07:30.083722Z\", \"created_time_dt\": \"2019-11-14T04:07:30.083722Z\", \"duration\": \"0:00:14\", \"iteration\": \"5\", \"goal\": \"normalized_root_mean_squared_error_min\", \"run_name\": \"StandardScalerWrapper, LassoLars\", \"run_properties\": \"<automl.client.core.runtime.model_wrappers.StandardScalerWrapper object at 0x7ff3502e3198\", \"primary_metric\": 0.08203856, \"best_metric\": 0.04568992}, {\"run_id\": \"AutoML_0ace7e86-b189-45bc-92e1-b9b581c0bbab_6\", \"run_number\": 39, \"metric\": null, \"status\": \"Completed\", \"run_type\": null, \"training_percent\": \"100\", \"start_time\": \"2019-11-14T04:07:46.235745Z\", \"end_time\": \"2019-11-14T04:08:02.581078Z\", \"created_time\": \"2019-11-14T04:07:46.152231Z\", \"created_time_dt\": \"2019-11-14T04:07:46.152231Z\", \"duration\": \"0:00:16\", \"iteration\": \"6\", \"goal\": \"normalized_root_mean_squared_error_min\", \"run_name\": \"MinMaxScaler, DecisionTree\", \"run_properties\": \"copy=True, feature_range=(0, 1\", \"primary_metric\": 0.04597944, \"best_metric\": 0.04568992}, {\"run_id\": \"AutoML_0ace7e86-b189-45bc-92e1-b9b581c0bbab_7\", \"run_number\": 40, \"metric\": null, \"status\": \"Completed\", \"run_type\": null, \"training_percent\": \"100\", \"start_time\": \"2019-11-14T04:08:04.032618Z\", \"end_time\": \"2019-11-14T04:08:23.587888Z\", \"created_time\": \"2019-11-14T04:08:03.922537Z\", \"created_time_dt\": \"2019-11-14T04:08:03.922537Z\", \"duration\": \"0:00:19\", \"iteration\": \"7\", \"goal\": \"normalized_root_mean_squared_error_min\", \"run_name\": \"MaxAbsScaler, RandomForest\", \"run_properties\": \"copy=True\", \"primary_metric\": 0.04708232, \"best_metric\": 0.04568992}, {\"run_id\": \"AutoML_0ace7e86-b189-45bc-92e1-b9b581c0bbab_8\", \"run_number\": 41, \"metric\": null, \"status\": \"Completed\", \"run_type\": null, \"training_percent\": \"100\", \"start_time\": \"2019-11-14T04:08:24.715516Z\", \"end_time\": \"2019-11-14T04:08:39.460279Z\", \"created_time\": \"2019-11-14T04:08:24.634156Z\", \"created_time_dt\": \"2019-11-14T04:08:24.634156Z\", \"duration\": \"0:00:14\", \"iteration\": \"8\", \"goal\": \"normalized_root_mean_squared_error_min\", \"run_name\": \"MaxAbsScaler, DecisionTree\", \"run_properties\": \"copy=True\", \"primary_metric\": 0.05188984, \"best_metric\": 0.04568992}, {\"run_id\": \"AutoML_0ace7e86-b189-45bc-92e1-b9b581c0bbab_9\", \"run_number\": 42, \"metric\": null, \"status\": \"Completed\", \"run_type\": null, \"training_percent\": \"100\", \"start_time\": \"2019-11-14T04:08:40.594286Z\", \"end_time\": \"2019-11-14T04:08:56.619507Z\", \"created_time\": \"2019-11-14T04:08:40.520178Z\", \"created_time_dt\": \"2019-11-14T04:08:40.520178Z\", \"duration\": \"0:00:16\", \"iteration\": \"9\", \"goal\": \"normalized_root_mean_squared_error_min\", \"run_name\": \"MinMaxScaler, DecisionTree\", \"run_properties\": \"copy=True, feature_range=(0, 1\", \"primary_metric\": 0.04467873, \"best_metric\": 0.04467873}, {\"run_id\": \"AutoML_0ace7e86-b189-45bc-92e1-b9b581c0bbab_10\", \"run_number\": 43, \"metric\": null, \"status\": \"Completed\", \"run_type\": null, \"training_percent\": \"100\", \"start_time\": \"2019-11-14T04:08:57.828669Z\", \"end_time\": \"2019-11-14T04:09:13.645208Z\", \"created_time\": \"2019-11-14T04:08:57.736762Z\", \"created_time_dt\": \"2019-11-14T04:08:57.736762Z\", \"duration\": \"0:00:15\", \"iteration\": \"10\", \"goal\": \"normalized_root_mean_squared_error_min\", \"run_name\": \"StandardScalerWrapper, ElasticNet\", \"run_properties\": \"<automl.client.core.runtime.model_wrappers.StandardScalerWrapper object at 0x7ff3502dc1d0\", \"primary_metric\": 0.08203761, \"best_metric\": 0.04467873}, {\"run_id\": \"AutoML_0ace7e86-b189-45bc-92e1-b9b581c0bbab_11\", \"run_number\": 44, \"metric\": null, \"status\": \"Completed\", \"run_type\": null, \"training_percent\": \"100\", \"start_time\": \"2019-11-14T04:09:15.219367Z\", \"end_time\": \"2019-11-14T04:09:32.12134Z\", \"created_time\": \"2019-11-14T04:09:15.089933Z\", \"created_time_dt\": \"2019-11-14T04:09:15.089933Z\", \"duration\": \"0:00:17\", \"iteration\": \"11\", \"goal\": \"normalized_root_mean_squared_error_min\", \"run_name\": \"StandardScalerWrapper, DecisionTree\", \"run_properties\": \"<automl.client.core.runtime.model_wrappers.StandardScalerWrapper object at 0x7ff3503059e8\", \"primary_metric\": 0.04270456, \"best_metric\": 0.04270456}, {\"run_id\": \"AutoML_0ace7e86-b189-45bc-92e1-b9b581c0bbab_12\", \"run_number\": 45, \"metric\": null, \"status\": \"Completed\", \"run_type\": null, \"training_percent\": \"100\", \"start_time\": \"2019-11-14T04:09:33.135603Z\", \"end_time\": \"2019-11-14T04:09:49.156714Z\", \"created_time\": \"2019-11-14T04:09:33.029363Z\", \"created_time_dt\": \"2019-11-14T04:09:33.029363Z\", \"duration\": \"0:00:16\", \"iteration\": \"12\", \"goal\": \"normalized_root_mean_squared_error_min\", \"run_name\": \"MinMaxScaler, ExtremeRandomTrees\", \"run_properties\": \"copy=True, feature_range=(0, 1\", \"primary_metric\": 0.0383974, \"best_metric\": 0.0383974}, {\"run_id\": \"AutoML_0ace7e86-b189-45bc-92e1-b9b581c0bbab_13\", \"run_number\": 46, \"metric\": null, \"status\": \"Completed\", \"run_type\": null, \"training_percent\": \"100\", \"start_time\": \"2019-11-14T04:09:50.350383Z\", \"end_time\": \"2019-11-14T04:10:05.702083Z\", \"created_time\": \"2019-11-14T04:09:50.242902Z\", \"created_time_dt\": \"2019-11-14T04:09:50.242902Z\", \"duration\": \"0:00:15\", \"iteration\": \"13\", \"goal\": \"normalized_root_mean_squared_error_min\", \"run_name\": \"MinMaxScaler, ExtremeRandomTrees\", \"run_properties\": \"copy=True, feature_range=(0, 1\", \"primary_metric\": 0.04797012, \"best_metric\": 0.0383974}, {\"run_id\": \"AutoML_0ace7e86-b189-45bc-92e1-b9b581c0bbab_14\", \"run_number\": 47, \"metric\": null, \"status\": \"Completed\", \"run_type\": null, \"training_percent\": \"100\", \"start_time\": \"2019-11-14T04:10:06.891516Z\", \"end_time\": \"2019-11-14T04:10:24.222877Z\", \"created_time\": \"2019-11-14T04:10:06.817237Z\", \"created_time_dt\": \"2019-11-14T04:10:06.817237Z\", \"duration\": \"0:00:17\", \"iteration\": \"14\", \"goal\": \"normalized_root_mean_squared_error_min\", \"run_name\": \"StandardScalerWrapper, ElasticNet\", \"run_properties\": \"<automl.client.core.runtime.model_wrappers.StandardScalerWrapper object at 0x7ff350373748\", \"primary_metric\": 0.08207284, \"best_metric\": 0.0383974}, {\"run_id\": \"AutoML_0ace7e86-b189-45bc-92e1-b9b581c0bbab_15\", \"run_number\": 48, \"metric\": null, \"status\": \"Completed\", \"run_type\": null, \"training_percent\": \"100\", \"start_time\": \"2019-11-14T04:10:25.605356Z\", \"end_time\": \"2019-11-14T04:10:42.45429Z\", \"created_time\": \"2019-11-14T04:10:25.508579Z\", \"created_time_dt\": \"2019-11-14T04:10:25.508579Z\", \"duration\": \"0:00:16\", \"iteration\": \"15\", \"goal\": \"normalized_root_mean_squared_error_min\", \"run_name\": \"StandardScalerWrapper, ElasticNet\", \"run_properties\": \"<automl.client.core.runtime.model_wrappers.StandardScalerWrapper object at 0x7ff3388e41d0\", \"primary_metric\": 0.08190095, \"best_metric\": 0.0383974}, {\"run_id\": \"AutoML_0ace7e86-b189-45bc-92e1-b9b581c0bbab_16\", \"run_number\": 49, \"metric\": null, \"status\": \"Completed\", \"run_type\": null, \"training_percent\": \"100\", \"start_time\": \"2019-11-14T04:10:43.866961Z\", \"end_time\": \"2019-11-14T04:10:59.525652Z\", \"created_time\": \"2019-11-14T04:10:43.688684Z\", \"created_time_dt\": \"2019-11-14T04:10:43.688684Z\", \"duration\": \"0:00:15\", \"iteration\": \"16\", \"goal\": \"normalized_root_mean_squared_error_min\", \"run_name\": \"StandardScalerWrapper, ElasticNet\", \"run_properties\": \"<automl.client.core.runtime.model_wrappers.StandardScalerWrapper object at 0x7ff338299e10\", \"primary_metric\": 0.08193601, \"best_metric\": 0.0383974}, {\"run_id\": \"AutoML_0ace7e86-b189-45bc-92e1-b9b581c0bbab_17\", \"run_number\": 50, \"metric\": null, \"status\": \"Completed\", \"run_type\": null, \"training_percent\": \"100\", \"start_time\": \"2019-11-14T04:11:01.42143Z\", \"end_time\": \"2019-11-14T04:11:17.12755Z\", \"created_time\": \"2019-11-14T04:11:01.191737Z\", \"created_time_dt\": \"2019-11-14T04:11:01.191737Z\", \"duration\": \"0:00:15\", \"iteration\": \"17\", \"goal\": \"normalized_root_mean_squared_error_min\", \"run_name\": \"StandardScalerWrapper, ElasticNet\", \"run_properties\": \"<automl.client.core.runtime.model_wrappers.StandardScalerWrapper object at 0x7ff35036c518\", \"primary_metric\": 0.08225054, \"best_metric\": 0.0383974}, {\"run_id\": \"AutoML_0ace7e86-b189-45bc-92e1-b9b581c0bbab_18\", \"run_number\": 51, \"metric\": null, \"status\": \"Completed\", \"run_type\": null, \"training_percent\": \"100\", \"start_time\": \"2019-11-14T04:11:19.234191Z\", \"end_time\": \"2019-11-14T04:11:38.862004Z\", \"created_time\": \"2019-11-14T04:11:18.966055Z\", \"created_time_dt\": \"2019-11-14T04:11:18.966055Z\", \"duration\": \"0:00:19\", \"iteration\": \"18\", \"goal\": \"normalized_root_mean_squared_error_min\", \"run_name\": \"StandardScalerWrapper, LightGBM\", \"run_properties\": \"<automl.client.core.runtime.model_wrappers.StandardScalerWrapper object at 0x7ff35036ae10\", \"primary_metric\": 0.04658523, \"best_metric\": 0.0383974}, {\"run_id\": \"AutoML_0ace7e86-b189-45bc-92e1-b9b581c0bbab_19\", \"run_number\": 52, \"metric\": null, \"status\": \"Completed\", \"run_type\": null, \"training_percent\": \"100\", \"start_time\": \"2019-11-14T04:11:40.139772Z\", \"end_time\": \"2019-11-14T04:11:55.113398Z\", \"created_time\": \"2019-11-14T04:11:40.041092Z\", \"created_time_dt\": \"2019-11-14T04:11:40.041092Z\", \"duration\": \"0:00:15\", \"iteration\": \"19\", \"goal\": \"normalized_root_mean_squared_error_min\", \"run_name\": \"MinMaxScaler, DecisionTree\", \"run_properties\": \"copy=True, feature_range=(0, 1\", \"primary_metric\": 0.04756262, \"best_metric\": 0.0383974}, {\"run_id\": \"AutoML_0ace7e86-b189-45bc-92e1-b9b581c0bbab_20\", \"run_number\": 53, \"metric\": null, \"status\": \"Completed\", \"run_type\": null, \"training_percent\": \"100\", \"start_time\": \"2019-11-14T04:11:57.790995Z\", \"end_time\": \"2019-11-14T04:12:17.700249Z\", \"created_time\": \"2019-11-14T04:11:57.628741Z\", \"created_time_dt\": \"2019-11-14T04:11:57.628741Z\", \"duration\": \"0:00:20\", \"iteration\": \"20\", \"goal\": \"normalized_root_mean_squared_error_min\", \"run_name\": \"MaxAbsScaler, ExtremeRandomTrees\", \"run_properties\": \"copy=True\", \"primary_metric\": 0.07021507, \"best_metric\": 0.0383974}, {\"run_id\": \"AutoML_0ace7e86-b189-45bc-92e1-b9b581c0bbab_21\", \"run_number\": 54, \"metric\": null, \"status\": \"Completed\", \"run_type\": null, \"training_percent\": \"100\", \"start_time\": \"2019-11-14T04:12:20.426318Z\", \"end_time\": \"2019-11-14T04:12:50.669381Z\", \"created_time\": \"2019-11-14T04:12:20.250858Z\", \"created_time_dt\": \"2019-11-14T04:12:20.250858Z\", \"duration\": \"0:00:30\", \"iteration\": \"21\", \"goal\": \"normalized_root_mean_squared_error_min\", \"run_name\": \"MinMaxScaler, RandomForest\", \"run_properties\": \"copy=True, feature_range=(0, 1\", \"primary_metric\": 0.04057776, \"best_metric\": 0.0383974}, {\"run_id\": \"AutoML_0ace7e86-b189-45bc-92e1-b9b581c0bbab_22\", \"run_number\": 55, \"metric\": null, \"status\": \"Completed\", \"run_type\": null, \"training_percent\": \"100\", \"start_time\": \"2019-11-14T04:12:53.231696Z\", \"end_time\": \"2019-11-14T04:13:34.267965Z\", \"created_time\": \"2019-11-14T04:12:53.127196Z\", \"created_time_dt\": \"2019-11-14T04:12:53.127196Z\", \"duration\": \"0:00:41\", \"iteration\": \"22\", \"goal\": \"normalized_root_mean_squared_error_min\", \"run_name\": \"TruncatedSVDWrapper, ElasticNet\", \"run_properties\": \"n_components=0.95, random_state=None\", \"primary_metric\": 0.08161913, \"best_metric\": 0.0383974}, {\"run_id\": \"AutoML_0ace7e86-b189-45bc-92e1-b9b581c0bbab_23\", \"run_number\": 56, \"metric\": null, \"status\": \"Completed\", \"run_type\": null, \"training_percent\": \"100\", \"start_time\": \"2019-11-14T04:13:36.779698Z\", \"end_time\": \"2019-11-14T04:13:56.471239Z\", \"created_time\": \"2019-11-14T04:13:36.627474Z\", \"created_time_dt\": \"2019-11-14T04:13:36.627474Z\", \"duration\": \"0:00:19\", \"iteration\": \"23\", \"goal\": \"normalized_root_mean_squared_error_min\", \"run_name\": \"StandardScalerWrapper, LightGBM\", \"run_properties\": \"<automl.client.core.runtime.model_wrappers.StandardScalerWrapper object at 0x7ff3389070f0\", \"primary_metric\": 0.04147091, \"best_metric\": 0.0383974}, {\"run_id\": \"AutoML_0ace7e86-b189-45bc-92e1-b9b581c0bbab_24\", \"run_number\": 57, \"metric\": null, \"status\": \"Completed\", \"run_type\": null, \"training_percent\": \"100\", \"start_time\": \"2019-11-14T04:13:59.530757Z\", \"end_time\": \"2019-11-14T04:14:14.084531Z\", \"created_time\": \"2019-11-14T04:13:59.433585Z\", \"created_time_dt\": \"2019-11-14T04:13:59.433585Z\", \"duration\": \"0:00:14\", \"iteration\": \"24\", \"goal\": \"normalized_root_mean_squared_error_min\", \"run_name\": \"StandardScalerWrapper, ElasticNet\", \"run_properties\": \"<automl.client.core.runtime.model_wrappers.StandardScalerWrapper object at 0x7ff338725438\", \"primary_metric\": 0.08160362, \"best_metric\": 0.0383974}, {\"run_id\": \"AutoML_0ace7e86-b189-45bc-92e1-b9b581c0bbab_25\", \"run_number\": 58, \"metric\": null, \"status\": \"Completed\", \"run_type\": null, \"training_percent\": \"100\", \"start_time\": \"2019-11-14T04:14:17.068427Z\", \"end_time\": \"2019-11-14T04:14:38.878067Z\", \"created_time\": \"2019-11-14T04:14:16.922367Z\", \"created_time_dt\": \"2019-11-14T04:14:16.922367Z\", \"duration\": \"0:00:21\", \"iteration\": \"25\", \"goal\": \"normalized_root_mean_squared_error_min\", \"run_name\": \"StandardScalerWrapper, ExtremeRandomTrees\", \"run_properties\": \"<automl.client.core.runtime.model_wrappers.StandardScalerWrapper object at 0x7ff350356be0\", \"primary_metric\": 0.05054398, \"best_metric\": 0.0383974}, {\"run_id\": \"AutoML_0ace7e86-b189-45bc-92e1-b9b581c0bbab_26\", \"run_number\": 59, \"metric\": null, \"status\": \"Completed\", \"run_type\": null, \"training_percent\": \"100\", \"start_time\": \"2019-11-14T04:14:41.612506Z\", \"end_time\": \"2019-11-14T04:15:09.376487Z\", \"created_time\": \"2019-11-14T04:14:41.432517Z\", \"created_time_dt\": \"2019-11-14T04:14:41.432517Z\", \"duration\": \"0:00:27\", \"iteration\": \"26\", \"goal\": \"normalized_root_mean_squared_error_min\", \"run_name\": \"MaxAbsScaler, ExtremeRandomTrees\", \"run_properties\": \"copy=True\", \"primary_metric\": 0.0363155, \"best_metric\": 0.0363155}, {\"run_id\": \"AutoML_0ace7e86-b189-45bc-92e1-b9b581c0bbab_27\", \"run_number\": 60, \"metric\": null, \"status\": \"Completed\", \"run_type\": null, \"training_percent\": \"100\", \"start_time\": \"2019-11-14T04:15:12.207002Z\", \"end_time\": \"2019-11-14T04:15:39.496272Z\", \"created_time\": \"2019-11-14T04:15:12.031893Z\", \"created_time_dt\": \"2019-11-14T04:15:12.031893Z\", \"duration\": \"0:00:27\", \"iteration\": \"27\", \"goal\": \"normalized_root_mean_squared_error_min\", \"run_name\": \"StandardScalerWrapper, LightGBM\", \"run_properties\": \"<automl.client.core.runtime.model_wrappers.StandardScalerWrapper object at 0x7ff338791710\", \"primary_metric\": 0.038448, \"best_metric\": 0.0363155}, {\"run_id\": \"AutoML_0ace7e86-b189-45bc-92e1-b9b581c0bbab_28\", \"run_number\": 61, \"metric\": null, \"status\": \"Completed\", \"run_type\": null, \"training_percent\": \"100\", \"start_time\": \"2019-11-14T04:15:42.560505Z\", \"end_time\": \"2019-11-14T04:16:00.568539Z\", \"created_time\": \"2019-11-14T04:15:42.365075Z\", \"created_time_dt\": \"2019-11-14T04:15:42.365075Z\", \"duration\": \"0:00:18\", \"iteration\": \"28\", \"goal\": \"normalized_root_mean_squared_error_min\", \"run_name\": \"StandardScalerWrapper, RandomForest\", \"run_properties\": \"<automl.client.core.runtime.model_wrappers.StandardScalerWrapper object at 0x7ff33825bc50\", \"primary_metric\": 0.05880028, \"best_metric\": 0.0363155}, {\"run_id\": \"AutoML_0ace7e86-b189-45bc-92e1-b9b581c0bbab_29\", \"run_number\": 62, \"metric\": null, \"status\": \"Completed\", \"run_type\": null, \"training_percent\": \"100\", \"start_time\": \"2019-11-14T04:16:02.972891Z\", \"end_time\": \"2019-11-14T04:16:28.345744Z\", \"created_time\": \"2019-11-14T04:16:02.86399Z\", \"created_time_dt\": \"2019-11-14T04:16:02.86399Z\", \"duration\": \"0:00:25\", \"iteration\": \"29\", \"goal\": \"normalized_root_mean_squared_error_min\", \"run_name\": \"StandardScalerWrapper, RandomForest\", \"run_properties\": \"<automl.client.core.runtime.model_wrappers.StandardScalerWrapper object at 0x7ff3381ca710\", \"primary_metric\": 0.05116191, \"best_metric\": 0.0363155}, {\"run_id\": \"AutoML_0ace7e86-b189-45bc-92e1-b9b581c0bbab_30\", \"run_number\": 63, \"metric\": null, \"status\": \"Completed\", \"run_type\": null, \"training_percent\": \"100\", \"start_time\": \"2019-11-14T04:16:30.949339Z\", \"end_time\": \"2019-11-14T04:16:46.193946Z\", \"created_time\": \"2019-11-14T04:16:30.830431Z\", \"created_time_dt\": \"2019-11-14T04:16:30.830431Z\", \"duration\": \"0:00:15\", \"iteration\": \"30\", \"goal\": \"normalized_root_mean_squared_error_min\", \"run_name\": \"SparseNormalizer, ExtremeRandomTrees\", \"run_properties\": \"<automl.client.core.runtime.model_wrappers.SparseNormalizer object at 0x7ff3381961d0\", \"primary_metric\": 0.06330826, \"best_metric\": 0.0363155}, {\"run_id\": \"AutoML_0ace7e86-b189-45bc-92e1-b9b581c0bbab_31\", \"run_number\": 64, \"metric\": null, \"status\": \"Completed\", \"run_type\": null, \"training_percent\": \"100\", \"start_time\": \"2019-11-14T04:16:48.857509Z\", \"end_time\": \"2019-11-14T04:17:11.477513Z\", \"created_time\": \"2019-11-14T04:16:48.706385Z\", \"created_time_dt\": \"2019-11-14T04:16:48.706385Z\", \"duration\": \"0:00:22\", \"iteration\": \"31\", \"goal\": \"normalized_root_mean_squared_error_min\", \"run_name\": \"MinMaxScaler, LightGBM\", \"run_properties\": \"copy=True, feature_range=(0, 1\", \"primary_metric\": 0.03784546, \"best_metric\": 0.0363155}, {\"run_id\": \"AutoML_0ace7e86-b189-45bc-92e1-b9b581c0bbab_32\", \"run_number\": 65, \"metric\": null, \"status\": \"Completed\", \"run_type\": null, \"training_percent\": \"100\", \"start_time\": \"2019-11-14T04:17:14.203628Z\", \"end_time\": \"2019-11-14T04:17:42.048796Z\", \"created_time\": \"2019-11-14T04:17:14.053264Z\", \"created_time_dt\": \"2019-11-14T04:17:14.053264Z\", \"duration\": \"0:00:27\", \"iteration\": \"32\", \"goal\": \"normalized_root_mean_squared_error_min\", \"run_name\": \"StandardScalerWrapper, LightGBM\", \"run_properties\": \"<automl.client.core.runtime.model_wrappers.StandardScalerWrapper object at 0x7ff338265a58\", \"primary_metric\": 0.04788958, \"best_metric\": 0.0363155}, {\"run_id\": \"AutoML_0ace7e86-b189-45bc-92e1-b9b581c0bbab_33\", \"run_number\": 66, \"metric\": null, \"status\": \"Completed\", \"run_type\": null, \"training_percent\": \"100\", \"start_time\": \"2019-11-14T04:17:44.503308Z\", \"end_time\": \"2019-11-14T04:18:14.356962Z\", \"created_time\": \"2019-11-14T04:17:44.372099Z\", \"created_time_dt\": \"2019-11-14T04:17:44.372099Z\", \"duration\": \"0:00:29\", \"iteration\": \"33\", \"goal\": \"normalized_root_mean_squared_error_min\", \"run_name\": \"StandardScalerWrapper, LightGBM\", \"run_properties\": \"<automl.client.core.runtime.model_wrappers.StandardScalerWrapper object at 0x7ff338768e80\", \"primary_metric\": 0.03636365, \"best_metric\": 0.0363155}, {\"run_id\": \"AutoML_0ace7e86-b189-45bc-92e1-b9b581c0bbab_34\", \"run_number\": 67, \"metric\": null, \"status\": \"Completed\", \"run_type\": null, \"training_percent\": \"100\", \"start_time\": \"2019-11-14T04:18:16.807612Z\", \"end_time\": \"2019-11-14T04:18:33.704577Z\", \"created_time\": \"2019-11-14T04:18:16.650656Z\", \"created_time_dt\": \"2019-11-14T04:18:16.650656Z\", \"duration\": \"0:00:17\", \"iteration\": \"34\", \"goal\": \"normalized_root_mean_squared_error_min\", \"run_name\": \"StandardScalerWrapper, ExtremeRandomTrees\", \"run_properties\": \"<automl.client.core.runtime.model_wrappers.StandardScalerWrapper object at 0x7ff327eae1d0\", \"primary_metric\": 0.06757623, \"best_metric\": 0.0363155}, {\"run_id\": \"AutoML_0ace7e86-b189-45bc-92e1-b9b581c0bbab_35\", \"run_number\": 68, \"metric\": null, \"status\": \"Completed\", \"run_type\": null, \"training_percent\": \"100\", \"start_time\": \"2019-11-14T04:18:36.623368Z\", \"end_time\": \"2019-11-14T04:19:08.807974Z\", \"created_time\": \"2019-11-14T04:18:36.493693Z\", \"created_time_dt\": \"2019-11-14T04:18:36.493693Z\", \"duration\": \"0:00:32\", \"iteration\": \"35\", \"goal\": \"normalized_root_mean_squared_error_min\", \"run_name\": \"RobustScaler, ExtremeRandomTrees\", \"run_properties\": \"copy=True, quantile_range=[10, 90], with_centering=True,\\n       with_scaling=False\", \"primary_metric\": 0.07578836, \"best_metric\": 0.0363155}, {\"run_id\": \"AutoML_0ace7e86-b189-45bc-92e1-b9b581c0bbab_36\", \"run_number\": 69, \"metric\": null, \"status\": \"Completed\", \"run_type\": null, \"training_percent\": \"100\", \"start_time\": \"2019-11-14T04:19:11.746281Z\", \"end_time\": \"2019-11-14T04:19:35.166287Z\", \"created_time\": \"2019-11-14T04:19:11.56901Z\", \"created_time_dt\": \"2019-11-14T04:19:11.56901Z\", \"duration\": \"0:00:23\", \"iteration\": \"36\", \"goal\": \"normalized_root_mean_squared_error_min\", \"run_name\": \"MinMaxScaler, GradientBoosting\", \"run_properties\": \"copy=True, feature_range=(0, 1\", \"primary_metric\": 0.04111243, \"best_metric\": 0.0363155}, {\"run_id\": \"AutoML_0ace7e86-b189-45bc-92e1-b9b581c0bbab_37\", \"run_number\": 70, \"metric\": null, \"status\": \"Completed\", \"run_type\": null, \"training_percent\": \"100\", \"start_time\": \"2019-11-14T04:19:36.420866Z\", \"end_time\": \"2019-11-14T04:20:01.66922Z\", \"created_time\": \"2019-11-14T04:19:36.304528Z\", \"created_time_dt\": \"2019-11-14T04:19:36.304528Z\", \"duration\": \"0:00:25\", \"iteration\": \"37\", \"goal\": \"normalized_root_mean_squared_error_min\", \"run_name\": \"StackEnsemble\", \"run_properties\": \"base_learners=[('26', Pipeline(memory=None,\\n     steps=[('maxabsscaler', MaxAbsScaler(copy=True\", \"primary_metric\": 0.03374778, \"best_metric\": 0.03374778}], \"children_metrics\": {\"categories\": [0], \"series\": {\"spearman_correlation\": [{\"categories\": [\"0\", \"1\", \"2\", \"3\", \"4\", \"5\", \"6\", \"7\", \"8\", \"9\", \"10\", \"11\", \"12\", \"13\", \"14\", \"15\", \"16\", \"17\", \"18\", \"19\", \"20\", \"21\", \"22\", \"23\", \"24\", \"25\", \"26\", \"27\", \"28\", \"29\", \"30\", \"31\", \"32\", \"33\", \"34\", \"35\", \"36\", \"37\"], \"mode\": \"markers\", \"name\": \"spearman_correlation\", \"stepped\": false, \"type\": \"scatter\", \"data\": [0.39571303860549345, 0.3895993518697643, 0.3936921473972709, 0.7420518766997655, 0.7932220703593335, 0.3913548856605236, 0.7707791964158863, 0.7429427546001599, 0.6626903904251243, 0.7718703157310124, 0.3913548856605236, 0.7586123294304319, 0.8162388193586392, 0.754298074372963, 0.39365132221737165, 0.3932430646878712, 0.3932430646878712, 0.3930389377464644, 0.8207826338901038, 0.7651480450722203, 0.6849195354172106, 0.7982546117299252, 0.39019133885876345, 0.8255979002180271, 0.3908241395666062, 0.7871497814815612, 0.8036110903506419, 0.8404174381792323, 0.7133915942104809, 0.7454305201936385, 0.719547002079987, 0.8164832152666687, 0.8259651111499157, 0.8506622838703312, 0.6792711584557533, 0.6374114066832295, 0.8003542888948404, 0.8696893445720754]}, {\"categories\": [\"0\", \"1\", \"2\", \"3\", \"4\", \"5\", \"6\", \"7\", \"8\", \"9\", \"10\", \"11\", \"12\", \"13\", \"14\", \"15\", \"16\", \"17\", \"18\", \"19\", \"20\", \"21\", \"22\", \"23\", \"24\", \"25\", \"26\", \"27\", \"28\", \"29\", \"30\", \"31\", \"32\", \"33\", \"34\", \"35\", \"36\", \"37\"], \"mode\": \"lines\", \"name\": \"spearman_correlation_max\", \"stepped\": true, \"type\": \"scatter\", \"data\": [0.39571303860549345, 0.39571303860549345, 0.39571303860549345, 0.7420518766997655, 0.7932220703593335, 0.7932220703593335, 0.7932220703593335, 0.7932220703593335, 0.7932220703593335, 0.7932220703593335, 0.7932220703593335, 0.7932220703593335, 0.8162388193586392, 0.8162388193586392, 0.8162388193586392, 0.8162388193586392, 0.8162388193586392, 0.8162388193586392, 0.8207826338901038, 0.8207826338901038, 0.8207826338901038, 0.8207826338901038, 0.8207826338901038, 0.8255979002180271, 0.8255979002180271, 0.8255979002180271, 0.8255979002180271, 0.8404174381792323, 0.8404174381792323, 0.8404174381792323, 0.8404174381792323, 0.8404174381792323, 0.8404174381792323, 0.8506622838703312, 0.8506622838703312, 0.8506622838703312, 0.8506622838703312, 0.8696893445720754]}], \"mean_absolute_error\": [{\"categories\": [\"0\", \"1\", \"2\", \"3\", \"4\", \"5\", \"6\", \"7\", \"8\", \"9\", \"10\", \"11\", \"12\", \"13\", \"14\", \"15\", \"16\", \"17\", \"18\", \"19\", \"20\", \"21\", \"22\", \"23\", \"24\", \"25\", \"26\", \"27\", \"28\", \"29\", \"30\", \"31\", \"32\", \"33\", \"34\", \"35\", \"36\", \"37\"], \"mode\": \"markers\", \"name\": \"mean_absolute_error\", \"stepped\": false, \"type\": \"scatter\", \"data\": [43.010466695222384, 42.22152412847858, 42.414843865763174, 26.15561154217584, 23.565850307976213, 42.73545781463109, 21.596019551619786, 23.012181126715745, 24.140674743198044, 22.457711245005424, 42.734846542071374, 19.75555373242358, 18.00036747285545, 24.091738681305195, 42.789036132813905, 42.56062105706719, 42.59967183318888, 42.71634440786467, 19.879651228984304, 24.552674284678673, 35.68239201256231, 19.77838680016209, 42.04102175510234, 18.77225170122271, 41.93252704050634, 26.17561055524851, 17.13143295643362, 17.719874514295505, 28.637436603936713, 25.4955128942647, 31.99280026207929, 18.684817232967198, 22.55072780993367, 16.86221163652793, 33.25851581451687, 38.222138644500646, 20.042654221740513, 15.430346911746671]}, {\"categories\": [\"0\", \"1\", \"2\", \"3\", \"4\", \"5\", \"6\", \"7\", \"8\", \"9\", \"10\", \"11\", \"12\", \"13\", \"14\", \"15\", \"16\", \"17\", \"18\", \"19\", \"20\", \"21\", \"22\", \"23\", \"24\", \"25\", \"26\", \"27\", \"28\", \"29\", \"30\", \"31\", \"32\", \"33\", \"34\", \"35\", \"36\", \"37\"], \"mode\": \"lines\", \"name\": \"mean_absolute_error_min\", \"stepped\": true, \"type\": \"scatter\", \"data\": [43.010466695222384, 42.22152412847858, 42.22152412847858, 26.15561154217584, 23.565850307976213, 23.565850307976213, 21.596019551619786, 21.596019551619786, 21.596019551619786, 21.596019551619786, 21.596019551619786, 19.75555373242358, 18.00036747285545, 18.00036747285545, 18.00036747285545, 18.00036747285545, 18.00036747285545, 18.00036747285545, 18.00036747285545, 18.00036747285545, 18.00036747285545, 18.00036747285545, 18.00036747285545, 18.00036747285545, 18.00036747285545, 18.00036747285545, 17.13143295643362, 17.13143295643362, 17.13143295643362, 17.13143295643362, 17.13143295643362, 17.13143295643362, 17.13143295643362, 16.86221163652793, 16.86221163652793, 16.86221163652793, 16.86221163652793, 15.430346911746671]}], \"normalized_median_absolute_error\": [{\"categories\": [\"0\", \"1\", \"2\", \"3\", \"4\", \"5\", \"6\", \"7\", \"8\", \"9\", \"10\", \"11\", \"12\", \"13\", \"14\", \"15\", \"16\", \"17\", \"18\", \"19\", \"20\", \"21\", \"22\", \"23\", \"24\", \"25\", \"26\", \"27\", \"28\", \"29\", \"30\", \"31\", \"32\", \"33\", \"34\", \"35\", \"36\", \"37\"], \"mode\": \"markers\", \"name\": \"normalized_median_absolute_error\", \"stepped\": false, \"type\": \"scatter\", \"data\": [0.07155800604820337, 0.06711009202561609, 0.0682986896548409, 0.03719186882190438, 0.0353066284649031, 0.07270175615898104, 0.02785850211610801, 0.03210510184366126, 0.03259757503122653, 0.03468369743285492, 0.07271689734340266, 0.027320667108878992, 0.02395665456702025, 0.03291796365712102, 0.07507160955866142, 0.07085404459602063, 0.07168031397929031, 0.06984728607328343, 0.024165416789089705, 0.03563147417797799, 0.05702978810305757, 0.026753507124446175, 0.06505480611165754, 0.02343587582714159, 0.05925946373848703, 0.03977065157102586, 0.01933858554108749, 0.021419191249875322, 0.04219910659193042, 0.035888846757094764, 0.05213005650067622, 0.026376940659684867, 0.029712646534405827, 0.01917425642109736, 0.048394260401507905, 0.061072311175841276, 0.02720622448764041, 0.019625732478087157]}, {\"categories\": [\"0\", \"1\", \"2\", \"3\", \"4\", \"5\", \"6\", \"7\", \"8\", \"9\", \"10\", \"11\", \"12\", \"13\", \"14\", \"15\", \"16\", \"17\", \"18\", \"19\", \"20\", \"21\", \"22\", \"23\", \"24\", \"25\", \"26\", \"27\", \"28\", \"29\", \"30\", \"31\", \"32\", \"33\", \"34\", \"35\", \"36\", \"37\"], \"mode\": \"lines\", \"name\": \"normalized_median_absolute_error_min\", \"stepped\": true, \"type\": \"scatter\", \"data\": [0.07155800604820337, 0.06711009202561609, 0.06711009202561609, 0.03719186882190438, 0.0353066284649031, 0.0353066284649031, 0.02785850211610801, 0.02785850211610801, 0.02785850211610801, 0.02785850211610801, 0.02785850211610801, 0.027320667108878992, 0.02395665456702025, 0.02395665456702025, 0.02395665456702025, 0.02395665456702025, 0.02395665456702025, 0.02395665456702025, 0.02395665456702025, 0.02395665456702025, 0.02395665456702025, 0.02395665456702025, 0.02395665456702025, 0.02343587582714159, 0.02343587582714159, 0.02343587582714159, 0.01933858554108749, 0.01933858554108749, 0.01933858554108749, 0.01933858554108749, 0.01933858554108749, 0.01933858554108749, 0.01933858554108749, 0.01917425642109736, 0.01917425642109736, 0.01917425642109736, 0.01917425642109736, 0.01917425642109736]}], \"normalized_mean_absolute_error\": [{\"categories\": [\"0\", \"1\", \"2\", \"3\", \"4\", \"5\", \"6\", \"7\", \"8\", \"9\", \"10\", \"11\", \"12\", \"13\", \"14\", \"15\", \"16\", \"17\", \"18\", \"19\", \"20\", \"21\", \"22\", \"23\", \"24\", \"25\", \"26\", \"27\", \"28\", \"29\", \"30\", \"31\", \"32\", \"33\", \"34\", \"35\", \"36\", \"37\"], \"mode\": \"markers\", \"name\": \"normalized_mean_absolute_error\", \"stepped\": false, \"type\": \"scatter\", \"data\": [0.07050896179544654, 0.06921561332537471, 0.06953253092748062, 0.042878051708484986, 0.03863254148848559, 0.07005812756496901, 0.03540331074036031, 0.03772488709297663, 0.03957487662819352, 0.03681592007377939, 0.07005712547880553, 0.03238615365971078, 0.02950879913582861, 0.03949465357591016, 0.07014596087346542, 0.06977150992961834, 0.0698355275953916, 0.07002679411125354, 0.03258959217866279, 0.040250285712587985, 0.05849572461075788, 0.032423584918298505, 0.06891970779524974, 0.030774183116758547, 0.06874184760738747, 0.04291083697581724, 0.02808431632202233, 0.029048974613599194, 0.04694661738350281, 0.04179592277748311, 0.05244721354439227, 0.030630847922897043, 0.0369684062457929, 0.027642969895947424, 0.05452215707297847, 0.06265924367950927, 0.03285681019957461, 0.025295650674994542]}, {\"categories\": [\"0\", \"1\", \"2\", \"3\", \"4\", \"5\", \"6\", \"7\", \"8\", \"9\", \"10\", \"11\", \"12\", \"13\", \"14\", \"15\", \"16\", \"17\", \"18\", \"19\", \"20\", \"21\", \"22\", \"23\", \"24\", \"25\", \"26\", \"27\", \"28\", \"29\", \"30\", \"31\", \"32\", \"33\", \"34\", \"35\", \"36\", \"37\"], \"mode\": \"lines\", \"name\": \"normalized_mean_absolute_error_min\", \"stepped\": true, \"type\": \"scatter\", \"data\": [0.07050896179544654, 0.06921561332537471, 0.06921561332537471, 0.042878051708484986, 0.03863254148848559, 0.03863254148848559, 0.03540331074036031, 0.03540331074036031, 0.03540331074036031, 0.03540331074036031, 0.03540331074036031, 0.03238615365971078, 0.02950879913582861, 0.02950879913582861, 0.02950879913582861, 0.02950879913582861, 0.02950879913582861, 0.02950879913582861, 0.02950879913582861, 0.02950879913582861, 0.02950879913582861, 0.02950879913582861, 0.02950879913582861, 0.02950879913582861, 0.02950879913582861, 0.02950879913582861, 0.02808431632202233, 0.02808431632202233, 0.02808431632202233, 0.02808431632202233, 0.02808431632202233, 0.02808431632202233, 0.02808431632202233, 0.027642969895947424, 0.027642969895947424, 0.027642969895947424, 0.027642969895947424, 0.025295650674994542]}], \"normalized_root_mean_squared_log_error\": [{\"categories\": [\"0\", \"1\", \"2\", \"3\", \"4\", \"5\", \"6\", \"7\", \"8\", \"9\", \"10\", \"11\", \"12\", \"13\", \"14\", \"15\", \"16\", \"17\", \"18\", \"19\", \"20\", \"21\", \"22\", \"23\", \"24\", \"25\", \"26\", \"27\", \"28\", \"29\", \"30\", \"31\", \"32\", \"33\", \"34\", \"35\", \"36\", \"37\"], \"mode\": \"markers\", \"name\": \"normalized_root_mean_squared_log_error\", \"stepped\": false, \"type\": \"scatter\", \"data\": [0.13864494489259585, 0.13672571454969354, 0.13657504532458348, 0.09168128910338735, 0.08400373515461482, 0.13782592703339852, 0.0769420171473841, 0.08520103863350433, 0.0874808650696816, 0.07734077219946432, 0.1378231002296947, 0.07450664567377724, 0.06720281317362689, 0.08375715057294945, 0.13798917836452892, 0.13717817550792186, 0.1372854393762103, 0.1379790734899205, 0.0729574342893903, 0.08165388917154018, 0.11845898573593197, 0.07398921636512412, 0.13619461014229983, 0.06914109131058807, 0.1347719858311492, 0.09200234255489645, 0.06386923843730648, 0.06374724112585844, 0.0974232627655655, 0.08915575937332619, 0.10779789400371842, 0.06507209940123451, 0.07618701347093457, 0.06182244155395912, 0.11125982692765676, 0.1259009913146386, 0.07070293278641548, 0.0579108558233152]}, {\"categories\": [\"0\", \"1\", \"2\", \"3\", \"4\", \"5\", \"6\", \"7\", \"8\", \"9\", \"10\", \"11\", \"12\", \"13\", \"14\", \"15\", \"16\", \"17\", \"18\", \"19\", \"20\", \"21\", \"22\", \"23\", \"24\", \"25\", \"26\", \"27\", \"28\", \"29\", \"30\", \"31\", \"32\", \"33\", \"34\", \"35\", \"36\", \"37\"], \"mode\": \"lines\", \"name\": \"normalized_root_mean_squared_log_error_min\", \"stepped\": true, \"type\": \"scatter\", \"data\": [0.13864494489259585, 0.13672571454969354, 0.13657504532458348, 0.09168128910338735, 0.08400373515461482, 0.08400373515461482, 0.0769420171473841, 0.0769420171473841, 0.0769420171473841, 0.0769420171473841, 0.0769420171473841, 0.07450664567377724, 0.06720281317362689, 0.06720281317362689, 0.06720281317362689, 0.06720281317362689, 0.06720281317362689, 0.06720281317362689, 0.06720281317362689, 0.06720281317362689, 0.06720281317362689, 0.06720281317362689, 0.06720281317362689, 0.06720281317362689, 0.06720281317362689, 0.06720281317362689, 0.06386923843730648, 0.06374724112585844, 0.06374724112585844, 0.06374724112585844, 0.06374724112585844, 0.06374724112585844, 0.06374724112585844, 0.06182244155395912, 0.06182244155395912, 0.06182244155395912, 0.06182244155395912, 0.0579108558233152]}], \"r2_score\": [{\"categories\": [\"0\", \"1\", \"2\", \"3\", \"4\", \"5\", \"6\", \"7\", \"8\", \"9\", \"10\", \"11\", \"12\", \"13\", \"14\", \"15\", \"16\", \"17\", \"18\", \"19\", \"20\", \"21\", \"22\", \"23\", \"24\", \"25\", \"26\", \"27\", \"28\", \"29\", \"30\", \"31\", \"32\", \"33\", \"34\", \"35\", \"36\", \"37\"], \"mode\": \"markers\", \"name\": \"r2_score\", \"stepped\": false, \"type\": \"scatter\", \"data\": [0.1805245410488513, 0.19538815084883385, 0.19545194206767735, 0.6552662608804268, 0.7485765360604422, 0.19020003776745592, 0.7403343271774439, 0.7323426010704118, 0.6659513847757561, 0.7570392858344656, 0.19021875054063359, 0.7793527851187727, 0.822089320173766, 0.7205479223052985, 0.1895213966001698, 0.19291548272136191, 0.19222439749638326, 0.18599352867366473, 0.7387058134207944, 0.7264647816040755, 0.40600953245752347, 0.8014619576671789, 0.1984235978635201, 0.7919893006536476, 0.1987402568208081, 0.6923165946239046, 0.8412955305905909, 0.8220498752858416, 0.574706986883164, 0.6849611957339012, 0.5166583628747811, 0.8275430140885612, 0.7222831603652532, 0.8405239617566487, 0.4499779551627058, 0.3087546495314119, 0.7963577246437767, 0.8627305151885144]}, {\"categories\": [\"0\", \"1\", \"2\", \"3\", \"4\", \"5\", \"6\", \"7\", \"8\", \"9\", \"10\", \"11\", \"12\", \"13\", \"14\", \"15\", \"16\", \"17\", \"18\", \"19\", \"20\", \"21\", \"22\", \"23\", \"24\", \"25\", \"26\", \"27\", \"28\", \"29\", \"30\", \"31\", \"32\", \"33\", \"34\", \"35\", \"36\", \"37\"], \"mode\": \"lines\", \"name\": \"r2_score_max\", \"stepped\": true, \"type\": \"scatter\", \"data\": [0.1805245410488513, 0.19538815084883385, 0.19545194206767735, 0.6552662608804268, 0.7485765360604422, 0.7485765360604422, 0.7485765360604422, 0.7485765360604422, 0.7485765360604422, 0.7570392858344656, 0.7570392858344656, 0.7793527851187727, 0.822089320173766, 0.822089320173766, 0.822089320173766, 0.822089320173766, 0.822089320173766, 0.822089320173766, 0.822089320173766, 0.822089320173766, 0.822089320173766, 0.822089320173766, 0.822089320173766, 0.822089320173766, 0.822089320173766, 0.822089320173766, 0.8412955305905909, 0.8412955305905909, 0.8412955305905909, 0.8412955305905909, 0.8412955305905909, 0.8412955305905909, 0.8412955305905909, 0.8412955305905909, 0.8412955305905909, 0.8412955305905909, 0.8412955305905909, 0.8627305151885144]}], \"mean_absolute_percentage_error\": [{\"categories\": [\"0\", \"1\", \"2\", \"3\", \"4\", \"5\", \"6\", \"7\", \"8\", \"9\", \"10\", \"11\", \"12\", \"13\", \"14\", \"15\", \"16\", \"17\", \"18\", \"19\", \"20\", \"21\", \"22\", \"23\", \"24\", \"25\", \"26\", \"27\", \"28\", \"29\", \"30\", \"31\", \"32\", \"33\", \"34\", \"35\", \"36\", \"37\"], \"mode\": \"markers\", \"name\": \"mean_absolute_percentage_error\", \"stepped\": false, \"type\": \"scatter\", \"data\": [26.317912435146525, 26.053825815800945, 25.757362291197666, 16.241649337342608, 15.25730347492266, 25.932914636032855, 12.624233060841195, 14.81046914716247, 14.048176405816912, 13.52716143824251, 25.93171579650641, 11.547393126540383, 10.93028127809595, 14.89945286967226, 25.888517955159255, 25.821765240553685, 25.830052901980586, 26.280437469846667, 11.750583151035613, 14.828589026294926, 22.46041675410583, 12.553049096076775, 25.937972491646132, 10.792674323656593, 25.691290353773507, 17.166635194475347, 10.292794258182104, 10.186961578791657, 17.34710195770846, 15.915636546236474, 20.0698452958519, 11.201051288211268, 13.297019332280058, 9.770183157582249, 20.42087376536869, 23.95408853043603, 11.896128504460941, 9.173894406468051]}, {\"categories\": [\"0\", \"1\", \"2\", \"3\", \"4\", \"5\", \"6\", \"7\", \"8\", \"9\", \"10\", \"11\", \"12\", \"13\", \"14\", \"15\", \"16\", \"17\", \"18\", \"19\", \"20\", \"21\", \"22\", \"23\", \"24\", \"25\", \"26\", \"27\", \"28\", \"29\", \"30\", \"31\", \"32\", \"33\", \"34\", \"35\", \"36\", \"37\"], \"mode\": \"lines\", \"name\": \"mean_absolute_percentage_error_min\", \"stepped\": true, \"type\": \"scatter\", \"data\": [26.317912435146525, 26.053825815800945, 25.757362291197666, 16.241649337342608, 15.25730347492266, 15.25730347492266, 12.624233060841195, 12.624233060841195, 12.624233060841195, 12.624233060841195, 12.624233060841195, 11.547393126540383, 10.93028127809595, 10.93028127809595, 10.93028127809595, 10.93028127809595, 10.93028127809595, 10.93028127809595, 10.93028127809595, 10.93028127809595, 10.93028127809595, 10.93028127809595, 10.93028127809595, 10.792674323656593, 10.792674323656593, 10.792674323656593, 10.292794258182104, 10.186961578791657, 10.186961578791657, 10.186961578791657, 10.186961578791657, 10.186961578791657, 10.186961578791657, 9.770183157582249, 9.770183157582249, 9.770183157582249, 9.770183157582249, 9.173894406468051]}], \"root_mean_squared_log_error\": [{\"categories\": [\"0\", \"1\", \"2\", \"3\", \"4\", \"5\", \"6\", \"7\", \"8\", \"9\", \"10\", \"11\", \"12\", \"13\", \"14\", \"15\", \"16\", \"17\", \"18\", \"19\", \"20\", \"21\", \"22\", \"23\", \"24\", \"25\", \"26\", \"27\", \"28\", \"29\", \"30\", \"31\", \"32\", \"33\", \"34\", \"35\", \"36\", \"37\"], \"mode\": \"markers\", \"name\": \"root_mean_squared_log_error\", \"stepped\": false, \"type\": \"scatter\", \"data\": [0.28306422720693963, 0.2791458336855127, 0.27883822010607284, 0.18718095542170957, 0.17150608983586052, 0.2813920807210943, 0.15708854470272496, 0.1739505625445235, 0.1786051664958064, 0.15790266230902783, 0.2813863093818904, 0.1521163724776764, 0.1372045146821716, 0.17100265082404278, 0.28172538253691415, 0.280069599868127, 0.28028859497110614, 0.28170475193603445, 0.1489534275636632, 0.16670853059005006, 0.2418515963855396, 0.15105996376763237, 0.27806150523227147, 0.14116179710149135, 0.2751570066113255, 0.1878364336810427, 0.13039852722042816, 0.13014945160708277, 0.19890404665007105, 0.18202471173838075, 0.22008539571591473, 0.13285434635941987, 0.15554709266941683, 0.1262196876782933, 0.22715344546353453, 0.25704555502311, 0.14435052822123984, 0.11823360500606783]}, {\"categories\": [\"0\", \"1\", \"2\", \"3\", \"4\", \"5\", \"6\", \"7\", \"8\", \"9\", \"10\", \"11\", \"12\", \"13\", \"14\", \"15\", \"16\", \"17\", \"18\", \"19\", \"20\", \"21\", \"22\", \"23\", \"24\", \"25\", \"26\", \"27\", \"28\", \"29\", \"30\", \"31\", \"32\", \"33\", \"34\", \"35\", \"36\", \"37\"], \"mode\": \"lines\", \"name\": \"root_mean_squared_log_error_min\", \"stepped\": true, \"type\": \"scatter\", \"data\": [0.28306422720693963, 0.2791458336855127, 0.27883822010607284, 0.18718095542170957, 0.17150608983586052, 0.17150608983586052, 0.15708854470272496, 0.15708854470272496, 0.15708854470272496, 0.15708854470272496, 0.15708854470272496, 0.1521163724776764, 0.1372045146821716, 0.1372045146821716, 0.1372045146821716, 0.1372045146821716, 0.1372045146821716, 0.1372045146821716, 0.1372045146821716, 0.1372045146821716, 0.1372045146821716, 0.1372045146821716, 0.1372045146821716, 0.1372045146821716, 0.1372045146821716, 0.1372045146821716, 0.13039852722042816, 0.13014945160708277, 0.13014945160708277, 0.13014945160708277, 0.13014945160708277, 0.13014945160708277, 0.13014945160708277, 0.1262196876782933, 0.1262196876782933, 0.1262196876782933, 0.1262196876782933, 0.11823360500606783]}], \"normalized_root_mean_squared_error\": [{\"categories\": [\"0\", \"1\", \"2\", \"3\", \"4\", \"5\", \"6\", \"7\", \"8\", \"9\", \"10\", \"11\", \"12\", \"13\", \"14\", \"15\", \"16\", \"17\", \"18\", \"19\", \"20\", \"21\", \"22\", \"23\", \"24\", \"25\", \"26\", \"27\", \"28\", \"29\", \"30\", \"31\", \"32\", \"33\", \"34\", \"35\", \"36\", \"37\"], \"mode\": \"markers\", \"name\": \"normalized_root_mean_squared_error\", \"stepped\": false, \"type\": \"scatter\", \"data\": [0.08252713586846953, 0.08177363032859238, 0.08177214548466467, 0.053373898004533994, 0.04568991530169677, 0.08203856269395807, 0.045979442343001636, 0.04708231581928408, 0.051889839956553586, 0.04467873378639178, 0.08203761492573422, 0.042704558148480315, 0.03839740128512686, 0.047970123919163894, 0.0820728406857987, 0.08190094600539002, 0.08193600812812721, 0.08225054233626408, 0.04658523349955886, 0.04756262027639897, 0.07021506839571436, 0.04057775787154676, 0.08161912678603127, 0.04147090739217455, 0.08160362172080653, 0.050543976956631445, 0.03631550405572127, 0.0384479976987109, 0.058800282779458646, 0.05116191455107257, 0.06330826173928804, 0.037845455155985926, 0.04788957523494577, 0.03636365375468852, 0.06757622836632363, 0.07578835587862567, 0.04111243169518393, 0.03374777603009731]}, {\"categories\": [\"0\", \"1\", \"2\", \"3\", \"4\", \"5\", \"6\", \"7\", \"8\", \"9\", \"10\", \"11\", \"12\", \"13\", \"14\", \"15\", \"16\", \"17\", \"18\", \"19\", \"20\", \"21\", \"22\", \"23\", \"24\", \"25\", \"26\", \"27\", \"28\", \"29\", \"30\", \"31\", \"32\", \"33\", \"34\", \"35\", \"36\", \"37\"], \"mode\": \"lines\", \"name\": \"normalized_root_mean_squared_error_min\", \"stepped\": true, \"type\": \"scatter\", \"data\": [0.08252713586846953, 0.08177363032859238, 0.08177214548466467, 0.053373898004533994, 0.04568991530169677, 0.04568991530169677, 0.04568991530169677, 0.04568991530169677, 0.04568991530169677, 0.04467873378639178, 0.04467873378639178, 0.042704558148480315, 0.03839740128512686, 0.03839740128512686, 0.03839740128512686, 0.03839740128512686, 0.03839740128512686, 0.03839740128512686, 0.03839740128512686, 0.03839740128512686, 0.03839740128512686, 0.03839740128512686, 0.03839740128512686, 0.03839740128512686, 0.03839740128512686, 0.03839740128512686, 0.03631550405572127, 0.03631550405572127, 0.03631550405572127, 0.03631550405572127, 0.03631550405572127, 0.03631550405572127, 0.03631550405572127, 0.03631550405572127, 0.03631550405572127, 0.03631550405572127, 0.03631550405572127, 0.03374777603009731]}], \"median_absolute_error\": [{\"categories\": [\"0\", \"1\", \"2\", \"3\", \"4\", \"5\", \"6\", \"7\", \"8\", \"9\", \"10\", \"11\", \"12\", \"13\", \"14\", \"15\", \"16\", \"17\", \"18\", \"19\", \"20\", \"21\", \"22\", \"23\", \"24\", \"25\", \"26\", \"27\", \"28\", \"29\", \"30\", \"31\", \"32\", \"33\", \"34\", \"35\", \"36\", \"37\"], \"mode\": \"markers\", \"name\": \"median_absolute_error\", \"stepped\": false, \"type\": \"scatter\", \"data\": [43.65038368940405, 40.93715613562581, 41.662200689452945, 22.687039981361675, 21.53704336359089, 44.348071256978436, 16.993686290825885, 19.584112124633368, 19.884520769048187, 21.157055434041496, 44.357307379475614, 16.665606936416186, 14.613559285882355, 20.079957830843817, 45.79368183078347, 43.220967203572584, 43.724991527367095, 42.60684450470289, 14.740904241344722, 21.735199248566573, 34.78817074286511, 16.31963934591217, 39.6834317281111, 14.29588425455637, 36.14827288047709, 24.260097458325777, 11.796537180063368, 13.065706662423946, 25.74145502107756, 21.892196521827806, 31.79933446541249, 16.089933802407767, 18.124714385987556, 11.696296416869387, 29.52049884491982, 37.25410981726318, 16.595796937460648, 11.971696811633166]}, {\"categories\": [\"0\", \"1\", \"2\", \"3\", \"4\", \"5\", \"6\", \"7\", \"8\", \"9\", \"10\", \"11\", \"12\", \"13\", \"14\", \"15\", \"16\", \"17\", \"18\", \"19\", \"20\", \"21\", \"22\", \"23\", \"24\", \"25\", \"26\", \"27\", \"28\", \"29\", \"30\", \"31\", \"32\", \"33\", \"34\", \"35\", \"36\", \"37\"], \"mode\": \"lines\", \"name\": \"median_absolute_error_min\", \"stepped\": true, \"type\": \"scatter\", \"data\": [43.65038368940405, 40.93715613562581, 40.93715613562581, 22.687039981361675, 21.53704336359089, 21.53704336359089, 16.993686290825885, 16.993686290825885, 16.993686290825885, 16.993686290825885, 16.993686290825885, 16.665606936416186, 14.613559285882355, 14.613559285882355, 14.613559285882355, 14.613559285882355, 14.613559285882355, 14.613559285882355, 14.613559285882355, 14.613559285882355, 14.613559285882355, 14.613559285882355, 14.613559285882355, 14.29588425455637, 14.29588425455637, 14.29588425455637, 11.796537180063368, 11.796537180063368, 11.796537180063368, 11.796537180063368, 11.796537180063368, 11.796537180063368, 11.796537180063368, 11.696296416869387, 11.696296416869387, 11.696296416869387, 11.696296416869387, 11.696296416869387]}], \"explained_variance\": [{\"categories\": [\"0\", \"1\", \"2\", \"3\", \"4\", \"5\", \"6\", \"7\", \"8\", \"9\", \"10\", \"11\", \"12\", \"13\", \"14\", \"15\", \"16\", \"17\", \"18\", \"19\", \"20\", \"21\", \"22\", \"23\", \"24\", \"25\", \"26\", \"27\", \"28\", \"29\", \"30\", \"31\", \"32\", \"33\", \"34\", \"35\", \"36\", \"37\"], \"mode\": \"markers\", \"name\": \"explained_variance\", \"stepped\": false, \"type\": \"scatter\", \"data\": [0.20495911950560125, 0.23292903181603047, 0.2130164403652363, 0.681401236500682, 0.809778300187943, 0.2052434813000084, 0.7551126270198896, 0.7594940763335352, 0.6804294487916602, 0.7859787151213748, 0.20522951620270255, 0.7850497701956316, 0.8275056303928252, 0.7376120170045412, 0.20077222474487605, 0.208547553031927, 0.20713016439664295, 0.2187479867919238, 0.7448229628146492, 0.7892266001747439, 0.49402357002966635, 0.8214545341555344, 0.23590866296021956, 0.7944801005530292, 0.2338452943426313, 0.8068548789114584, 0.842610377651902, 0.8237376361852677, 0.602219309764779, 0.7128151307284571, 0.5773422036475724, 0.8299515334963654, 0.7802148473320341, 0.841240506721064, 0.4950946887855986, 0.402306221502732, 0.7991195324031175, 0.8635410777246912]}, {\"categories\": [\"0\", \"1\", \"2\", \"3\", \"4\", \"5\", \"6\", \"7\", \"8\", \"9\", \"10\", \"11\", \"12\", \"13\", \"14\", \"15\", \"16\", \"17\", \"18\", \"19\", \"20\", \"21\", \"22\", \"23\", \"24\", \"25\", \"26\", \"27\", \"28\", \"29\", \"30\", \"31\", \"32\", \"33\", \"34\", \"35\", \"36\", \"37\"], \"mode\": \"lines\", \"name\": \"explained_variance_max\", \"stepped\": true, \"type\": \"scatter\", \"data\": [0.20495911950560125, 0.23292903181603047, 0.23292903181603047, 0.681401236500682, 0.809778300187943, 0.809778300187943, 0.809778300187943, 0.809778300187943, 0.809778300187943, 0.809778300187943, 0.809778300187943, 0.809778300187943, 0.8275056303928252, 0.8275056303928252, 0.8275056303928252, 0.8275056303928252, 0.8275056303928252, 0.8275056303928252, 0.8275056303928252, 0.8275056303928252, 0.8275056303928252, 0.8275056303928252, 0.8275056303928252, 0.8275056303928252, 0.8275056303928252, 0.8275056303928252, 0.842610377651902, 0.842610377651902, 0.842610377651902, 0.842610377651902, 0.842610377651902, 0.842610377651902, 0.842610377651902, 0.842610377651902, 0.842610377651902, 0.842610377651902, 0.842610377651902, 0.8635410777246912]}], \"root_mean_squared_error\": [{\"categories\": [\"0\", \"1\", \"2\", \"3\", \"4\", \"5\", \"6\", \"7\", \"8\", \"9\", \"10\", \"11\", \"12\", \"13\", \"14\", \"15\", \"16\", \"17\", \"18\", \"19\", \"20\", \"21\", \"22\", \"23\", \"24\", \"25\", \"26\", \"27\", \"28\", \"29\", \"30\", \"31\", \"32\", \"33\", \"34\", \"35\", \"36\", \"37\"], \"mode\": \"markers\", \"name\": \"root_mean_squared_error\", \"stepped\": false, \"type\": \"scatter\", \"data\": [50.34155287976641, 49.881914500441354, 49.881008745645445, 32.558077782765736, 27.87084833403503, 50.043523243314425, 28.047459829230995, 28.72021264976329, 31.652802373497686, 27.254027609698987, 50.042945104697864, 26.04978047057299, 23.422414783927383, 29.26177559068997, 50.06443281833721, 49.95957706328792, 49.98096495815759, 50.17283082512108, 28.416992434730908, 29.013198368603373, 42.83119172138575, 24.752432301643523, 49.78766733947907, 25.297253509226476, 49.77820924969198, 30.831825943545176, 22.152457473989976, 23.453278596213647, 35.86817249546978, 31.208767876154262, 38.6180396609657, 23.08572764515141, 29.212640893316916, 22.181828790359994, 41.221499303457406, 46.23089708596166, 25.078583334062195, 20.586143378359356]}, {\"categories\": [\"0\", \"1\", \"2\", \"3\", \"4\", \"5\", \"6\", \"7\", \"8\", \"9\", \"10\", \"11\", \"12\", \"13\", \"14\", \"15\", \"16\", \"17\", \"18\", \"19\", \"20\", \"21\", \"22\", \"23\", \"24\", \"25\", \"26\", \"27\", \"28\", \"29\", \"30\", \"31\", \"32\", \"33\", \"34\", \"35\", \"36\", \"37\"], \"mode\": \"lines\", \"name\": \"root_mean_squared_error_min\", \"stepped\": true, \"type\": \"scatter\", \"data\": [50.34155287976641, 49.881914500441354, 49.881008745645445, 32.558077782765736, 27.87084833403503, 27.87084833403503, 27.87084833403503, 27.87084833403503, 27.87084833403503, 27.254027609698987, 27.254027609698987, 26.04978047057299, 23.422414783927383, 23.422414783927383, 23.422414783927383, 23.422414783927383, 23.422414783927383, 23.422414783927383, 23.422414783927383, 23.422414783927383, 23.422414783927383, 23.422414783927383, 23.422414783927383, 23.422414783927383, 23.422414783927383, 23.422414783927383, 22.152457473989976, 22.152457473989976, 22.152457473989976, 22.152457473989976, 22.152457473989976, 22.152457473989976, 22.152457473989976, 22.152457473989976, 22.152457473989976, 22.152457473989976, 22.152457473989976, 20.586143378359356]}]}, \"metricName\": null, \"primaryMetricName\": \"normalized_root_mean_squared_error\", \"showLegend\": false}, \"run_metrics\": [], \"run_logs\": \"\\nRun is completed.\", \"graph\": {}, \"widget_settings\": {\"childWidgetDisplay\": \"popup\", \"send_telemetry\": false, \"log_level\": \"INFO\", \"sdk_version\": \"1.0.72\"}, \"loading\": false}"
     },
     "metadata": {},
     "output_type": "display_data"
    },
    {
     "data": {
      "application/vnd.jupyter.widget-view+json": {
       "model_id": "",
       "version_major": 2,
       "version_minor": 0
      },
      "text/plain": [
       "_UserRunWidget(widget_settings={'childWidgetDisplay': 'popup', 'send_telemetry': False, 'log_level': 'INFO', '…"
      ]
     },
     "metadata": {},
     "output_type": "display_data"
    },
    {
     "data": {
      "application/aml.mini.widget.v1": "{\"loading\": true}"
     },
     "metadata": {},
     "output_type": "display_data"
    },
    {
     "data": {
      "application/vnd.jupyter.widget-view+json": {
       "model_id": "",
       "version_major": 2,
       "version_minor": 0
      },
      "text/plain": [
       "_UserRunWidget(widget_settings={'childWidgetDisplay': 'popup', 'send_telemetry': False, 'log_level': 'INFO', '…"
      ]
     },
     "metadata": {},
     "output_type": "display_data"
    },
    {
     "data": {
      "application/aml.mini.widget.v1": "{\"loading\": true}"
     },
     "metadata": {},
     "output_type": "display_data"
    },
    {
     "data": {
      "application/vnd.jupyter.widget-view+json": {
       "model_id": "5fbe152e61bb4c27aaa8c75bc12a52c8",
       "version_major": 2,
       "version_minor": 0
      },
      "text/plain": [
       "_UserRunWidget(widget_settings={'childWidgetDisplay': 'popup', 'send_telemetry': False, 'log_level': 'INFO', '…"
      ]
     },
     "metadata": {},
     "output_type": "display_data"
    },
    {
     "data": {
      "application/aml.mini.widget.v1": "{\"loading\": true}"
     },
     "metadata": {},
     "output_type": "display_data"
    }
   ],
   "source": [
    "from azureml.widgets import RunDetails\n",
    "RunDetails(local_run).show()"
   ]
  }
 ],
 "metadata": {
  "authors": [
   {
    "name": "erwright"
   }
  ],
  "categories": [
   "how-to-use-azureml",
   "automated-machine-learning"
  ],
  "kernelspec": {
   "display_name": "Python 3",
   "language": "python",
   "name": "python3"
  },
  "language_info": {
   "codemirror_mode": {
    "name": "ipython",
    "version": 3
   },
   "file_extension": ".py",
   "mimetype": "text/x-python",
   "name": "python",
   "nbconvert_exporter": "python",
   "pygments_lexer": "ipython3",
   "version": "3.7.3"
  },
  "nteract": {
   "version": "nteract-front-end@1.0.0"
  }
 },
 "nbformat": 4,
 "nbformat_minor": 2
}
