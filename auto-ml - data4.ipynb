{
 "cells": [
  {
   "cell_type": "markdown",
   "metadata": {},
   "source": [
    "Copyright (c) Microsoft Corporation. All rights reserved.\n",
    "\n",
    "Licensed under the MIT License."
   ]
  },
  {
   "cell_type": "markdown",
   "metadata": {},
   "source": [
    "![Impressions](https://PixelServer20190423114238.azurewebsites.net/api/impressions/NotebookVM/how-to-use-azureml/automated-machine-learning/forecasting-bike-share/auto-ml-forecasting-bike-share.png)"
   ]
  },
  {
   "cell_type": "markdown",
   "metadata": {},
   "source": [
    "# Automated Machine Learning\n",
    "**Sales Forecasting**\n",
    "\n"
   ]
  },
  {
   "cell_type": "markdown",
   "metadata": {},
   "source": [
    "## Setup\n"
   ]
  },
  {
   "cell_type": "code",
   "execution_count": 1,
   "metadata": {},
   "outputs": [],
   "source": [
    "import azureml.core\n",
    "import pandas as pd\n",
    "import numpy as np\n",
    "import logging\n",
    "import warnings\n",
    "\n",
    "from pandas.tseries.frequencies import to_offset\n",
    "\n",
    "# Squash warning messages for cleaner output in the notebook\n",
    "warnings.showwarning = lambda *args, **kwargs: None\n",
    "\n",
    "from azureml.core.workspace import Workspace\n",
    "from azureml.core.experiment import Experiment\n",
    "from azureml.train.automl import AutoMLConfig\n",
    "from matplotlib import pyplot as plt\n",
    "from sklearn.metrics import mean_absolute_error, mean_squared_error"
   ]
  },
  {
   "cell_type": "code",
   "execution_count": 2,
   "metadata": {},
   "outputs": [
    {
     "data": {
      "text/html": [
       "<div>\n",
       "<style scoped>\n",
       "    .dataframe tbody tr th:only-of-type {\n",
       "        vertical-align: middle;\n",
       "    }\n",
       "\n",
       "    .dataframe tbody tr th {\n",
       "        vertical-align: top;\n",
       "    }\n",
       "\n",
       "    .dataframe thead th {\n",
       "        text-align: right;\n",
       "    }\n",
       "</style>\n",
       "<table border=\"1\" class=\"dataframe\">\n",
       "  <thead>\n",
       "    <tr style=\"text-align: right;\">\n",
       "      <th></th>\n",
       "      <th></th>\n",
       "    </tr>\n",
       "  </thead>\n",
       "  <tbody>\n",
       "    <tr>\n",
       "      <th>SDK version</th>\n",
       "      <td>1.0.72</td>\n",
       "    </tr>\n",
       "    <tr>\n",
       "      <th>Subscription ID</th>\n",
       "      <td>d7143f7b-854d-4156-ba5d-01d92d5a774d</td>\n",
       "    </tr>\n",
       "    <tr>\n",
       "      <th>Workspace</th>\n",
       "      <td>tl289603</td>\n",
       "    </tr>\n",
       "    <tr>\n",
       "      <th>Resource Group</th>\n",
       "      <td>tl2896ws</td>\n",
       "    </tr>\n",
       "    <tr>\n",
       "      <th>Location</th>\n",
       "      <td>westus2</td>\n",
       "    </tr>\n",
       "    <tr>\n",
       "      <th>Run History Name</th>\n",
       "      <td>automl-saleforecasting</td>\n",
       "    </tr>\n",
       "  </tbody>\n",
       "</table>\n",
       "</div>"
      ],
      "text/plain": [
       "                                                      \n",
       "SDK version       1.0.72                              \n",
       "Subscription ID   d7143f7b-854d-4156-ba5d-01d92d5a774d\n",
       "Workspace         tl289603                            \n",
       "Resource Group    tl2896ws                            \n",
       "Location          westus2                             \n",
       "Run History Name  automl-saleforecasting              "
      ]
     },
     "execution_count": 2,
     "metadata": {},
     "output_type": "execute_result"
    }
   ],
   "source": [
    "ws = Workspace.from_config()\n",
    "\n",
    "# choose a name for the run history container in the workspace\n",
    "experiment_name = 'automl-saleforecasting'\n",
    "\n",
    "experiment = Experiment(ws, experiment_name)\n",
    "\n",
    "output = {}\n",
    "output['SDK version'] = azureml.core.VERSION\n",
    "output['Subscription ID'] = ws.subscription_id\n",
    "output['Workspace'] = ws.name\n",
    "output['Resource Group'] = ws.resource_group\n",
    "output['Location'] = ws.location\n",
    "output['Run History Name'] = experiment_name\n",
    "pd.set_option('display.max_colwidth', -1)\n",
    "outputDf = pd.DataFrame(data = output, index = [''])\n",
    "outputDf.T"
   ]
  },
  {
   "cell_type": "markdown",
   "metadata": {},
   "source": [
    "## Data"
   ]
  },
  {
   "cell_type": "code",
   "execution_count": 3,
   "metadata": {},
   "outputs": [
    {
     "data": {
      "text/html": [
       "<div>\n",
       "<style scoped>\n",
       "    .dataframe tbody tr th:only-of-type {\n",
       "        vertical-align: middle;\n",
       "    }\n",
       "\n",
       "    .dataframe tbody tr th {\n",
       "        vertical-align: top;\n",
       "    }\n",
       "\n",
       "    .dataframe thead th {\n",
       "        text-align: right;\n",
       "    }\n",
       "</style>\n",
       "<table border=\"1\" class=\"dataframe\">\n",
       "  <thead>\n",
       "    <tr style=\"text-align: right;\">\n",
       "      <th></th>\n",
       "      <th>id</th>\n",
       "      <th>date</th>\n",
       "      <th>store_nbr</th>\n",
       "      <th>item_nbr</th>\n",
       "      <th>unit_sales</th>\n",
       "      <th>onpromotion</th>\n",
       "      <th>city</th>\n",
       "      <th>state</th>\n",
       "      <th>store_type</th>\n",
       "      <th>store_cluster</th>\n",
       "      <th>holiday_type</th>\n",
       "      <th>transferred</th>\n",
       "      <th>transactions</th>\n",
       "      <th>family</th>\n",
       "      <th>class</th>\n",
       "      <th>perishable</th>\n",
       "      <th>dcoilwtico</th>\n",
       "    </tr>\n",
       "  </thead>\n",
       "  <tbody>\n",
       "    <tr>\n",
       "      <th>0</th>\n",
       "      <td>30</td>\n",
       "      <td>2013-01-01</td>\n",
       "      <td>25</td>\n",
       "      <td>158680</td>\n",
       "      <td>1.00</td>\n",
       "      <td>True</td>\n",
       "      <td>Salinas</td>\n",
       "      <td>Santa Elena</td>\n",
       "      <td>D</td>\n",
       "      <td>1</td>\n",
       "      <td>Holiday</td>\n",
       "      <td>False</td>\n",
       "      <td>770.00</td>\n",
       "      <td>EGGS</td>\n",
       "      <td>2502</td>\n",
       "      <td>1</td>\n",
       "      <td>93.14</td>\n",
       "    </tr>\n",
       "    <tr>\n",
       "      <th>1</th>\n",
       "      <td>56</td>\n",
       "      <td>2013-01-01</td>\n",
       "      <td>25</td>\n",
       "      <td>208384</td>\n",
       "      <td>3.00</td>\n",
       "      <td>True</td>\n",
       "      <td>Salinas</td>\n",
       "      <td>Santa Elena</td>\n",
       "      <td>D</td>\n",
       "      <td>1</td>\n",
       "      <td>Holiday</td>\n",
       "      <td>False</td>\n",
       "      <td>770.00</td>\n",
       "      <td>EGGS</td>\n",
       "      <td>2502</td>\n",
       "      <td>1</td>\n",
       "      <td>93.14</td>\n",
       "    </tr>\n",
       "    <tr>\n",
       "      <th>2</th>\n",
       "      <td>74</td>\n",
       "      <td>2013-01-01</td>\n",
       "      <td>25</td>\n",
       "      <td>227111</td>\n",
       "      <td>1.00</td>\n",
       "      <td>True</td>\n",
       "      <td>Salinas</td>\n",
       "      <td>Santa Elena</td>\n",
       "      <td>D</td>\n",
       "      <td>1</td>\n",
       "      <td>Holiday</td>\n",
       "      <td>False</td>\n",
       "      <td>770.00</td>\n",
       "      <td>EGGS</td>\n",
       "      <td>2502</td>\n",
       "      <td>1</td>\n",
       "      <td>93.14</td>\n",
       "    </tr>\n",
       "    <tr>\n",
       "      <th>3</th>\n",
       "      <td>81</td>\n",
       "      <td>2013-01-01</td>\n",
       "      <td>25</td>\n",
       "      <td>258268</td>\n",
       "      <td>6.00</td>\n",
       "      <td>True</td>\n",
       "      <td>Salinas</td>\n",
       "      <td>Santa Elena</td>\n",
       "      <td>D</td>\n",
       "      <td>1</td>\n",
       "      <td>Holiday</td>\n",
       "      <td>False</td>\n",
       "      <td>770.00</td>\n",
       "      <td>EGGS</td>\n",
       "      <td>2502</td>\n",
       "      <td>1</td>\n",
       "      <td>93.14</td>\n",
       "    </tr>\n",
       "    <tr>\n",
       "      <th>4</th>\n",
       "      <td>166</td>\n",
       "      <td>2013-01-01</td>\n",
       "      <td>25</td>\n",
       "      <td>376427</td>\n",
       "      <td>1.00</td>\n",
       "      <td>True</td>\n",
       "      <td>Salinas</td>\n",
       "      <td>Santa Elena</td>\n",
       "      <td>D</td>\n",
       "      <td>1</td>\n",
       "      <td>Holiday</td>\n",
       "      <td>False</td>\n",
       "      <td>770.00</td>\n",
       "      <td>EGGS</td>\n",
       "      <td>2502</td>\n",
       "      <td>1</td>\n",
       "      <td>93.14</td>\n",
       "    </tr>\n",
       "  </tbody>\n",
       "</table>\n",
       "</div>"
      ],
      "text/plain": [
       "    id       date  store_nbr  item_nbr  unit_sales  onpromotion     city  \\\n",
       "0  30  2013-01-01  25         158680   1.00         True         Salinas   \n",
       "1  56  2013-01-01  25         208384   3.00         True         Salinas   \n",
       "2  74  2013-01-01  25         227111   1.00         True         Salinas   \n",
       "3  81  2013-01-01  25         258268   6.00         True         Salinas   \n",
       "4  166 2013-01-01  25         376427   1.00         True         Salinas   \n",
       "\n",
       "         state store_type  store_cluster holiday_type  transferred  \\\n",
       "0  Santa Elena  D          1              Holiday      False         \n",
       "1  Santa Elena  D          1              Holiday      False         \n",
       "2  Santa Elena  D          1              Holiday      False         \n",
       "3  Santa Elena  D          1              Holiday      False         \n",
       "4  Santa Elena  D          1              Holiday      False         \n",
       "\n",
       "   transactions family  class  perishable  dcoilwtico  \n",
       "0 770.00         EGGS   2502   1          93.14        \n",
       "1 770.00         EGGS   2502   1          93.14        \n",
       "2 770.00         EGGS   2502   1          93.14        \n",
       "3 770.00         EGGS   2502   1          93.14        \n",
       "4 770.00         EGGS   2502   1          93.14        "
      ]
     },
     "execution_count": 3,
     "metadata": {},
     "output_type": "execute_result"
    }
   ],
   "source": [
    "from azureml.core import Dataset, Run\n",
    "clusters_eggfamily= Dataset.get_by_name(workspace=ws, name='10cities_eggfamily')\n",
    "data= clusters_eggfamily.to_pandas_dataframe()\n",
    "data.head()"
   ]
  },
  {
   "cell_type": "code",
   "execution_count": 4,
   "metadata": {},
   "outputs": [],
   "source": [
    "data = data.drop(columns=['id','item_nbr'])"
   ]
  },
  {
   "cell_type": "code",
   "execution_count": 5,
   "metadata": {},
   "outputs": [
    {
     "name": "stdout",
     "output_type": "stream",
     "text": [
      "<class 'pandas.core.frame.DataFrame'>\n",
      "RangeIndex: 197557 entries, 0 to 197556\n",
      "Data columns (total 15 columns):\n",
      "date             197557 non-null datetime64[ns]\n",
      "store_nbr        197557 non-null int64\n",
      "unit_sales       197557 non-null float64\n",
      "onpromotion      197557 non-null bool\n",
      "city             197557 non-null object\n",
      "state            197557 non-null object\n",
      "store_type       197557 non-null object\n",
      "store_cluster    197557 non-null int64\n",
      "holiday_type     197557 non-null object\n",
      "transferred      197557 non-null bool\n",
      "transactions     197224 non-null float64\n",
      "family           197557 non-null object\n",
      "class            197557 non-null int64\n",
      "perishable       197557 non-null int64\n",
      "dcoilwtico       197557 non-null float64\n",
      "dtypes: bool(2), datetime64[ns](1), float64(3), int64(4), object(5)\n",
      "memory usage: 20.0+ MB\n"
     ]
    }
   ],
   "source": [
    "data.info()"
   ]
  },
  {
   "cell_type": "code",
   "execution_count": 6,
   "metadata": {},
   "outputs": [
    {
     "data": {
      "text/html": [
       "<div>\n",
       "<style scoped>\n",
       "    .dataframe tbody tr th:only-of-type {\n",
       "        vertical-align: middle;\n",
       "    }\n",
       "\n",
       "    .dataframe tbody tr th {\n",
       "        vertical-align: top;\n",
       "    }\n",
       "\n",
       "    .dataframe thead th {\n",
       "        text-align: right;\n",
       "    }\n",
       "</style>\n",
       "<table border=\"1\" class=\"dataframe\">\n",
       "  <thead>\n",
       "    <tr style=\"text-align: right;\">\n",
       "      <th></th>\n",
       "      <th>date</th>\n",
       "      <th>store_nbr</th>\n",
       "      <th>unit_sales</th>\n",
       "      <th>onpromotion</th>\n",
       "      <th>city</th>\n",
       "      <th>state</th>\n",
       "      <th>store_type</th>\n",
       "      <th>store_cluster</th>\n",
       "      <th>holiday_type</th>\n",
       "      <th>transferred</th>\n",
       "      <th>transactions</th>\n",
       "      <th>family</th>\n",
       "      <th>class</th>\n",
       "      <th>perishable</th>\n",
       "      <th>dcoilwtico</th>\n",
       "    </tr>\n",
       "  </thead>\n",
       "  <tbody>\n",
       "    <tr>\n",
       "      <th>0</th>\n",
       "      <td>2013-01-01</td>\n",
       "      <td>25</td>\n",
       "      <td>46.00</td>\n",
       "      <td>True</td>\n",
       "      <td>Salinas</td>\n",
       "      <td>Santa Elena</td>\n",
       "      <td>D</td>\n",
       "      <td>1</td>\n",
       "      <td>Holiday</td>\n",
       "      <td>False</td>\n",
       "      <td>10010.00</td>\n",
       "      <td>EGGS</td>\n",
       "      <td>2502</td>\n",
       "      <td>1</td>\n",
       "      <td>93.14</td>\n",
       "    </tr>\n",
       "    <tr>\n",
       "      <th>1</th>\n",
       "      <td>2013-01-02</td>\n",
       "      <td>14</td>\n",
       "      <td>53.00</td>\n",
       "      <td>True</td>\n",
       "      <td>Riobamba</td>\n",
       "      <td>Chimborazo</td>\n",
       "      <td>C</td>\n",
       "      <td>7</td>\n",
       "      <td>Work Day</td>\n",
       "      <td>True</td>\n",
       "      <td>22022.00</td>\n",
       "      <td>EGGS</td>\n",
       "      <td>2502</td>\n",
       "      <td>1</td>\n",
       "      <td>93.14</td>\n",
       "    </tr>\n",
       "    <tr>\n",
       "      <th>2</th>\n",
       "      <td>2013-01-02</td>\n",
       "      <td>15</td>\n",
       "      <td>73.00</td>\n",
       "      <td>True</td>\n",
       "      <td>Ibarra</td>\n",
       "      <td>Imbabura</td>\n",
       "      <td>C</td>\n",
       "      <td>15</td>\n",
       "      <td>Work Day</td>\n",
       "      <td>True</td>\n",
       "      <td>16220.00</td>\n",
       "      <td>EGGS</td>\n",
       "      <td>2502</td>\n",
       "      <td>1</td>\n",
       "      <td>93.14</td>\n",
       "    </tr>\n",
       "    <tr>\n",
       "      <th>3</th>\n",
       "      <td>2013-01-02</td>\n",
       "      <td>19</td>\n",
       "      <td>40.00</td>\n",
       "      <td>True</td>\n",
       "      <td>Guaranda</td>\n",
       "      <td>Bolivar</td>\n",
       "      <td>C</td>\n",
       "      <td>15</td>\n",
       "      <td>Work Day</td>\n",
       "      <td>True</td>\n",
       "      <td>13690.00</td>\n",
       "      <td>EGGS</td>\n",
       "      <td>2502</td>\n",
       "      <td>1</td>\n",
       "      <td>93.14</td>\n",
       "    </tr>\n",
       "    <tr>\n",
       "      <th>4</th>\n",
       "      <td>2013-01-02</td>\n",
       "      <td>25</td>\n",
       "      <td>136.00</td>\n",
       "      <td>True</td>\n",
       "      <td>Salinas</td>\n",
       "      <td>Santa Elena</td>\n",
       "      <td>D</td>\n",
       "      <td>1</td>\n",
       "      <td>Work Day</td>\n",
       "      <td>True</td>\n",
       "      <td>19722.00</td>\n",
       "      <td>EGGS</td>\n",
       "      <td>2502</td>\n",
       "      <td>1</td>\n",
       "      <td>93.14</td>\n",
       "    </tr>\n",
       "  </tbody>\n",
       "</table>\n",
       "</div>"
      ],
      "text/plain": [
       "        date  store_nbr  unit_sales  onpromotion      city        state  \\\n",
       "0 2013-01-01  25        46.00        True         Salinas   Santa Elena   \n",
       "1 2013-01-02  14        53.00        True         Riobamba  Chimborazo    \n",
       "2 2013-01-02  15        73.00        True         Ibarra    Imbabura      \n",
       "3 2013-01-02  19        40.00        True         Guaranda  Bolivar       \n",
       "4 2013-01-02  25        136.00       True         Salinas   Santa Elena   \n",
       "\n",
       "  store_type  store_cluster holiday_type  transferred  transactions family  \\\n",
       "0  D          1              Holiday      False       10010.00       EGGS    \n",
       "1  C          7              Work Day     True        22022.00       EGGS    \n",
       "2  C          15             Work Day     True        16220.00       EGGS    \n",
       "3  C          15             Work Day     True        13690.00       EGGS    \n",
       "4  D          1              Work Day     True        19722.00       EGGS    \n",
       "\n",
       "   class  perishable  dcoilwtico  \n",
       "0  2502   1          93.14        \n",
       "1  2502   1          93.14        \n",
       "2  2502   1          93.14        \n",
       "3  2502   1          93.14        \n",
       "4  2502   1          93.14        "
      ]
     },
     "execution_count": 6,
     "metadata": {},
     "output_type": "execute_result"
    }
   ],
   "source": [
    "data = data.groupby(['date','store_nbr'] , as_index=False).agg(\n",
    "{\n",
    "    'unit_sales':sum,\n",
    "    'onpromotion':'first',\n",
    "    'city': 'first',\n",
    "    'state': 'first',\n",
    "    'store_type': 'first',\n",
    "    'store_cluster': 'first',\n",
    "    'holiday_type':'first',\n",
    "    'transferred':'first',\n",
    "    'transactions': sum,\n",
    "    'family':'first',\n",
    "    'class':'first',\n",
    "    'perishable': 'first',\n",
    "    'dcoilwtico':'first'\n",
    "}\n",
    ")\n",
    "data.head()"
   ]
  },
  {
   "cell_type": "code",
   "execution_count": 7,
   "metadata": {},
   "outputs": [],
   "source": [
    "data['date'] = pd.to_datetime(data['date'])"
   ]
  },
  {
   "cell_type": "markdown",
   "metadata": {},
   "source": [
    "## Split the data\n",
    "\n",
    "splitting on time."
   ]
  },
  {
   "cell_type": "code",
   "execution_count": 8,
   "metadata": {},
   "outputs": [],
   "source": [
    "target_column_name = 'unit_sales'\n",
    "time_column_name = 'date'\n",
    "grain_column_names = ['store_nbr']\n",
    "label =  \"unit_sales\""
   ]
  },
  {
   "cell_type": "code",
   "execution_count": 9,
   "metadata": {},
   "outputs": [
    {
     "name": "stdout",
     "output_type": "stream",
     "text": [
      "(12788, 14)\n",
      "(12788,)\n",
      "(2379, 14)\n",
      "(2379,)\n"
     ]
    }
   ],
   "source": [
    "train = data[data[time_column_name] < '2017-01-01']\n",
    "test = data[data[time_column_name] >= '2017-01-01']\n",
    "\n",
    "X_train = train.copy()\n",
    "y_train = X_train.pop(target_column_name).values\n",
    "\n",
    "X_test = test.copy()\n",
    "y_test = X_test.pop(target_column_name).values\n",
    "\n",
    "print(X_train.shape)\n",
    "print(y_train.shape)\n",
    "print(X_test.shape)\n",
    "print(y_test.shape)"
   ]
  },
  {
   "cell_type": "markdown",
   "metadata": {},
   "source": [
    "# set up experiment"
   ]
  },
  {
   "cell_type": "code",
   "execution_count": 10,
   "metadata": {},
   "outputs": [],
   "source": [
    "time_series_settings = {\n",
    "    \"time_column_name\": \"date\",\n",
    "    \"grain_column_names\":['store_nbr'],\n",
    "    \"max_horizon\": 50,\n",
    "    \"target_lags\": 2,\n",
    "    \"target_rolling_window_size\": 10,\n",
    "    \"preprocess\": True,\n",
    "}"
   ]
  },
  {
   "cell_type": "code",
   "execution_count": 11,
   "metadata": {},
   "outputs": [],
   "source": [
    "automl_config = AutoMLConfig(task='forecasting',\n",
    "                             primary_metric='normalized_root_mean_squared_error',\n",
    "                             experiment_timeout_minutes=15,\n",
    "                             enable_early_stopping=True,\n",
    "                             training_data=train,\n",
    "                             label_column_name=label,\n",
    "                             n_cross_validations=5,\n",
    "                             enable_ensembling=False,\n",
    "                             verbosity=logging.INFO,\n",
    "                             **time_series_settings)"
   ]
  },
  {
   "cell_type": "markdown",
   "metadata": {},
   "source": [
    "# run model and get best model"
   ]
  },
  {
   "cell_type": "code",
   "execution_count": 12,
   "metadata": {
    "scrolled": false
   },
   "outputs": [
    {
     "name": "stdout",
     "output_type": "stream",
     "text": [
      "Running on local machine\n",
      "Parent Run ID: AutoML_ae679f6e-c321-4404-97d5-b791eec2b744\n",
      "Current status: DatasetFeaturization. Beginning to featurize the dataset.\n",
      "Current status: DatasetFeaturizationCompleted. Completed featurizing the dataset.\n",
      "Current status: DatasetCrossValidationSplit. Generating individually featurized CV splits.\n",
      "Current status: DatasetFeaturization. Beginning to featurize the CV split.\n",
      "Current status: DatasetFeaturizationCompleted. Completed featurizing the CV split.\n",
      "Current status: DatasetFeaturization. Beginning to featurize the CV split.\n",
      "Current status: DatasetFeaturizationCompleted. Completed featurizing the CV split.\n",
      "Current status: DatasetFeaturization. Beginning to featurize the CV split.\n",
      "Current status: DatasetFeaturizationCompleted. Completed featurizing the CV split.\n",
      "Current status: DatasetFeaturization. Beginning to featurize the CV split.\n",
      "Current status: DatasetFeaturizationCompleted. Completed featurizing the CV split.\n",
      "Current status: DatasetFeaturization. Beginning to featurize the CV split.\n",
      "Current status: DatasetFeaturizationCompleted. Completed featurizing the CV split.\n",
      "\n",
      "****************************************************************************************************\n",
      "DATA GUARDRAILS SUMMARY:\n",
      "For more details, use API: run.get_guardrails()\n",
      "\n",
      "TYPE:         Memory Issues Detection\n",
      "STATUS:       PASSED\n",
      "DESCRIPTION:  The selected horizon, lag and rolling window values were analyzed, and no potential memory issues were detected.\n",
      "\n",
      "****************************************************************************************************\n",
      "Current status: ModelSelection. Beginning model selection.\n",
      "\n",
      "****************************************************************************************************\n",
      "ITERATION: The iteration being evaluated.\n",
      "PIPELINE: A summary description of the pipeline being evaluated.\n",
      "DURATION: Time taken for the current iteration.\n",
      "METRIC: The result of computing score on the fitted pipeline.\n",
      "BEST: The best observed score thus far.\n",
      "****************************************************************************************************\n",
      "\n",
      " ITERATION   PIPELINE                                       DURATION      METRIC      BEST\n",
      "         0   RobustScaler ElasticNet                        0:00:52       0.0703    0.0703\n",
      "         1   StandardScalerWrapper ElasticNet               0:00:51       0.0705    0.0703\n",
      "         2   StandardScalerWrapper ElasticNet               0:00:42       0.0711    0.0703\n",
      "         3   StandardScalerWrapper RandomForest             0:01:18       0.0655    0.0655\n",
      "         4   StandardScalerWrapper LightGBM                 0:00:35       0.0675    0.0655\n",
      "         5   StandardScalerWrapper LassoLars                0:00:27       0.0698    0.0655\n",
      "         6   MinMaxScaler DecisionTree                      0:00:29       0.0661    0.0655\n",
      "         7   MaxAbsScaler RandomForest                      0:00:57       0.0622    0.0622\n",
      "         8   MaxAbsScaler DecisionTree                      0:00:35       0.0663    0.0622\n",
      "         9   MinMaxScaler DecisionTree                      0:00:34       0.0670    0.0622\n",
      "        10   StandardScalerWrapper ElasticNet               0:00:45       0.0698    0.0622\n",
      "        11   StandardScalerWrapper DecisionTree             0:00:39       0.0567    0.0567\n",
      "        12   MinMaxScaler ExtremeRandomTrees                0:00:58       0.0620    0.0567\n",
      "        13   MinMaxScaler ExtremeRandomTrees                0:00:43       0.0666    0.0567\n",
      "        14   StandardScalerWrapper ElasticNet               0:00:59       0.0703    0.0567\n",
      "        15   StandardScalerWrapper ElasticNet               0:00:42       0.0710    0.0567\n",
      "        16   StandardScalerWrapper ElasticNet               0:00:45       0.0709    0.0567\n",
      "        17   StandardScalerWrapper ElasticNet               0:00:49       0.0704    0.0567\n",
      "        18   StandardScalerWrapper LightGBM                 0:01:02       0.0544    0.0544\n",
      "        19   MinMaxScaler DecisionTree                      0:00:31       0.0684    0.0544\n",
      "        20   StackEnsemble                                  0:00:47       0.0504    0.0504\n",
      "Stopping criteria reached at iteration 20. Ending experiment.\n"
     ]
    }
   ],
   "source": [
    "local_run = experiment.submit(automl_config, show_output=True)\n"
   ]
  },
  {
   "cell_type": "markdown",
   "metadata": {},
   "source": [
    "### view local run summary"
   ]
  },
  {
   "cell_type": "code",
   "execution_count": 13,
   "metadata": {},
   "outputs": [
    {
     "data": {
      "text/html": [
       "<table style=\"width:100%\"><tr><th>Experiment</th><th>Id</th><th>Type</th><th>Status</th><th>Details Page</th><th>Docs Page</th></tr><tr><td>automl-saleforecasting</td><td>AutoML_ae679f6e-c321-4404-97d5-b791eec2b744</td><td>automl</td><td>Running</td><td><a href=\"https://ml.azure.com/experiments/automl-saleforecasting/runs/AutoML_ae679f6e-c321-4404-97d5-b791eec2b744?wsid=/subscriptions/d7143f7b-854d-4156-ba5d-01d92d5a774d/resourcegroups/tl2896ws/workspaces/tl289603\" target=\"_blank\" rel=\"noopener\">Link to Azure Machine Learning studio</a></td><td><a href=\"https://docs.microsoft.com/en-us/python/api/overview/azure/ml/intro?view=azure-ml-py\" target=\"_blank\" rel=\"noopener\">Link to Documentation</a></td></tr></table>"
      ],
      "text/plain": [
       "Run(Experiment: automl-saleforecasting,\n",
       "Id: AutoML_ae679f6e-c321-4404-97d5-b791eec2b744,\n",
       "Type: automl,\n",
       "Status: Running)"
      ]
     },
     "execution_count": 13,
     "metadata": {},
     "output_type": "execute_result"
    }
   ],
   "source": [
    "local_run"
   ]
  },
  {
   "cell_type": "markdown",
   "metadata": {},
   "source": [
    "## get best model"
   ]
  },
  {
   "cell_type": "code",
   "execution_count": 14,
   "metadata": {},
   "outputs": [
    {
     "data": {
      "text/plain": [
       "ForecastingPipelineWrapper(pipeline=Pipeline(memory=None,\n",
       "     steps=[('timeseriestransformer', TimeSeriesTransformer(logger=None,\n",
       "           pipeline_type=<TimeSeriesPipelineType.FULL: 1>)), ('stackensembleregressor', StackEnsembleRegressor(base_learners=[('18', Pipeline(memory=None,\n",
       "     steps=[('standardscalerwrapper', <automl.client.core.runtime.model_wrapp...   random_state=None, selection='cyclic', tol=0.0001, verbose=0),\n",
       "            training_cv_folds=5))]),\n",
       "              stddev=None)"
      ]
     },
     "execution_count": 14,
     "metadata": {},
     "output_type": "execute_result"
    }
   ],
   "source": [
    "best_run, fitted_model = local_run.get_output()\n",
    "fitted_model"
   ]
  },
  {
   "cell_type": "markdown",
   "metadata": {},
   "source": [
    "# monitoring runs"
   ]
  },
  {
   "cell_type": "code",
   "execution_count": 15,
   "metadata": {},
   "outputs": [
    {
     "data": {
      "application/vnd.jupyter.widget-view+json": {
       "model_id": "f033182211f44bf9b11da598fc535b31",
       "version_major": 2,
       "version_minor": 0
      },
      "text/plain": [
       "_AutoMLWidget(widget_settings={'childWidgetDisplay': 'popup', 'send_telemetry': False, 'log_level': 'INFO', 's…"
      ]
     },
     "metadata": {},
     "output_type": "display_data"
    },
    {
     "data": {
      "application/aml.mini.widget.v1": "{\"status\": \"Completed\", \"workbench_run_details_uri\": \"https://ml.azure.com/experiments/automl-saleforecasting/runs/AutoML_ae679f6e-c321-4404-97d5-b791eec2b744?wsid=/subscriptions/d7143f7b-854d-4156-ba5d-01d92d5a774d/resourcegroups/tl2896ws/workspaces/tl289603\", \"run_id\": \"AutoML_ae679f6e-c321-4404-97d5-b791eec2b744\", \"run_properties\": {\"run_id\": \"AutoML_ae679f6e-c321-4404-97d5-b791eec2b744\", \"created_utc\": \"2019-11-14T22:01:27.785925Z\", \"properties\": {\"num_iterations\": \"1000\", \"training_type\": \"TrainFull\", \"acquisition_function\": \"EI\", \"primary_metric\": \"normalized_root_mean_squared_error\", \"train_split\": \"0\", \"MaxTimeSeconds\": \"0\", \"acquisition_parameter\": \"0\", \"num_cross_validation\": \"5\", \"target\": \"local\", \"RawAMLSettingsString\": \"{'name': 'automl-saleforecasting', 'path': '.', 'subscription_id': 'd7143f7b-854d-4156-ba5d-01d92d5a774d', 'resource_group': 'tl2896ws', 'workspace_name': 'tl289603', 'region': 'westus2', 'compute_target': 'local', 'spark_service': None, 'azure_service': None, 'iterations': 1000, 'primary_metric': 'normalized_root_mean_squared_error', 'task_type': 'regression', 'data_script': None, 'validation_size': 0.0, 'n_cross_validations': 5, 'y_min': 3.0, 'y_max': 3110.0, 'num_classes': None, 'featurization': 'auto', 'preprocess': True, 'lag_length': 0, 'is_timeseries': True, 'max_cores_per_iteration': 1, 'max_concurrent_iterations': 1, 'iteration_timeout_minutes': None, 'mem_in_mb': None, 'enforce_time_on_windows': False, 'experiment_timeout_minutes': 15, 'experiment_exit_score': None, 'whitelist_models': None, 'blacklist_algos': ['XGBoostRegressor', 'Prophet', 'KNN', 'SVM'], 'supported_models': ['ElasticNet', 'GradientBoosting', 'DecisionTree', 'KNN', 'LassoLars', 'SGD', 'RandomForest', 'ExtremeRandomTrees', 'LightGBM', 'XGBoostRegressor', 'FastLinearRegressor', 'OnlineGradientDescentRegressor', 'TensorFlowLinearRegressor', 'TensorFlowDNN', 'AutoArima', 'Prophet', 'TCNForecaster'], 'auto_blacklist': True, 'blacklist_samples_reached': True, 'exclude_nan_labels': True, 'verbosity': 20, 'debug_log': 'automl.log', 'show_warnings': False, 'model_explainability': False, 'service_url': None, 'sdk_url': None, 'sdk_packages': None, 'enable_onnx_compatible_models': False, 'enable_split_onnx_featurizer_estimator_models': False, 'vm_type': None, 'telemetry_verbosity': 'INFO', 'send_telemetry': True, 'enable_dnn': False, 'enable_feature_sweeping': False, 'time_column_name': 'date', 'grain_column_names': ['store_nbr'], 'drop_column_names': None, 'max_horizon': 50, 'dropna': False, 'overwrite_columns': True, 'transform_dictionary': {'min': '_automl_target_col', 'max': '_automl_target_col', 'mean': '_automl_target_col'}, 'window_size': 10, 'country_or_region': None, 'lags': {'_automl_target_col': [2]}, 'seasonality': -1, 'use_stl': None, 'short_series_handling': False, 'enable_early_stopping': True, 'early_stopping_n_iters': 10, 'metrics': None, 'enable_ensembling': False, 'enable_stack_ensembling': True, 'ensemble_iterations': 15, 'enable_tf': False, 'enable_cache': True, 'enable_subsampling': False, 'subsample_seed': None, 'enable_nimbusml': False, 'enable_streaming': False, 'label_column_name': 'unit_sales', 'weight_column_name': None, 'cost_mode': 0, 'metric_operation': 'minimize'}\", \"AMLSettingsJsonString\": \"{\\\"name\\\":\\\"automl-saleforecasting\\\",\\\"path\\\":\\\".\\\",\\\"subscription_id\\\":\\\"d7143f7b-854d-4156-ba5d-01d92d5a774d\\\",\\\"resource_group\\\":\\\"tl2896ws\\\",\\\"workspace_name\\\":\\\"tl289603\\\",\\\"region\\\":\\\"westus2\\\",\\\"compute_target\\\":\\\"local\\\",\\\"spark_service\\\":null,\\\"azure_service\\\":null,\\\"iterations\\\":1000,\\\"primary_metric\\\":\\\"normalized_root_mean_squared_error\\\",\\\"task_type\\\":\\\"regression\\\",\\\"data_script\\\":null,\\\"validation_size\\\":0.0,\\\"n_cross_validations\\\":5,\\\"y_min\\\":3.0,\\\"y_max\\\":3110.0,\\\"num_classes\\\":null,\\\"featurization\\\":\\\"auto\\\",\\\"preprocess\\\":true,\\\"lag_length\\\":0,\\\"is_timeseries\\\":true,\\\"max_cores_per_iteration\\\":1,\\\"max_concurrent_iterations\\\":1,\\\"iteration_timeout_minutes\\\":null,\\\"mem_in_mb\\\":null,\\\"enforce_time_on_windows\\\":false,\\\"experiment_timeout_minutes\\\":15,\\\"experiment_exit_score\\\":null,\\\"whitelist_models\\\":null,\\\"blacklist_algos\\\":[\\\"XGBoostRegressor\\\",\\\"Prophet\\\",\\\"KNN\\\",\\\"SVM\\\",\\\"AutoArima\\\"],\\\"supported_models\\\":[\\\"ElasticNet\\\",\\\"GradientBoosting\\\",\\\"DecisionTree\\\",\\\"KNN\\\",\\\"LassoLars\\\",\\\"SGD\\\",\\\"RandomForest\\\",\\\"ExtremeRandomTrees\\\",\\\"LightGBM\\\",\\\"XGBoostRegressor\\\",\\\"FastLinearRegressor\\\",\\\"OnlineGradientDescentRegressor\\\",\\\"TensorFlowLinearRegressor\\\",\\\"TensorFlowDNN\\\",\\\"AutoArima\\\",\\\"Prophet\\\",\\\"TCNForecaster\\\"],\\\"auto_blacklist\\\":true,\\\"blacklist_samples_reached\\\":true,\\\"exclude_nan_labels\\\":true,\\\"verbosity\\\":20,\\\"debug_log\\\":\\\"automl.log\\\",\\\"show_warnings\\\":false,\\\"model_explainability\\\":false,\\\"service_url\\\":null,\\\"sdk_url\\\":null,\\\"sdk_packages\\\":null,\\\"enable_onnx_compatible_models\\\":false,\\\"enable_split_onnx_featurizer_estimator_models\\\":false,\\\"vm_type\\\":null,\\\"telemetry_verbosity\\\":\\\"INFO\\\",\\\"send_telemetry\\\":true,\\\"enable_dnn\\\":false,\\\"enable_feature_sweeping\\\":false,\\\"time_column_name\\\":\\\"date\\\",\\\"grain_column_names\\\":[\\\"store_nbr\\\"],\\\"drop_column_names\\\":null,\\\"max_horizon\\\":50,\\\"dropna\\\":false,\\\"overwrite_columns\\\":true,\\\"transform_dictionary\\\":{\\\"min\\\":\\\"_automl_target_col\\\",\\\"max\\\":\\\"_automl_target_col\\\",\\\"mean\\\":\\\"_automl_target_col\\\"},\\\"window_size\\\":10,\\\"country_or_region\\\":null,\\\"lags\\\":{\\\"_automl_target_col\\\":[2]},\\\"seasonality\\\":-1,\\\"use_stl\\\":null,\\\"short_series_handling\\\":false,\\\"enable_early_stopping\\\":true,\\\"early_stopping_n_iters\\\":10,\\\"metrics\\\":null,\\\"enable_ensembling\\\":false,\\\"enable_stack_ensembling\\\":true,\\\"ensemble_iterations\\\":15,\\\"enable_tf\\\":false,\\\"enable_cache\\\":true,\\\"enable_subsampling\\\":false,\\\"subsample_seed\\\":null,\\\"enable_nimbusml\\\":false,\\\"enable_streaming\\\":false,\\\"label_column_name\\\":\\\"unit_sales\\\",\\\"weight_column_name\\\":null,\\\"cost_mode\\\":0,\\\"metric_operation\\\":\\\"minimize\\\"}\", \"DataPrepJsonString\": null, \"EnableSubsampling\": \"False\", \"runTemplate\": \"AutoML\", \"azureml.runsource\": \"automl\", \"display_task_type\": \"forecasting\", \"dependencies_versions\": \"{\\\"azureml-widgets\\\": \\\"1.0.72\\\", \\\"azureml-train\\\": \\\"1.0.72\\\", \\\"azureml-train-restclients-hyperdrive\\\": \\\"1.0.72\\\", \\\"azureml-train-core\\\": \\\"1.0.72\\\", \\\"azureml-train-automl\\\": \\\"1.0.72\\\", \\\"azureml-tensorboard\\\": \\\"1.0.72\\\", \\\"azureml-telemetry\\\": \\\"1.0.72\\\", \\\"azureml-sdk\\\": \\\"1.0.72\\\", \\\"azureml-samples\\\": \\\"0+unknown\\\", \\\"azureml-pipeline\\\": \\\"1.0.72\\\", \\\"azureml-pipeline-steps\\\": \\\"1.0.72\\\", \\\"azureml-pipeline-core\\\": \\\"1.0.72\\\", \\\"azureml-opendatasets\\\": \\\"1.0.72\\\", \\\"azureml-model-management-sdk\\\": \\\"1.0.1b6.post1\\\", \\\"azureml-interpret\\\": \\\"1.0.72.1\\\", \\\"azureml-explain-model\\\": \\\"1.0.72\\\", \\\"azureml-defaults\\\": \\\"1.0.72\\\", \\\"azureml-dataprep\\\": \\\"1.1.29\\\", \\\"azureml-dataprep-native\\\": \\\"13.1.0\\\", \\\"azureml-datadrift\\\": \\\"1.0.72\\\", \\\"azureml-core\\\": \\\"1.0.72\\\", \\\"azureml-contrib-services\\\": \\\"1.0.72\\\", \\\"azureml-contrib-server\\\": \\\"1.0.72\\\", \\\"azureml-contrib-reinforcementlearning\\\": \\\"0.1.0.5919674\\\", \\\"azureml-contrib-opendatasets\\\": \\\"1.0.45\\\", \\\"azureml-contrib-notebook\\\": \\\"1.0.72\\\", \\\"azureml-contrib-interpret\\\": \\\"1.0.72\\\", \\\"azureml-contrib-datadrift\\\": \\\"1.0.72\\\", \\\"azureml-automl-core\\\": \\\"1.0.72.1\\\"}\", \"ProblemInfoJsonString\": \"{\\\"dataset_num_categorical\\\": 0, \\\"is_sparse\\\": false, \\\"subsampling\\\": false, \\\"dataset_classes\\\": 492, \\\"dataset_features\\\": 33, \\\"dataset_samples\\\": 622150, \\\"single_frequency_class_detected\\\": false}\"}, \"tags\": {\"model_explain_run\": \"best_run\", \"experiment_status\": \"ModelSelection\", \"experiment_status_descr\": \"Beginning model selection.\"}, \"end_time_utc\": \"2019-11-14T22:20:26.288703Z\", \"status\": \"Completed\", \"log_files\": {}, \"log_groups\": [], \"run_duration\": \"0:18:58\"}, \"child_runs\": [{\"run_id\": \"AutoML_ae679f6e-c321-4404-97d5-b791eec2b744_0\", \"run_number\": 41, \"metric\": null, \"status\": \"Completed\", \"run_type\": null, \"training_percent\": \"100\", \"start_time\": \"2019-11-14T22:04:16.933607Z\", \"end_time\": \"2019-11-14T22:05:07.194231Z\", \"created_time\": \"2019-11-14T22:04:16.65248Z\", \"created_time_dt\": \"2019-11-14T22:04:16.65248Z\", \"duration\": \"0:00:50\", \"iteration\": \"0\", \"goal\": \"normalized_root_mean_squared_error_min\", \"run_name\": \"RobustScaler, ElasticNet\", \"run_properties\": \"copy=True, quantile_range=[25, 75], with_centering=True,\\n       with_scaling=False\", \"primary_metric\": 0.07025316, \"best_metric\": 0.07025316}, {\"run_id\": \"AutoML_ae679f6e-c321-4404-97d5-b791eec2b744_1\", \"run_number\": 44, \"metric\": null, \"status\": \"Completed\", \"run_type\": null, \"training_percent\": \"100\", \"start_time\": \"2019-11-14T22:05:08.832697Z\", \"end_time\": \"2019-11-14T22:05:58.774096Z\", \"created_time\": \"2019-11-14T22:05:08.686361Z\", \"created_time_dt\": \"2019-11-14T22:05:08.686361Z\", \"duration\": \"0:00:50\", \"iteration\": \"1\", \"goal\": \"normalized_root_mean_squared_error_min\", \"run_name\": \"StandardScalerWrapper, ElasticNet\", \"run_properties\": \"<automl.client.core.runtime.model_wrappers.StandardScalerWrapper object at 0x7f42d85a79e8\", \"primary_metric\": 0.07052633, \"best_metric\": 0.07025316}, {\"run_id\": \"AutoML_ae679f6e-c321-4404-97d5-b791eec2b744_2\", \"run_number\": 47, \"metric\": null, \"status\": \"Completed\", \"run_type\": null, \"training_percent\": \"100\", \"start_time\": \"2019-11-14T22:05:59.953876Z\", \"end_time\": \"2019-11-14T22:06:41.685274Z\", \"created_time\": \"2019-11-14T22:05:59.915796Z\", \"created_time_dt\": \"2019-11-14T22:05:59.915796Z\", \"duration\": \"0:00:41\", \"iteration\": \"2\", \"goal\": \"normalized_root_mean_squared_error_min\", \"run_name\": \"StandardScalerWrapper, ElasticNet\", \"run_properties\": \"<automl.client.core.runtime.model_wrappers.StandardScalerWrapper object at 0x7f42db91bc50\", \"primary_metric\": 0.0711482, \"best_metric\": 0.07025316}, {\"run_id\": \"AutoML_ae679f6e-c321-4404-97d5-b791eec2b744_3\", \"run_number\": 49, \"metric\": null, \"status\": \"Completed\", \"run_type\": null, \"training_percent\": \"100\", \"start_time\": \"2019-11-14T22:06:42.875561Z\", \"end_time\": \"2019-11-14T22:08:00.122083Z\", \"created_time\": \"2019-11-14T22:06:42.838867Z\", \"created_time_dt\": \"2019-11-14T22:06:42.838867Z\", \"duration\": \"0:01:17\", \"iteration\": \"3\", \"goal\": \"normalized_root_mean_squared_error_min\", \"run_name\": \"StandardScalerWrapper, RandomForest\", \"run_properties\": \"<automl.client.core.runtime.model_wrappers.StandardScalerWrapper object at 0x7f438f70f320\", \"primary_metric\": 0.06545547, \"best_metric\": 0.06545547}, {\"run_id\": \"AutoML_ae679f6e-c321-4404-97d5-b791eec2b744_4\", \"run_number\": 52, \"metric\": null, \"status\": \"Completed\", \"run_type\": null, \"training_percent\": \"100\", \"start_time\": \"2019-11-14T22:08:01.7255Z\", \"end_time\": \"2019-11-14T22:08:35.58272Z\", \"created_time\": \"2019-11-14T22:08:01.636969Z\", \"created_time_dt\": \"2019-11-14T22:08:01.636969Z\", \"duration\": \"0:00:33\", \"iteration\": \"4\", \"goal\": \"normalized_root_mean_squared_error_min\", \"run_name\": \"StandardScalerWrapper, LightGBM\", \"run_properties\": \"<automl.client.core.runtime.model_wrappers.StandardScalerWrapper object at 0x7f42d85a4550\", \"primary_metric\": 0.06746341, \"best_metric\": 0.06545547}, {\"run_id\": \"AutoML_ae679f6e-c321-4404-97d5-b791eec2b744_5\", \"run_number\": 54, \"metric\": null, \"status\": \"Completed\", \"run_type\": null, \"training_percent\": \"100\", \"start_time\": \"2019-11-14T22:08:36.674923Z\", \"end_time\": \"2019-11-14T22:09:03.230942Z\", \"created_time\": \"2019-11-14T22:08:36.635724Z\", \"created_time_dt\": \"2019-11-14T22:08:36.635724Z\", \"duration\": \"0:00:26\", \"iteration\": \"5\", \"goal\": \"normalized_root_mean_squared_error_min\", \"run_name\": \"StandardScalerWrapper, LassoLars\", \"run_properties\": \"<automl.client.core.runtime.model_wrappers.StandardScalerWrapper object at 0x7f42d85b6470\", \"primary_metric\": 0.0697794, \"best_metric\": 0.06545547}, {\"run_id\": \"AutoML_ae679f6e-c321-4404-97d5-b791eec2b744_6\", \"run_number\": 56, \"metric\": null, \"status\": \"Completed\", \"run_type\": null, \"training_percent\": \"100\", \"start_time\": \"2019-11-14T22:09:05.680316Z\", \"end_time\": \"2019-11-14T22:09:32.663069Z\", \"created_time\": \"2019-11-14T22:09:04.688698Z\", \"created_time_dt\": \"2019-11-14T22:09:04.688698Z\", \"duration\": \"0:00:27\", \"iteration\": \"6\", \"goal\": \"normalized_root_mean_squared_error_min\", \"run_name\": \"MinMaxScaler, DecisionTree\", \"run_properties\": \"copy=True, feature_range=(0, 1\", \"primary_metric\": 0.06610806, \"best_metric\": 0.06545547}, {\"run_id\": \"AutoML_ae679f6e-c321-4404-97d5-b791eec2b744_7\", \"run_number\": 58, \"metric\": null, \"status\": \"Completed\", \"run_type\": null, \"training_percent\": \"100\", \"start_time\": \"2019-11-14T22:09:33.814707Z\", \"end_time\": \"2019-11-14T22:10:30.231334Z\", \"created_time\": \"2019-11-14T22:09:33.723761Z\", \"created_time_dt\": \"2019-11-14T22:09:33.723761Z\", \"duration\": \"0:00:56\", \"iteration\": \"7\", \"goal\": \"normalized_root_mean_squared_error_min\", \"run_name\": \"MaxAbsScaler, RandomForest\", \"run_properties\": \"copy=True\", \"primary_metric\": 0.06218286, \"best_metric\": 0.06218286}, {\"run_id\": \"AutoML_ae679f6e-c321-4404-97d5-b791eec2b744_8\", \"run_number\": 60, \"metric\": null, \"status\": \"Completed\", \"run_type\": null, \"training_percent\": \"100\", \"start_time\": \"2019-11-14T22:10:31.407094Z\", \"end_time\": \"2019-11-14T22:11:05.584746Z\", \"created_time\": \"2019-11-14T22:10:31.361814Z\", \"created_time_dt\": \"2019-11-14T22:10:31.361814Z\", \"duration\": \"0:00:34\", \"iteration\": \"8\", \"goal\": \"normalized_root_mean_squared_error_min\", \"run_name\": \"MaxAbsScaler, DecisionTree\", \"run_properties\": \"copy=True\", \"primary_metric\": 0.06626345, \"best_metric\": 0.06218286}, {\"run_id\": \"AutoML_ae679f6e-c321-4404-97d5-b791eec2b744_9\", \"run_number\": 61, \"metric\": null, \"status\": \"Completed\", \"run_type\": null, \"training_percent\": \"100\", \"start_time\": \"2019-11-14T22:11:06.931574Z\", \"end_time\": \"2019-11-14T22:11:39.980308Z\", \"created_time\": \"2019-11-14T22:11:06.867601Z\", \"created_time_dt\": \"2019-11-14T22:11:06.867601Z\", \"duration\": \"0:00:33\", \"iteration\": \"9\", \"goal\": \"normalized_root_mean_squared_error_min\", \"run_name\": \"MinMaxScaler, DecisionTree\", \"run_properties\": \"copy=True, feature_range=(0, 1\", \"primary_metric\": 0.06697441, \"best_metric\": 0.06218286}, {\"run_id\": \"AutoML_ae679f6e-c321-4404-97d5-b791eec2b744_10\", \"run_number\": 62, \"metric\": null, \"status\": \"Completed\", \"run_type\": null, \"training_percent\": \"100\", \"start_time\": \"2019-11-14T22:11:41.460446Z\", \"end_time\": \"2019-11-14T22:12:23.368929Z\", \"created_time\": \"2019-11-14T22:11:41.435295Z\", \"created_time_dt\": \"2019-11-14T22:11:41.435295Z\", \"duration\": \"0:00:41\", \"iteration\": \"10\", \"goal\": \"normalized_root_mean_squared_error_min\", \"run_name\": \"StandardScalerWrapper, ElasticNet\", \"run_properties\": \"<automl.client.core.runtime.model_wrappers.StandardScalerWrapper object at 0x7f42dd0b8cf8\", \"primary_metric\": 0.06978691, \"best_metric\": 0.06218286}, {\"run_id\": \"AutoML_ae679f6e-c321-4404-97d5-b791eec2b744_11\", \"run_number\": 64, \"metric\": null, \"status\": \"Completed\", \"run_type\": null, \"training_percent\": \"100\", \"start_time\": \"2019-11-14T22:12:26.608279Z\", \"end_time\": \"2019-11-14T22:13:04.770185Z\", \"created_time\": \"2019-11-14T22:12:26.549406Z\", \"created_time_dt\": \"2019-11-14T22:12:26.549406Z\", \"duration\": \"0:00:38\", \"iteration\": \"11\", \"goal\": \"normalized_root_mean_squared_error_min\", \"run_name\": \"StandardScalerWrapper, DecisionTree\", \"run_properties\": \"<automl.client.core.runtime.model_wrappers.StandardScalerWrapper object at 0x7f43069009b0\", \"primary_metric\": 0.05668171, \"best_metric\": 0.05668171}, {\"run_id\": \"AutoML_ae679f6e-c321-4404-97d5-b791eec2b744_12\", \"run_number\": 65, \"metric\": null, \"status\": \"Completed\", \"run_type\": null, \"training_percent\": \"100\", \"start_time\": \"2019-11-14T22:13:06.095098Z\", \"end_time\": \"2019-11-14T22:14:02.777135Z\", \"created_time\": \"2019-11-14T22:13:06.013779Z\", \"created_time_dt\": \"2019-11-14T22:13:06.013779Z\", \"duration\": \"0:00:56\", \"iteration\": \"12\", \"goal\": \"normalized_root_mean_squared_error_min\", \"run_name\": \"MinMaxScaler, ExtremeRandomTrees\", \"run_properties\": \"copy=True, feature_range=(0, 1\", \"primary_metric\": 0.06200952, \"best_metric\": 0.05668171}, {\"run_id\": \"AutoML_ae679f6e-c321-4404-97d5-b791eec2b744_13\", \"run_number\": 68, \"metric\": null, \"status\": \"Completed\", \"run_type\": null, \"training_percent\": \"100\", \"start_time\": \"2019-11-14T22:14:04.53549Z\", \"end_time\": \"2019-11-14T22:14:46.380518Z\", \"created_time\": \"2019-11-14T22:14:04.047343Z\", \"created_time_dt\": \"2019-11-14T22:14:04.047343Z\", \"duration\": \"0:00:42\", \"iteration\": \"13\", \"goal\": \"normalized_root_mean_squared_error_min\", \"run_name\": \"MinMaxScaler, ExtremeRandomTrees\", \"run_properties\": \"copy=True, feature_range=(0, 1\", \"primary_metric\": 0.06655472, \"best_metric\": 0.05668171}, {\"run_id\": \"AutoML_ae679f6e-c321-4404-97d5-b791eec2b744_14\", \"run_number\": 70, \"metric\": null, \"status\": \"Completed\", \"run_type\": null, \"training_percent\": \"100\", \"start_time\": \"2019-11-14T22:14:47.69054Z\", \"end_time\": \"2019-11-14T22:15:45.688502Z\", \"created_time\": \"2019-11-14T22:14:47.620174Z\", \"created_time_dt\": \"2019-11-14T22:14:47.620174Z\", \"duration\": \"0:00:58\", \"iteration\": \"14\", \"goal\": \"normalized_root_mean_squared_error_min\", \"run_name\": \"StandardScalerWrapper, ElasticNet\", \"run_properties\": \"<automl.client.core.runtime.model_wrappers.StandardScalerWrapper object at 0x7f42d3150f28\", \"primary_metric\": 0.07031114, \"best_metric\": 0.05668171}, {\"run_id\": \"AutoML_ae679f6e-c321-4404-97d5-b791eec2b744_15\", \"run_number\": 71, \"metric\": null, \"status\": \"Completed\", \"run_type\": null, \"training_percent\": \"100\", \"start_time\": \"2019-11-14T22:15:46.983061Z\", \"end_time\": \"2019-11-14T22:16:27.832734Z\", \"created_time\": \"2019-11-14T22:15:46.874282Z\", \"created_time_dt\": \"2019-11-14T22:15:46.874282Z\", \"duration\": \"0:00:40\", \"iteration\": \"15\", \"goal\": \"normalized_root_mean_squared_error_min\", \"run_name\": \"StandardScalerWrapper, ElasticNet\", \"run_properties\": \"<automl.client.core.runtime.model_wrappers.StandardScalerWrapper object at 0x7f430690c748\", \"primary_metric\": 0.07095476, \"best_metric\": 0.05668171}, {\"run_id\": \"AutoML_ae679f6e-c321-4404-97d5-b791eec2b744_16\", \"run_number\": 72, \"metric\": null, \"status\": \"Completed\", \"run_type\": null, \"training_percent\": \"100\", \"start_time\": \"2019-11-14T22:16:29.898789Z\", \"end_time\": \"2019-11-14T22:17:13.670879Z\", \"created_time\": \"2019-11-14T22:16:29.758814Z\", \"created_time_dt\": \"2019-11-14T22:16:29.758814Z\", \"duration\": \"0:00:43\", \"iteration\": \"16\", \"goal\": \"normalized_root_mean_squared_error_min\", \"run_name\": \"StandardScalerWrapper, ElasticNet\", \"run_properties\": \"<automl.client.core.runtime.model_wrappers.StandardScalerWrapper object at 0x7f4306a5ee80\", \"primary_metric\": 0.07094466, \"best_metric\": 0.05668171}, {\"run_id\": \"AutoML_ae679f6e-c321-4404-97d5-b791eec2b744_17\", \"run_number\": 73, \"metric\": null, \"status\": \"Completed\", \"run_type\": null, \"training_percent\": \"100\", \"start_time\": \"2019-11-14T22:17:14.957993Z\", \"end_time\": \"2019-11-14T22:18:03.51353Z\", \"created_time\": \"2019-11-14T22:17:14.860843Z\", \"created_time_dt\": \"2019-11-14T22:17:14.860843Z\", \"duration\": \"0:00:48\", \"iteration\": \"17\", \"goal\": \"normalized_root_mean_squared_error_min\", \"run_name\": \"StandardScalerWrapper, ElasticNet\", \"run_properties\": \"<automl.client.core.runtime.model_wrappers.StandardScalerWrapper object at 0x7f42d85b0c50\", \"primary_metric\": 0.07037337, \"best_metric\": 0.05668171}, {\"run_id\": \"AutoML_ae679f6e-c321-4404-97d5-b791eec2b744_18\", \"run_number\": 74, \"metric\": null, \"status\": \"Completed\", \"run_type\": null, \"training_percent\": \"100\", \"start_time\": \"2019-11-14T22:18:04.625131Z\", \"end_time\": \"2019-11-14T22:19:05.516699Z\", \"created_time\": \"2019-11-14T22:18:04.495168Z\", \"created_time_dt\": \"2019-11-14T22:18:04.495168Z\", \"duration\": \"0:01:01\", \"iteration\": \"18\", \"goal\": \"normalized_root_mean_squared_error_min\", \"run_name\": \"StandardScalerWrapper, LightGBM\", \"run_properties\": \"<automl.client.core.runtime.model_wrappers.StandardScalerWrapper object at 0x7f42d3150588\", \"primary_metric\": 0.05436142, \"best_metric\": 0.05436142}, {\"run_id\": \"AutoML_ae679f6e-c321-4404-97d5-b791eec2b744_19\", \"run_number\": 75, \"metric\": null, \"status\": \"Completed\", \"run_type\": null, \"training_percent\": \"100\", \"start_time\": \"2019-11-14T22:19:07.762151Z\", \"end_time\": \"2019-11-14T22:19:37.39811Z\", \"created_time\": \"2019-11-14T22:19:07.731386Z\", \"created_time_dt\": \"2019-11-14T22:19:07.731386Z\", \"duration\": \"0:00:29\", \"iteration\": \"19\", \"goal\": \"normalized_root_mean_squared_error_min\", \"run_name\": \"MinMaxScaler, DecisionTree\", \"run_properties\": \"copy=True, feature_range=(0, 1\", \"primary_metric\": 0.06838836, \"best_metric\": 0.05436142}, {\"run_id\": \"AutoML_ae679f6e-c321-4404-97d5-b791eec2b744_20\", \"run_number\": 76, \"metric\": null, \"status\": \"Completed\", \"run_type\": null, \"training_percent\": \"100\", \"start_time\": \"2019-11-14T22:19:38.452412Z\", \"end_time\": \"2019-11-14T22:20:24.37025Z\", \"created_time\": \"2019-11-14T22:19:38.306747Z\", \"created_time_dt\": \"2019-11-14T22:19:38.306747Z\", \"duration\": \"0:00:46\", \"iteration\": \"20\", \"goal\": \"normalized_root_mean_squared_error_min\", \"run_name\": \"StackEnsemble\", \"run_properties\": \"base_learners=[('18', Pipeline(memory=None,\\n     steps=[('standardscalerwrapper', <automl.client.core.runtime.model_wrappers.StandardScalerWrapper object at 0x7f42db774d68>\", \"primary_metric\": 0.05036275, \"best_metric\": 0.05036275}], \"children_metrics\": {\"categories\": [0], \"series\": {\"root_mean_squared_log_error\": [{\"categories\": [\"0\", \"1\", \"2\", \"3\", \"4\", \"5\", \"6\", \"7\", \"8\", \"9\", \"10\", \"11\", \"12\", \"13\", \"14\", \"15\", \"16\", \"17\", \"18\", \"19\", \"20\"], \"mode\": \"markers\", \"name\": \"root_mean_squared_log_error\", \"stepped\": false, \"type\": \"scatter\", \"data\": [0.7824171846754873, 0.7709507699395013, 0.7960830724010793, 0.582699501318375, 0.6244496732011181, 0.7725831280715798, 0.5738992440768468, 0.5462304753561804, 0.6254047032250087, 0.6083124953445054, 0.7726730929189423, 0.5614931779772245, 0.530674346494577, 0.5824162174176807, 0.797398801011165, 0.7968936798853261, 0.7984248260790634, 0.7726247508714663, 0.5328565273647021, 0.6469229777718148, NaN]}, {\"categories\": [\"0\", \"1\", \"2\", \"3\", \"4\", \"5\", \"6\", \"7\", \"8\", \"9\", \"10\", \"11\", \"12\", \"13\", \"14\", \"15\", \"16\", \"17\", \"18\", \"19\", \"20\"], \"mode\": \"lines\", \"name\": \"root_mean_squared_log_error_min\", \"stepped\": true, \"type\": \"scatter\", \"data\": [0.7824171846754873, 0.7709507699395013, 0.7709507699395013, 0.582699501318375, 0.582699501318375, 0.582699501318375, 0.5738992440768468, 0.5462304753561804, 0.5462304753561804, 0.5462304753561804, 0.5462304753561804, 0.5462304753561804, 0.530674346494577, 0.530674346494577, 0.530674346494577, 0.530674346494577, 0.530674346494577, 0.530674346494577, 0.530674346494577, 0.530674346494577, 0.530674346494577]}], \"normalized_median_absolute_error\": [{\"categories\": [\"0\", \"1\", \"2\", \"3\", \"4\", \"5\", \"6\", \"7\", \"8\", \"9\", \"10\", \"11\", \"12\", \"13\", \"14\", \"15\", \"16\", \"17\", \"18\", \"19\", \"20\"], \"mode\": \"markers\", \"name\": \"normalized_median_absolute_error\", \"stepped\": false, \"type\": \"scatter\", \"data\": [0.017025607888219073, 0.016128240992221994, 0.017208156497921144, 0.011188204933535282, 0.012166788556542425, 0.016564245092265714, 0.010245864460494926, 0.010105675444515162, 0.011421020597684673, 0.012320877810278888, 0.016563377927776825, 0.01108539577634848, 0.009365672310023634, 0.010590313385033282, 0.018033047839000022, 0.017318230947286628, 0.017483324590540687, 0.016205714593014536, 0.011356939141141572, 0.013171213660564628, 0.014847526463252552]}, {\"categories\": [\"0\", \"1\", \"2\", \"3\", \"4\", \"5\", \"6\", \"7\", \"8\", \"9\", \"10\", \"11\", \"12\", \"13\", \"14\", \"15\", \"16\", \"17\", \"18\", \"19\", \"20\"], \"mode\": \"lines\", \"name\": \"normalized_median_absolute_error_min\", \"stepped\": true, \"type\": \"scatter\", \"data\": [0.017025607888219073, 0.016128240992221994, 0.016128240992221994, 0.011188204933535282, 0.011188204933535282, 0.011188204933535282, 0.010245864460494926, 0.010105675444515162, 0.010105675444515162, 0.010105675444515162, 0.010105675444515162, 0.010105675444515162, 0.009365672310023634, 0.009365672310023634, 0.009365672310023634, 0.009365672310023634, 0.009365672310023634, 0.009365672310023634, 0.009365672310023634, 0.009365672310023634, 0.009365672310023634]}], \"spearman_correlation\": [{\"categories\": [\"0\", \"1\", \"2\", \"3\", \"4\", \"5\", \"6\", \"7\", \"8\", \"9\", \"10\", \"11\", \"12\", \"13\", \"14\", \"15\", \"16\", \"17\", \"18\", \"19\", \"20\"], \"mode\": \"markers\", \"name\": \"spearman_correlation\", \"stepped\": false, \"type\": \"scatter\", \"data\": [0.6377688612309471, 0.6276131099745406, 0.6346483554641169, 0.6735868703980293, 0.636312669334437, 0.6409940844217734, 0.6361687847429769, 0.6926473509801474, 0.6267129508050597, 0.5960101864408204, 0.640997756497919, 0.6340226206662265, 0.6971923747733906, 0.6582517085199828, 0.6391679818539313, 0.6362647200187972, 0.6365354842379786, 0.6318585472814262, 0.6929581552430994, 0.6086129746165623, 0.6987606835764794]}, {\"categories\": [\"0\", \"1\", \"2\", \"3\", \"4\", \"5\", \"6\", \"7\", \"8\", \"9\", \"10\", \"11\", \"12\", \"13\", \"14\", \"15\", \"16\", \"17\", \"18\", \"19\", \"20\"], \"mode\": \"lines\", \"name\": \"spearman_correlation_max\", \"stepped\": true, \"type\": \"scatter\", \"data\": [0.6377688612309471, 0.6377688612309471, 0.6377688612309471, 0.6735868703980293, 0.6735868703980293, 0.6735868703980293, 0.6735868703980293, 0.6926473509801474, 0.6926473509801474, 0.6926473509801474, 0.6926473509801474, 0.6926473509801474, 0.6971923747733906, 0.6971923747733906, 0.6971923747733906, 0.6971923747733906, 0.6971923747733906, 0.6971923747733906, 0.6971923747733906, 0.6971923747733906, 0.6987606835764794]}], \"normalized_mean_absolute_error\": [{\"categories\": [\"0\", \"1\", \"2\", \"3\", \"4\", \"5\", \"6\", \"7\", \"8\", \"9\", \"10\", \"11\", \"12\", \"13\", \"14\", \"15\", \"16\", \"17\", \"18\", \"19\", \"20\"], \"mode\": \"markers\", \"name\": \"normalized_mean_absolute_error\", \"stepped\": false, \"type\": \"scatter\", \"data\": [0.03530706000201593, 0.03483092235645574, 0.036143324144869024, 0.02201790284442981, 0.023257554564386516, 0.03463378904246208, 0.02182743913594998, 0.020516339080658686, 0.024804860333191014, 0.023102232942913886, 0.03464154395580946, 0.021410097960840146, 0.019860936963804005, 0.02143966829483735, 0.035992738802936124, 0.0361671053314071, 0.03624519748536932, 0.03484943484745759, 0.020141610370745182, 0.02481280679459797, 0.023136030345762594]}, {\"categories\": [\"0\", \"1\", \"2\", \"3\", \"4\", \"5\", \"6\", \"7\", \"8\", \"9\", \"10\", \"11\", \"12\", \"13\", \"14\", \"15\", \"16\", \"17\", \"18\", \"19\", \"20\"], \"mode\": \"lines\", \"name\": \"normalized_mean_absolute_error_min\", \"stepped\": true, \"type\": \"scatter\", \"data\": [0.03530706000201593, 0.03483092235645574, 0.03483092235645574, 0.02201790284442981, 0.02201790284442981, 0.02201790284442981, 0.02182743913594998, 0.020516339080658686, 0.020516339080658686, 0.020516339080658686, 0.020516339080658686, 0.020516339080658686, 0.019860936963804005, 0.019860936963804005, 0.019860936963804005, 0.019860936963804005, 0.019860936963804005, 0.019860936963804005, 0.019860936963804005, 0.019860936963804005, 0.019860936963804005]}], \"mean_absolute_error\": [{\"categories\": [\"0\", \"1\", \"2\", \"3\", \"4\", \"5\", \"6\", \"7\", \"8\", \"9\", \"10\", \"11\", \"12\", \"13\", \"14\", \"15\", \"16\", \"17\", \"18\", \"19\", \"20\"], \"mode\": \"markers\", \"name\": \"mean_absolute_error\", \"stepped\": false, \"type\": \"scatter\", \"data\": [109.6990354262635, 108.21967576150799, 112.29730811810802, 68.40962413764342, 72.26122203154891, 107.60718255492971, 67.81785339539661, 63.74426552360654, 77.06870105522448, 71.77863775363343, 107.63127707070001, 66.52117436433034, 61.707931146539046, 66.61304939205965, 111.82943946072255, 112.37119626468186, 112.61382858704246, 108.27719407105073, 62.579983421905276, 77.09339071081588, 71.88364628428438]}, {\"categories\": [\"0\", \"1\", \"2\", \"3\", \"4\", \"5\", \"6\", \"7\", \"8\", \"9\", \"10\", \"11\", \"12\", \"13\", \"14\", \"15\", \"16\", \"17\", \"18\", \"19\", \"20\"], \"mode\": \"lines\", \"name\": \"mean_absolute_error_min\", \"stepped\": true, \"type\": \"scatter\", \"data\": [109.6990354262635, 108.21967576150799, 108.21967576150799, 68.40962413764342, 68.40962413764342, 68.40962413764342, 67.81785339539661, 63.74426552360654, 63.74426552360654, 63.74426552360654, 63.74426552360654, 63.74426552360654, 61.707931146539046, 61.707931146539046, 61.707931146539046, 61.707931146539046, 61.707931146539046, 61.707931146539046, 61.707931146539046, 61.707931146539046, 61.707931146539046]}], \"r2_score\": [{\"categories\": [\"0\", \"1\", \"2\", \"3\", \"4\", \"5\", \"6\", \"7\", \"8\", \"9\", \"10\", \"11\", \"12\", \"13\", \"14\", \"15\", \"16\", \"17\", \"18\", \"19\", \"20\"], \"mode\": \"markers\", \"name\": \"r2_score\", \"stepped\": false, \"type\": \"scatter\", \"data\": [0.0540648989603771, 0.046756854118694215, 0.029950275716211006, 0.17967861652639652, 0.1285966247508319, 0.06673964827811643, 0.1625857331010481, 0.2595495783400974, 0.15926542745984598, 0.14117155370673393, 0.06653844789880922, 0.38483086709449976, 0.2631592202755576, 0.15186822538611658, 0.05249455988648537, 0.03517920871099669, 0.03546806988982387, 0.050884748575047836, 0.4341805510804269, 0.10443869721749632, 0.51425882352613]}, {\"categories\": [\"0\", \"1\", \"2\", \"3\", \"4\", \"5\", \"6\", \"7\", \"8\", \"9\", \"10\", \"11\", \"12\", \"13\", \"14\", \"15\", \"16\", \"17\", \"18\", \"19\", \"20\"], \"mode\": \"lines\", \"name\": \"r2_score_max\", \"stepped\": true, \"type\": \"scatter\", \"data\": [0.0540648989603771, 0.0540648989603771, 0.0540648989603771, 0.17967861652639652, 0.17967861652639652, 0.17967861652639652, 0.17967861652639652, 0.2595495783400974, 0.2595495783400974, 0.2595495783400974, 0.2595495783400974, 0.38483086709449976, 0.38483086709449976, 0.38483086709449976, 0.38483086709449976, 0.38483086709449976, 0.38483086709449976, 0.38483086709449976, 0.4341805510804269, 0.4341805510804269, 0.51425882352613]}], \"median_absolute_error\": [{\"categories\": [\"0\", \"1\", \"2\", \"3\", \"4\", \"5\", \"6\", \"7\", \"8\", \"9\", \"10\", \"11\", \"12\", \"13\", \"14\", \"15\", \"16\", \"17\", \"18\", \"19\", \"20\"], \"mode\": \"markers\", \"name\": \"median_absolute_error\", \"stepped\": false, \"type\": \"scatter\", \"data\": [52.898563708696656, 50.11044476283373, 53.46574223904099, 34.761752728494116, 37.80221204517731, 51.46510950166957, 31.83390087875774, 31.39833360610861, 35.48511099700628, 38.2809673565365, 51.46241522160259, 34.442324677114726, 29.099143867243434, 32.9041036872984, 56.02867963577309, 53.80774355321955, 54.32068950280991, 50.351155240496155, 35.28600991152687, 40.922960843374305, 46.131264721325685]}, {\"categories\": [\"0\", \"1\", \"2\", \"3\", \"4\", \"5\", \"6\", \"7\", \"8\", \"9\", \"10\", \"11\", \"12\", \"13\", \"14\", \"15\", \"16\", \"17\", \"18\", \"19\", \"20\"], \"mode\": \"lines\", \"name\": \"median_absolute_error_min\", \"stepped\": true, \"type\": \"scatter\", \"data\": [52.898563708696656, 50.11044476283373, 50.11044476283373, 34.761752728494116, 34.761752728494116, 34.761752728494116, 31.83390087875774, 31.39833360610861, 31.39833360610861, 31.39833360610861, 31.39833360610861, 31.39833360610861, 29.099143867243434, 29.099143867243434, 29.099143867243434, 29.099143867243434, 29.099143867243434, 29.099143867243434, 29.099143867243434, 29.099143867243434, 29.099143867243434]}], \"normalized_root_mean_squared_error\": [{\"categories\": [\"0\", \"1\", \"2\", \"3\", \"4\", \"5\", \"6\", \"7\", \"8\", \"9\", \"10\", \"11\", \"12\", \"13\", \"14\", \"15\", \"16\", \"17\", \"18\", \"19\", \"20\"], \"mode\": \"markers\", \"name\": \"normalized_root_mean_squared_error\", \"stepped\": false, \"type\": \"scatter\", \"data\": [0.07025316125005739, 0.0705263347165157, 0.0711482044611293, 0.06545547464506983, 0.06746340700493092, 0.06977940444488247, 0.0661080586782448, 0.06218285695394286, 0.06626344824951277, 0.06697440591564792, 0.06978691178171552, 0.056681705417318005, 0.06200951930523283, 0.06655471870621897, 0.07031113902140125, 0.07095476474959048, 0.07094466067611874, 0.07037336922005485, 0.05436142276253392, 0.06838835679429493, 0.050362753285788174]}, {\"categories\": [\"0\", \"1\", \"2\", \"3\", \"4\", \"5\", \"6\", \"7\", \"8\", \"9\", \"10\", \"11\", \"12\", \"13\", \"14\", \"15\", \"16\", \"17\", \"18\", \"19\", \"20\"], \"mode\": \"lines\", \"name\": \"normalized_root_mean_squared_error_min\", \"stepped\": true, \"type\": \"scatter\", \"data\": [0.07025316125005739, 0.07025316125005739, 0.07025316125005739, 0.06545547464506983, 0.06545547464506983, 0.06545547464506983, 0.06545547464506983, 0.06218285695394286, 0.06218285695394286, 0.06218285695394286, 0.06218285695394286, 0.056681705417318005, 0.056681705417318005, 0.056681705417318005, 0.056681705417318005, 0.056681705417318005, 0.056681705417318005, 0.056681705417318005, 0.05436142276253392, 0.05436142276253392, 0.050362753285788174]}], \"normalized_root_mean_squared_log_error\": [{\"categories\": [\"0\", \"1\", \"2\", \"3\", \"4\", \"5\", \"6\", \"7\", \"8\", \"9\", \"10\", \"11\", \"12\", \"13\", \"14\", \"15\", \"16\", \"17\", \"18\", \"19\", \"20\"], \"mode\": \"markers\", \"name\": \"normalized_root_mean_squared_log_error\", \"stepped\": false, \"type\": \"scatter\", \"data\": [0.11754350414611121, 0.11582089043764643, 0.11959654740998027, 0.087539668850143, 0.09381184895804216, 0.11606612162456813, 0.08621759528911117, 0.08206088184449997, 0.09395532430312857, 0.09138754071245829, 0.1160796371551777, 0.08435381659076538, 0.07972386531015621, 0.08749711075836285, 0.11979421095107301, 0.11971832597779757, 0.1199483519696813, 0.11607237466942304, 0.08005169704900214, 0.09718804137906897, NaN]}, {\"categories\": [\"0\", \"1\", \"2\", \"3\", \"4\", \"5\", \"6\", \"7\", \"8\", \"9\", \"10\", \"11\", \"12\", \"13\", \"14\", \"15\", \"16\", \"17\", \"18\", \"19\", \"20\"], \"mode\": \"lines\", \"name\": \"normalized_root_mean_squared_log_error_min\", \"stepped\": true, \"type\": \"scatter\", \"data\": [0.11754350414611121, 0.11582089043764643, 0.11582089043764643, 0.087539668850143, 0.087539668850143, 0.087539668850143, 0.08621759528911117, 0.08206088184449997, 0.08206088184449997, 0.08206088184449997, 0.08206088184449997, 0.08206088184449997, 0.07972386531015621, 0.07972386531015621, 0.07972386531015621, 0.07972386531015621, 0.07972386531015621, 0.07972386531015621, 0.07972386531015621, 0.07972386531015621, 0.07972386531015621]}], \"explained_variance\": [{\"categories\": [\"0\", \"1\", \"2\", \"3\", \"4\", \"5\", \"6\", \"7\", \"8\", \"9\", \"10\", \"11\", \"12\", \"13\", \"14\", \"15\", \"16\", \"17\", \"18\", \"19\", \"20\"], \"mode\": \"markers\", \"name\": \"explained_variance\", \"stepped\": false, \"type\": \"scatter\", \"data\": [0.12176432225210557, 0.10538341947057264, 0.10564153008782332, 0.1804175052937646, 0.12922561244591713, 0.12892544473959444, 0.16882757015730043, 0.2608989707534582, 0.16007659698082624, 0.14332449483204104, 0.12878736865109935, 0.3849463363176177, 0.26524817904153186, 0.15527903060278664, 0.12865655302229512, 0.11169824437081584, 0.11294818166758949, 0.11113029613105618, 0.4343873869002824, 0.10477984625580974, 0.514598520381522]}, {\"categories\": [\"0\", \"1\", \"2\", \"3\", \"4\", \"5\", \"6\", \"7\", \"8\", \"9\", \"10\", \"11\", \"12\", \"13\", \"14\", \"15\", \"16\", \"17\", \"18\", \"19\", \"20\"], \"mode\": \"lines\", \"name\": \"explained_variance_max\", \"stepped\": true, \"type\": \"scatter\", \"data\": [0.12176432225210557, 0.12176432225210557, 0.12176432225210557, 0.1804175052937646, 0.1804175052937646, 0.1804175052937646, 0.1804175052937646, 0.2608989707534582, 0.2608989707534582, 0.2608989707534582, 0.2608989707534582, 0.3849463363176177, 0.3849463363176177, 0.3849463363176177, 0.3849463363176177, 0.3849463363176177, 0.3849463363176177, 0.3849463363176177, 0.4343873869002824, 0.4343873869002824, 0.514598520381522]}], \"root_mean_squared_error\": [{\"categories\": [\"0\", \"1\", \"2\", \"3\", \"4\", \"5\", \"6\", \"7\", \"8\", \"9\", \"10\", \"11\", \"12\", \"13\", \"14\", \"15\", \"16\", \"17\", \"18\", \"19\", \"20\"], \"mode\": \"markers\", \"name\": \"root_mean_squared_error\", \"stepped\": false, \"type\": \"scatter\", \"data\": [218.27657200392832, 219.1253219642143, 221.05747126072873, 203.370159722232, 209.60880556432033, 216.80460961024983, 205.39773831330663, 193.20213655590047, 205.88053371123615, 208.0894791799181, 216.82793490579016, 176.11005873160707, 192.6635764813584, 206.78551102022237, 218.4567089394937, 220.45645407697762, 220.42506072070086, 218.65005816671038, 168.90094052319287, 212.48262455987438, 156.4770744589439]}, {\"categories\": [\"0\", \"1\", \"2\", \"3\", \"4\", \"5\", \"6\", \"7\", \"8\", \"9\", \"10\", \"11\", \"12\", \"13\", \"14\", \"15\", \"16\", \"17\", \"18\", \"19\", \"20\"], \"mode\": \"lines\", \"name\": \"root_mean_squared_error_min\", \"stepped\": true, \"type\": \"scatter\", \"data\": [218.27657200392832, 218.27657200392832, 218.27657200392832, 203.370159722232, 203.370159722232, 203.370159722232, 203.370159722232, 193.20213655590047, 193.20213655590047, 193.20213655590047, 193.20213655590047, 176.11005873160707, 176.11005873160707, 176.11005873160707, 176.11005873160707, 176.11005873160707, 176.11005873160707, 176.11005873160707, 168.90094052319287, 168.90094052319287, 156.4770744589439]}], \"mean_absolute_percentage_error\": [{\"categories\": [\"0\", \"1\", \"2\", \"3\", \"4\", \"5\", \"6\", \"7\", \"8\", \"9\", \"10\", \"11\", \"12\", \"13\", \"14\", \"15\", \"16\", \"17\", \"18\", \"19\", \"20\"], \"mode\": \"markers\", \"name\": \"mean_absolute_percentage_error\", \"stepped\": false, \"type\": \"scatter\", \"data\": [110.53721386092744, 106.74928454352141, 114.84122753213994, 60.414122053484256, 66.91596394012566, 108.2494470470585, 54.234699550979556, 55.48124571724895, 68.1174552348861, 62.69011612449956, 108.27415010656605, 59.4628710401419, 51.672697452113866, 57.42141989820757, 114.9019063997855, 114.95275737041611, 115.36224371106805, 107.35011907965539, 56.7068816216462, 70.1932067448445, 76.69755234003507]}, {\"categories\": [\"0\", \"1\", \"2\", \"3\", \"4\", \"5\", \"6\", \"7\", \"8\", \"9\", \"10\", \"11\", \"12\", \"13\", \"14\", \"15\", \"16\", \"17\", \"18\", \"19\", \"20\"], \"mode\": \"lines\", \"name\": \"mean_absolute_percentage_error_min\", \"stepped\": true, \"type\": \"scatter\", \"data\": [110.53721386092744, 106.74928454352141, 106.74928454352141, 60.414122053484256, 60.414122053484256, 60.414122053484256, 54.234699550979556, 54.234699550979556, 54.234699550979556, 54.234699550979556, 54.234699550979556, 54.234699550979556, 51.672697452113866, 51.672697452113866, 51.672697452113866, 51.672697452113866, 51.672697452113866, 51.672697452113866, 51.672697452113866, 51.672697452113866, 51.672697452113866]}]}, \"metricName\": null, \"primaryMetricName\": \"normalized_root_mean_squared_error\", \"showLegend\": false}, \"run_metrics\": [], \"run_logs\": \"\\nRun is completed.\", \"graph\": {}, \"widget_settings\": {\"childWidgetDisplay\": \"popup\", \"send_telemetry\": false, \"log_level\": \"INFO\", \"sdk_version\": \"1.0.72\"}, \"loading\": false}"
     },
     "metadata": {},
     "output_type": "display_data"
    }
   ],
   "source": [
    "from azureml.widgets import RunDetails\n",
    "RunDetails(local_run).show()"
   ]
  }
 ],
 "metadata": {
  "authors": [
   {
    "name": "erwright"
   }
  ],
  "categories": [
   "how-to-use-azureml",
   "automated-machine-learning"
  ],
  "kernelspec": {
   "display_name": "Python 3",
   "language": "python",
   "name": "python3"
  },
  "language_info": {
   "codemirror_mode": {
    "name": "ipython",
    "version": 3
   },
   "file_extension": ".py",
   "mimetype": "text/x-python",
   "name": "python",
   "nbconvert_exporter": "python",
   "pygments_lexer": "ipython3",
   "version": "3.7.3"
  },
  "nteract": {
   "version": "nteract-front-end@1.0.0"
  }
 },
 "nbformat": 4,
 "nbformat_minor": 2
}
