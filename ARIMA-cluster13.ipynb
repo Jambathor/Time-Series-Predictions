{
 "cells": [
  {
   "cell_type": "code",
   "execution_count": 1,
   "metadata": {},
   "outputs": [],
   "source": [
    "## Import packages\n",
    "\n",
    "import numpy as np\n",
    "import pandas as pd\n",
    "import seaborn as sns\n",
    "import matplotlib.pyplot as plt\n",
    "%matplotlib inline"
   ]
  },
  {
   "cell_type": "code",
   "execution_count": 2,
   "metadata": {},
   "outputs": [
    {
     "name": "stdout",
     "output_type": "stream",
     "text": [
      "Azure ML SDK Version:  1.0.72\n"
     ]
    }
   ],
   "source": [
    "import azureml.core\n",
    "from azureml.core import Workspace\n",
    "\n",
    "# check core SDK version number\n",
    "print(\"Azure ML SDK Version: \", azureml.core.VERSION)"
   ]
  },
  {
   "cell_type": "code",
   "execution_count": 3,
   "metadata": {},
   "outputs": [
    {
     "name": "stdout",
     "output_type": "stream",
     "text": [
      "tl289603\twestus2\ttl2896ws\n"
     ]
    }
   ],
   "source": [
    "# load workspace configuration from the config.json file in the current folder.\n",
    "ws = Workspace.from_config()\n",
    "print(ws.name, ws.location, ws.resource_group, sep='\\t')"
   ]
  },
  {
   "cell_type": "code",
   "execution_count": 4,
   "metadata": {},
   "outputs": [],
   "source": [
    "from azureml.core import Experiment\n",
    "experiment = Experiment(workspace=ws, name=\"TS-experiment\")"
   ]
  },
  {
   "cell_type": "code",
   "execution_count": 5,
   "metadata": {},
   "outputs": [],
   "source": [
    "# %%writefile $script_folder/train.py\n",
    "\n",
    "from azureml.core import Dataset, Run\n",
    "\n",
    "#run = Run.get_context()\n",
    "#workspace = run.experiment.workspace\n",
    "\n",
    "dataset_name = 'cluster13eggs'\n",
    "\n",
    "# Get a dataset by name\n",
    "df = Dataset.get_by_name(workspace=ws, name=dataset_name)\n",
    "\n",
    "# Load a TabularDataset into pandas DataFrame\n",
    "df =df.to_pandas_dataframe()"
   ]
  },
  {
   "cell_type": "code",
   "execution_count": 6,
   "metadata": {},
   "outputs": [
    {
     "data": {
      "text/html": [
       "<div>\n",
       "<style scoped>\n",
       "    .dataframe tbody tr th:only-of-type {\n",
       "        vertical-align: middle;\n",
       "    }\n",
       "\n",
       "    .dataframe tbody tr th {\n",
       "        vertical-align: top;\n",
       "    }\n",
       "\n",
       "    .dataframe thead th {\n",
       "        text-align: right;\n",
       "    }\n",
       "</style>\n",
       "<table border=\"1\" class=\"dataframe\">\n",
       "  <thead>\n",
       "    <tr style=\"text-align: right;\">\n",
       "      <th></th>\n",
       "      <th>id</th>\n",
       "      <th>date</th>\n",
       "      <th>store_nbr</th>\n",
       "      <th>item_nbr</th>\n",
       "      <th>unit_sales</th>\n",
       "      <th>onpromotion</th>\n",
       "      <th>city</th>\n",
       "      <th>state</th>\n",
       "      <th>holiday_type</th>\n",
       "      <th>transferred</th>\n",
       "      <th>class</th>\n",
       "      <th>dcoilwtico</th>\n",
       "    </tr>\n",
       "  </thead>\n",
       "  <tbody>\n",
       "    <tr>\n",
       "      <th>0</th>\n",
       "      <td>625</td>\n",
       "      <td>2013-01-02</td>\n",
       "      <td>1</td>\n",
       "      <td>127547</td>\n",
       "      <td>14.0</td>\n",
       "      <td>True</td>\n",
       "      <td>Quito</td>\n",
       "      <td>Pichincha</td>\n",
       "      <td>Work Day</td>\n",
       "      <td>True</td>\n",
       "      <td>2502</td>\n",
       "      <td>93.14</td>\n",
       "    </tr>\n",
       "    <tr>\n",
       "      <th>1</th>\n",
       "      <td>638</td>\n",
       "      <td>2013-01-02</td>\n",
       "      <td>1</td>\n",
       "      <td>158680</td>\n",
       "      <td>5.0</td>\n",
       "      <td>True</td>\n",
       "      <td>Quito</td>\n",
       "      <td>Pichincha</td>\n",
       "      <td>Work Day</td>\n",
       "      <td>True</td>\n",
       "      <td>2502</td>\n",
       "      <td>93.14</td>\n",
       "    </tr>\n",
       "    <tr>\n",
       "      <th>2</th>\n",
       "      <td>678</td>\n",
       "      <td>2013-01-02</td>\n",
       "      <td>1</td>\n",
       "      <td>208384</td>\n",
       "      <td>32.0</td>\n",
       "      <td>True</td>\n",
       "      <td>Quito</td>\n",
       "      <td>Pichincha</td>\n",
       "      <td>Work Day</td>\n",
       "      <td>True</td>\n",
       "      <td>2502</td>\n",
       "      <td>93.14</td>\n",
       "    </tr>\n",
       "    <tr>\n",
       "      <th>3</th>\n",
       "      <td>679</td>\n",
       "      <td>2013-01-02</td>\n",
       "      <td>1</td>\n",
       "      <td>208386</td>\n",
       "      <td>7.0</td>\n",
       "      <td>True</td>\n",
       "      <td>Quito</td>\n",
       "      <td>Pichincha</td>\n",
       "      <td>Work Day</td>\n",
       "      <td>True</td>\n",
       "      <td>2502</td>\n",
       "      <td>93.14</td>\n",
       "    </tr>\n",
       "    <tr>\n",
       "      <th>4</th>\n",
       "      <td>718</td>\n",
       "      <td>2013-01-02</td>\n",
       "      <td>1</td>\n",
       "      <td>227111</td>\n",
       "      <td>9.0</td>\n",
       "      <td>True</td>\n",
       "      <td>Quito</td>\n",
       "      <td>Pichincha</td>\n",
       "      <td>Work Day</td>\n",
       "      <td>True</td>\n",
       "      <td>2502</td>\n",
       "      <td>93.14</td>\n",
       "    </tr>\n",
       "  </tbody>\n",
       "</table>\n",
       "</div>"
      ],
      "text/plain": [
       "    id       date  store_nbr  item_nbr  unit_sales  onpromotion   city  \\\n",
       "0  625 2013-01-02          1    127547        14.0         True  Quito   \n",
       "1  638 2013-01-02          1    158680         5.0         True  Quito   \n",
       "2  678 2013-01-02          1    208384        32.0         True  Quito   \n",
       "3  679 2013-01-02          1    208386         7.0         True  Quito   \n",
       "4  718 2013-01-02          1    227111         9.0         True  Quito   \n",
       "\n",
       "       state holiday_type  transferred  class  dcoilwtico  \n",
       "0  Pichincha     Work Day         True   2502       93.14  \n",
       "1  Pichincha     Work Day         True   2502       93.14  \n",
       "2  Pichincha     Work Day         True   2502       93.14  \n",
       "3  Pichincha     Work Day         True   2502       93.14  \n",
       "4  Pichincha     Work Day         True   2502       93.14  "
      ]
     },
     "execution_count": 6,
     "metadata": {},
     "output_type": "execute_result"
    }
   ],
   "source": [
    "df.head()"
   ]
  },
  {
   "cell_type": "code",
   "execution_count": 7,
   "metadata": {},
   "outputs": [],
   "source": [
    "## change data type of \"date\", (not necessary in Azure)\n",
    "df['date'] = df['date'].astype('datetime64[ns]')"
   ]
  },
  {
   "cell_type": "code",
   "execution_count": 8,
   "metadata": {},
   "outputs": [
    {
     "name": "stdout",
     "output_type": "stream",
     "text": [
      "<class 'pandas.core.frame.DataFrame'>\n",
      "RangeIndex: 155689 entries, 0 to 155688\n",
      "Data columns (total 12 columns):\n",
      "id              155689 non-null int64\n",
      "date            155689 non-null datetime64[ns]\n",
      "store_nbr       155689 non-null int64\n",
      "item_nbr        155689 non-null int64\n",
      "unit_sales      155689 non-null float64\n",
      "onpromotion     155689 non-null bool\n",
      "city            155689 non-null object\n",
      "state           155689 non-null object\n",
      "holiday_type    155689 non-null object\n",
      "transferred     155689 non-null bool\n",
      "class           155689 non-null int64\n",
      "dcoilwtico      155689 non-null float64\n",
      "dtypes: bool(2), datetime64[ns](1), float64(2), int64(4), object(3)\n",
      "memory usage: 12.2+ MB\n"
     ]
    }
   ],
   "source": [
    "df.info()"
   ]
  },
  {
   "cell_type": "code",
   "execution_count": 9,
   "metadata": {},
   "outputs": [
    {
     "data": {
      "text/html": [
       "<div>\n",
       "<style scoped>\n",
       "    .dataframe tbody tr th:only-of-type {\n",
       "        vertical-align: middle;\n",
       "    }\n",
       "\n",
       "    .dataframe tbody tr th {\n",
       "        vertical-align: top;\n",
       "    }\n",
       "\n",
       "    .dataframe thead th {\n",
       "        text-align: right;\n",
       "    }\n",
       "</style>\n",
       "<table border=\"1\" class=\"dataframe\">\n",
       "  <thead>\n",
       "    <tr style=\"text-align: right;\">\n",
       "      <th></th>\n",
       "      <th>date</th>\n",
       "      <th>store_nbr</th>\n",
       "      <th>unit_sales</th>\n",
       "    </tr>\n",
       "  </thead>\n",
       "  <tbody>\n",
       "    <tr>\n",
       "      <th>0</th>\n",
       "      <td>2013-01-02</td>\n",
       "      <td>1</td>\n",
       "      <td>246</td>\n",
       "    </tr>\n",
       "    <tr>\n",
       "      <th>1</th>\n",
       "      <td>2013-01-02</td>\n",
       "      <td>2</td>\n",
       "      <td>307</td>\n",
       "    </tr>\n",
       "    <tr>\n",
       "      <th>2</th>\n",
       "      <td>2013-01-02</td>\n",
       "      <td>6</td>\n",
       "      <td>360</td>\n",
       "    </tr>\n",
       "    <tr>\n",
       "      <th>3</th>\n",
       "      <td>2013-01-03</td>\n",
       "      <td>1</td>\n",
       "      <td>203</td>\n",
       "    </tr>\n",
       "    <tr>\n",
       "      <th>4</th>\n",
       "      <td>2013-01-03</td>\n",
       "      <td>2</td>\n",
       "      <td>186</td>\n",
       "    </tr>\n",
       "  </tbody>\n",
       "</table>\n",
       "</div>"
      ],
      "text/plain": [
       "        date  store_nbr  unit_sales\n",
       "0 2013-01-02          1         246\n",
       "1 2013-01-02          2         307\n",
       "2 2013-01-02          6         360\n",
       "3 2013-01-03          1         203\n",
       "4 2013-01-03          2         186"
      ]
     },
     "execution_count": 9,
     "metadata": {},
     "output_type": "execute_result"
    }
   ],
   "source": [
    "## obtain total unit_sales for each store on each day\n",
    "store_sales = df.groupby(['date', 'store_nbr'])[\"unit_sales\"].apply(lambda x : x.astype(int).sum()).reset_index()\n",
    "store_sales.head()\n",
    "\n",
    "## there are still multiple time series, so groupby date"
   ]
  },
  {
   "cell_type": "code",
   "execution_count": 10,
   "metadata": {},
   "outputs": [
    {
     "data": {
      "text/html": [
       "<div>\n",
       "<style scoped>\n",
       "    .dataframe tbody tr th:only-of-type {\n",
       "        vertical-align: middle;\n",
       "    }\n",
       "\n",
       "    .dataframe tbody tr th {\n",
       "        vertical-align: top;\n",
       "    }\n",
       "\n",
       "    .dataframe thead th {\n",
       "        text-align: right;\n",
       "    }\n",
       "</style>\n",
       "<table border=\"1\" class=\"dataframe\">\n",
       "  <thead>\n",
       "    <tr style=\"text-align: right;\">\n",
       "      <th></th>\n",
       "      <th>unit_sales</th>\n",
       "    </tr>\n",
       "    <tr>\n",
       "      <th>date</th>\n",
       "      <th></th>\n",
       "    </tr>\n",
       "  </thead>\n",
       "  <tbody>\n",
       "    <tr>\n",
       "      <th>2013-01-02</th>\n",
       "      <td>913</td>\n",
       "    </tr>\n",
       "    <tr>\n",
       "      <th>2013-01-03</th>\n",
       "      <td>642</td>\n",
       "    </tr>\n",
       "    <tr>\n",
       "      <th>2013-01-04</th>\n",
       "      <td>563</td>\n",
       "    </tr>\n",
       "    <tr>\n",
       "      <th>2013-01-05</th>\n",
       "      <td>661</td>\n",
       "    </tr>\n",
       "    <tr>\n",
       "      <th>2013-01-06</th>\n",
       "      <td>801</td>\n",
       "    </tr>\n",
       "  </tbody>\n",
       "</table>\n",
       "</div>"
      ],
      "text/plain": [
       "            unit_sales\n",
       "date                  \n",
       "2013-01-02         913\n",
       "2013-01-03         642\n",
       "2013-01-04         563\n",
       "2013-01-05         661\n",
       "2013-01-06         801"
      ]
     },
     "execution_count": 10,
     "metadata": {},
     "output_type": "execute_result"
    }
   ],
   "source": [
    "## obtain total unit_sales on each day\n",
    "total_sales = df.groupby('date')[\"unit_sales\"].apply(lambda x : x.astype(int).sum()).reset_index()\n",
    "total_sales = total_sales.set_index('date')\n",
    "total_sales.head()"
   ]
  },
  {
   "cell_type": "code",
   "execution_count": 11,
   "metadata": {},
   "outputs": [
    {
     "name": "stdout",
     "output_type": "stream",
     "text": [
      "<class 'pandas.core.frame.DataFrame'>\n",
      "DatetimeIndex: 1679 entries, 2013-01-02 to 2017-08-15\n",
      "Data columns (total 1 columns):\n",
      "unit_sales    1679 non-null int64\n",
      "dtypes: int64(1)\n",
      "memory usage: 26.2 KB\n"
     ]
    }
   ],
   "source": [
    "total_sales.info()"
   ]
  },
  {
   "cell_type": "markdown",
   "metadata": {},
   "source": [
    "## Feature Selection"
   ]
  },
  {
   "cell_type": "code",
   "execution_count": 12,
   "metadata": {},
   "outputs": [
    {
     "name": "stdout",
     "output_type": "stream",
     "text": [
      "            unit_sales\n",
      "date                  \n",
      "2013-01-02         913\n",
      "2013-01-03         642\n",
      "2013-01-04         563\n",
      "2013-01-05         661\n",
      "2013-01-06         801\n"
     ]
    },
    {
     "data": {
      "image/png": "[encoded data removed]",
      "text/plain": [
       "<Figure size 432x288 with 1 Axes>"
      ]
     },
     "metadata": {
      "needs_background": "light"
     },
     "output_type": "display_data"
    }
   ],
   "source": [
    "from matplotlib import pyplot\n",
    "series = total_sales\n",
    "# display first few rows\n",
    "print(series.head(5))\n",
    "# line plot of dataset\n",
    "series.plot()\n",
    "pyplot.show()"
   ]
  },
  {
   "cell_type": "code",
   "execution_count": 13,
   "metadata": {},
   "outputs": [
    {
     "data": {
      "image/png": "[encoded data removed]",
      "text/plain": [
       "<Figure size 432x288 with 1 Axes>"
      ]
     },
     "metadata": {
      "needs_background": "light"
     },
     "output_type": "display_data"
    }
   ],
   "source": [
    "## Autocorrelation Plot\n",
    "from statsmodels.graphics.tsaplots import plot_acf\n",
    "\n",
    "plot_acf(series)\n",
    "pyplot.show()"
   ]
  },
  {
   "cell_type": "markdown",
   "metadata": {},
   "source": [
    "Traditionally, time series features are selected based on their correlation with the output variable.\n",
    "\n",
    "This is called autocorrelation and involves plotting autocorrelation plots, also called a correlogram. These show the correlation of each lagged observation and whether or not the correlation is statistically significant.\n",
    "\n",
    "Running the code creates a correlogram, or Autocorrelation Function (ACF) plot, of the data.\n",
    "\n",
    "The plot shows lag values along the x-axis and correlation on the y-axis between -1 and 1 for negatively and positively correlated lags respectively.\n",
    "\n",
    "The dots above the blue area indicate statistical significance. The correlation of 1 for the lag value of 0 indicates 100% positive correlation of an observation with itself.\n",
    "\n",
    "The plot shows significant lag values at 7, 14, 21, 28 days."
   ]
  },
  {
   "cell_type": "code",
   "execution_count": null,
   "metadata": {},
   "outputs": [],
   "source": []
  },
  {
   "cell_type": "markdown",
   "metadata": {},
   "source": [
    "## ARIMA\n",
    "#### To get to know ARIMA model, only use dates and sum of unit sales in the model\n",
    "#### This would be the ARIMA time series model"
   ]
  },
  {
   "cell_type": "code",
   "execution_count": 22,
   "metadata": {},
   "outputs": [
    {
     "data": {
      "image/png": "[encoded data removed]",
      "text/plain": [
       "<Figure size 432x288 with 1 Axes>"
      ]
     },
     "metadata": {
      "needs_background": "light"
     },
     "output_type": "display_data"
    }
   ],
   "source": [
    "## autocorrelation plot of the time series\n",
    "## this plots correlations for all days, but we only use 7 in this model for lag order.\n",
    "\n",
    "from pandas.plotting import autocorrelation_plot\n",
    "\n",
    "autocorrelation_plot(series)\n",
    "pyplot.show()"
   ]
  },
  {
   "cell_type": "code",
   "execution_count": 16,
   "metadata": {
    "scrolled": true
   },
   "outputs": [
    {
     "name": "stderr",
     "output_type": "stream",
     "text": [
      "/anaconda/envs/azureml_py36/lib/python3.6/site-packages/statsmodels/tsa/base/tsa_model.py:219: ValueWarning: A date index has been provided, but it has no associated frequency information and so will be ignored when e.g. forecasting.\n",
      "  ' ignored when e.g. forecasting.', ValueWarning)\n",
      "/anaconda/envs/azureml_py36/lib/python3.6/site-packages/statsmodels/tsa/base/tsa_model.py:219: ValueWarning: A date index has been provided, but it has no associated frequency information and so will be ignored when e.g. forecasting.\n",
      "  ' ignored when e.g. forecasting.', ValueWarning)\n"
     ]
    },
    {
     "name": "stdout",
     "output_type": "stream",
     "text": [
      "                             ARIMA Model Results                              \n",
      "==============================================================================\n",
      "Dep. Variable:           D.unit_sales   No. Observations:                 1678\n",
      "Model:                 ARIMA(7, 1, 0)   Log Likelihood              -10052.986\n",
      "Method:                       css-mle   S.D. of innovations             96.614\n",
      "Date:                Fri, 22 Nov 2019   AIC                          20123.972\n",
      "Time:                        23:32:32   BIC                          20172.800\n",
      "Sample:                             1   HQIC                         20142.060\n",
      "                                                                              \n",
      "======================================================================================\n",
      "                         coef    std err          z      P>|z|      [0.025      0.975]\n",
      "--------------------------------------------------------------------------------------\n",
      "const                 -0.0786      0.475     -0.165      0.869      -1.010       0.853\n",
      "ar.L1.D.unit_sales    -0.6838      0.024    -27.933      0.000      -0.732      -0.636\n",
      "ar.L2.D.unit_sales    -0.7305      0.027    -27.291      0.000      -0.783      -0.678\n",
      "ar.L3.D.unit_sales    -0.7047      0.027    -26.340      0.000      -0.757      -0.652\n",
      "ar.L4.D.unit_sales    -0.6615      0.027    -24.210      0.000      -0.715      -0.608\n",
      "ar.L5.D.unit_sales    -0.7300      0.027    -27.328      0.000      -0.782      -0.678\n",
      "ar.L6.D.unit_sales    -0.5223      0.027    -19.530      0.000      -0.575      -0.470\n",
      "ar.L7.D.unit_sales     0.0609      0.024      2.488      0.013       0.013       0.109\n",
      "                                    Roots                                    \n",
      "=============================================================================\n",
      "                  Real          Imaginary           Modulus         Frequency\n",
      "-----------------------------------------------------------------------------\n",
      "AR.1            0.6466           -0.8058j            1.0331           -0.1424\n",
      "AR.2            0.6466           +0.8058j            1.0331            0.1424\n",
      "AR.3           -0.2473           -1.0371j            1.0661           -0.2873\n",
      "AR.4           -0.2473           +1.0371j            1.0661            0.2873\n",
      "AR.5           -1.0661           -0.4789j            1.1687           -0.4328\n",
      "AR.6           -1.0661           +0.4789j            1.1687            0.4328\n",
      "AR.7            9.9102           -0.0000j            9.9102           -0.0000\n",
      "-----------------------------------------------------------------------------\n"
     ]
    },
    {
     "data": {
      "image/png": "[encoded data removed]",
      "text/plain": [
       "<Figure size 432x288 with 1 Axes>"
      ]
     },
     "metadata": {
      "needs_background": "light"
     },
     "output_type": "display_data"
    },
    {
     "data": {
      "image/png": "[encoded data removed]",
      "text/plain": [
       "<Figure size 432x288 with 1 Axes>"
      ]
     },
     "metadata": {
      "needs_background": "light"
     },
     "output_type": "display_data"
    },
    {
     "name": "stdout",
     "output_type": "stream",
     "text": [
      "                 0\n",
      "count  1678.000000\n",
      "mean     -0.374705\n",
      "std      97.018012\n",
      "min    -658.912199\n",
      "25%     -50.656507\n",
      "50%      -2.191953\n",
      "75%      45.731690\n",
      "max    1332.127901\n"
     ]
    }
   ],
   "source": [
    "from pandas import DataFrame\n",
    "from statsmodels.tsa.arima_model import ARIMA\n",
    "\n",
    "# fit model\n",
    "model = ARIMA(series, order=(7,1,0))\n",
    "model_fit = model.fit(disp=0)\n",
    "print(model_fit.summary())\n",
    "# plot residual errors\n",
    "residuals = DataFrame(model_fit.resid)\n",
    "residuals.plot()\n",
    "pyplot.show()\n",
    "residuals.plot(kind='kde')\n",
    "pyplot.show()\n",
    "print(residuals.describe())"
   ]
  },
  {
   "cell_type": "markdown",
   "metadata": {},
   "source": [
    "1. model results including the coefficient values\n",
    "\n",
    "2. Line plot of the residual errors;\n",
    "\n",
    "3. Density plot of the residual error values;\n",
    "\n",
    "4. The distribution of the residual errors is displayed.\n",
    "\n",
    "The results show that indeed there is a bias in the prediction (a non-zero mean in the residuals)."
   ]
  },
  {
   "cell_type": "code",
   "execution_count": 17,
   "metadata": {
    "scrolled": true
   },
   "outputs": [
    {
     "name": "stderr",
     "output_type": "stream",
     "text": [
      "/anaconda/envs/azureml_py36/lib/python3.6/site-packages/scipy/signal/signaltools.py:1341: FutureWarning: Using a non-tuple sequence for multidimensional indexing is deprecated; use `arr[tuple(seq)]` instead of `arr[seq]`. In the future this will be interpreted as an array index, `arr[np.array(seq)]`, which will result either in an error or a different result.\n",
      "  out_full[ind] += zi\n",
      "/anaconda/envs/azureml_py36/lib/python3.6/site-packages/scipy/signal/signaltools.py:1344: FutureWarning: Using a non-tuple sequence for multidimensional indexing is deprecated; use `arr[tuple(seq)]` instead of `arr[seq]`. In the future this will be interpreted as an array index, `arr[np.array(seq)]`, which will result either in an error or a different result.\n",
      "  out = out_full[ind]\n",
      "/anaconda/envs/azureml_py36/lib/python3.6/site-packages/scipy/signal/signaltools.py:1350: FutureWarning: Using a non-tuple sequence for multidimensional indexing is deprecated; use `arr[tuple(seq)]` instead of `arr[seq]`. In the future this will be interpreted as an array index, `arr[np.array(seq)]`, which will result either in an error or a different result.\n",
      "  zf = out_full[ind]\n"
     ]
    },
    {
     "name": "stdout",
     "output_type": "stream",
     "text": [
      "predicted=598.410855, expected=534.000000\n",
      "predicted=527.966611, expected=474.000000\n",
      "predicted=513.783917, expected=576.000000\n",
      "predicted=485.078244, expected=425.000000\n",
      "predicted=536.720006, expected=610.000000\n",
      "predicted=690.841302, expected=678.000000\n",
      "predicted=671.523605, expected=816.000000\n",
      "predicted=585.846523, expected=582.000000\n",
      "predicted=527.922449, expected=497.000000\n",
      "predicted=529.992861, expected=502.000000\n",
      "predicted=481.919755, expected=434.000000\n",
      "predicted=561.498556, expected=569.000000\n",
      "predicted=684.275374, expected=683.000000\n",
      "predicted=741.836194, expected=778.000000\n",
      "predicted=606.773189, expected=601.000000\n",
      "predicted=526.738421, expected=494.000000\n",
      "predicted=489.722141, expected=553.000000\n",
      "predicted=495.547231, expected=385.000000\n",
      "predicted=525.268504, expected=485.000000\n",
      "predicted=655.936435, expected=761.000000\n",
      "predicted=754.677212, expected=846.000000\n",
      "predicted=627.320339, expected=632.000000\n",
      "predicted=543.933909, expected=559.000000\n",
      "predicted=540.003716, expected=628.000000\n",
      "predicted=463.782448, expected=416.000000\n",
      "predicted=500.494729, expected=584.000000\n",
      "predicted=752.700689, expected=644.000000\n",
      "predicted=754.093063, expected=829.000000\n",
      "predicted=654.013684, expected=548.000000\n",
      "predicted=570.678673, expected=474.000000\n",
      "predicted=548.868188, expected=549.000000\n",
      "predicted=486.427738, expected=451.000000\n",
      "predicted=539.411873, expected=558.000000\n",
      "predicted=667.562200, expected=694.000000\n",
      "predicted=752.928563, expected=804.000000\n",
      "predicted=585.262605, expected=576.000000\n",
      "predicted=514.830389, expected=468.000000\n",
      "predicted=516.921036, expected=509.000000\n",
      "predicted=487.133666, expected=436.000000\n",
      "predicted=534.730027, expected=592.000000\n",
      "predicted=699.694340, expected=673.000000\n",
      "predicted=732.438171, expected=818.000000\n",
      "predicted=610.121006, expected=523.000000\n",
      "predicted=486.189260, expected=536.000000\n",
      "predicted=510.812903, expected=519.000000\n",
      "predicted=489.385285, expected=447.000000\n",
      "predicted=551.161711, expected=593.000000\n",
      "predicted=697.078038, expected=656.000000\n",
      "predicted=719.575932, expected=760.000000\n",
      "predicted=576.095725, expected=489.000000\n",
      "predicted=521.254633, expected=563.000000\n",
      "predicted=523.075844, expected=576.000000\n",
      "predicted=509.394218, expected=454.000000\n",
      "predicted=551.277905, expected=584.000000\n",
      "predicted=676.547902, expected=550.000000\n",
      "predicted=648.162594, expected=792.000000\n",
      "predicted=574.554110, expected=714.000000\n",
      "predicted=616.150346, expected=593.000000\n",
      "predicted=551.932199, expected=624.000000\n",
      "predicted=537.570718, expected=414.000000\n",
      "predicted=517.923437, expected=552.000000\n",
      "predicted=597.604253, expected=746.000000\n",
      "predicted=782.841956, expected=905.000000\n",
      "predicted=730.214529, expected=583.000000\n",
      "predicted=592.524431, expected=504.000000\n",
      "predicted=562.916455, expected=635.000000\n",
      "predicted=498.554772, expected=444.000000\n",
      "predicted=535.171458, expected=552.000000\n",
      "predicted=743.562628, expected=622.000000\n",
      "predicted=780.003660, expected=804.000000\n",
      "predicted=603.168218, expected=586.000000\n",
      "predicted=549.875628, expected=499.000000\n",
      "predicted=570.691614, expected=613.000000\n",
      "predicted=513.612518, expected=408.000000\n",
      "predicted=505.164776, expected=517.000000\n",
      "predicted=638.603421, expected=627.000000\n",
      "predicted=730.389543, expected=753.000000\n",
      "predicted=592.244217, expected=616.000000\n",
      "predicted=554.632904, expected=486.000000\n",
      "predicted=547.218913, expected=537.000000\n",
      "predicted=460.682459, expected=484.000000\n",
      "predicted=520.131025, expected=599.000000\n",
      "predicted=649.382082, expected=701.000000\n",
      "predicted=725.338587, expected=840.000000\n",
      "predicted=645.343331, expected=503.000000\n",
      "predicted=489.676169, expected=553.000000\n",
      "predicted=544.807459, expected=601.000000\n",
      "predicted=539.306404, expected=500.000000\n",
      "predicted=571.109445, expected=552.000000\n",
      "predicted=705.748255, expected=591.000000\n",
      "predicted=714.168320, expected=750.000000\n",
      "predicted=560.246730, expected=563.000000\n",
      "predicted=565.143847, expected=457.000000\n",
      "predicted=546.083481, expected=524.000000\n",
      "predicted=521.237003, expected=427.000000\n",
      "predicted=507.968453, expected=543.000000\n",
      "predicted=613.287414, expected=634.000000\n",
      "predicted=696.276338, expected=797.000000\n",
      "predicted=594.683370, expected=592.000000\n",
      "predicted=502.303182, expected=571.000000\n",
      "predicted=528.511481, expected=633.000000\n",
      "predicted=508.875485, expected=544.000000\n",
      "predicted=547.887819, expected=756.000000\n",
      "predicted=715.783943, expected=709.000000\n",
      "predicted=741.102788, expected=627.000000\n",
      "predicted=579.882919, expected=634.000000\n",
      "predicted=614.228619, expected=617.000000\n",
      "predicted=606.438902, expected=472.000000\n",
      "predicted=551.919060, expected=723.000000\n",
      "predicted=760.777010, expected=705.000000\n",
      "predicted=682.363071, expected=882.000000\n",
      "predicted=694.493517, expected=787.000000\n",
      "predicted=685.591230, expected=671.000000\n",
      "predicted=596.613387, expected=602.000000\n",
      "predicted=558.101754, expected=642.000000\n",
      "predicted=702.464128, expected=686.000000\n",
      "predicted=728.602673, expected=818.000000\n",
      "predicted=857.529668, expected=594.000000\n",
      "predicted=701.813567, expected=463.000000\n",
      "predicted=595.329150, expected=560.000000\n",
      "predicted=603.623476, expected=404.000000\n",
      "predicted=562.590005, expected=610.000000\n",
      "predicted=699.034389, expected=677.000000\n",
      "predicted=747.114279, expected=875.000000\n",
      "predicted=630.548861, expected=640.000000\n",
      "predicted=530.069612, expected=519.000000\n",
      "predicted=524.679908, expected=550.000000\n",
      "predicted=486.367350, expected=408.000000\n",
      "predicted=554.608929, expected=558.000000\n",
      "predicted=690.099993, expected=830.000000\n",
      "predicted=836.352802, expected=805.000000\n",
      "predicted=637.545306, expected=611.000000\n",
      "predicted=552.693633, expected=519.000000\n",
      "predicted=527.130557, expected=553.000000\n",
      "predicted=463.092118, expected=422.000000\n",
      "predicted=565.445068, expected=625.000000\n",
      "predicted=790.059054, expected=764.000000\n",
      "predicted=757.626570, expected=811.000000\n",
      "predicted=631.329473, expected=534.000000\n",
      "predicted=531.128623, expected=562.000000\n",
      "predicted=540.491224, expected=674.000000\n",
      "predicted=524.617566, expected=448.000000\n",
      "predicted=589.260784, expected=599.000000\n",
      "predicted=750.957906, expected=681.000000\n",
      "predicted=726.825006, expected=752.000000\n",
      "predicted=571.705084, expected=574.000000\n",
      "predicted=596.331308, expected=508.000000\n",
      "predicted=592.944509, expected=524.000000\n",
      "predicted=487.602124, expected=397.000000\n",
      "predicted=550.646566, expected=557.000000\n",
      "predicted=670.875712, expected=754.000000\n",
      "predicted=726.135317, expected=835.000000\n",
      "predicted=617.566700, expected=594.000000\n",
      "predicted=536.344692, expected=454.000000\n",
      "predicted=488.197629, expected=579.000000\n",
      "predicted=475.467174, expected=454.000000\n",
      "predicted=553.246502, expected=636.000000\n",
      "predicted=753.308783, expected=836.000000\n",
      "predicted=804.900750, expected=707.000000\n",
      "predicted=569.707857, expected=641.000000\n",
      "predicted=536.803099, expected=522.000000\n",
      "predicted=549.422308, expected=561.000000\n",
      "predicted=503.153452, expected=438.000000\n",
      "predicted=623.353161, expected=668.000000\n",
      "predicted=779.157849, expected=674.000000\n",
      "predicted=677.403301, expected=481.000000\n",
      "predicted=557.901676, expected=442.000000\n",
      "predicted=516.400498, expected=655.000000\n",
      "predicted=565.991266, expected=793.000000\n",
      "predicted=564.664618, expected=614.000000\n",
      "predicted=663.593342, expected=646.000000\n",
      "predicted=646.362820, expected=751.000000\n",
      "predicted=542.658632, expected=826.000000\n",
      "predicted=578.450074, expected=553.000000\n",
      "predicted=662.208023, expected=534.000000\n",
      "predicted=703.146424, expected=573.000000\n",
      "predicted=599.635667, expected=445.000000\n",
      "predicted=589.142676, expected=610.000000\n",
      "predicted=742.811266, expected=710.000000\n",
      "predicted=745.978761, expected=849.000000\n",
      "predicted=613.067782, expected=602.000000\n",
      "predicted=562.376719, expected=528.000000\n",
      "predicted=543.122242, expected=662.000000\n",
      "predicted=540.141755, expected=519.000000\n",
      "predicted=589.806408, expected=613.000000\n",
      "predicted=721.639334, expected=710.000000\n",
      "predicted=779.036645, expected=843.000000\n",
      "predicted=634.054787, expected=608.000000\n",
      "predicted=571.357540, expected=499.000000\n",
      "predicted=601.667062, expected=589.000000\n",
      "predicted=556.524882, expected=456.000000\n",
      "predicted=570.609860, expected=685.000000\n",
      "predicted=742.000690, expected=770.000000\n",
      "predicted=789.724733, expected=874.000000\n",
      "predicted=642.840822, expected=639.000000\n",
      "predicted=556.335051, expected=487.000000\n"
     ]
    },
    {
     "name": "stdout",
     "output_type": "stream",
     "text": [
      "predicted=540.696106, expected=646.000000\n",
      "predicted=555.159238, expected=468.000000\n",
      "predicted=630.122198, expected=705.000000\n",
      "predicted=783.249946, expected=989.000000\n",
      "predicted=882.597960, expected=842.000000\n",
      "predicted=633.495195, expected=595.000000\n",
      "predicted=551.997328, expected=552.000000\n",
      "predicted=607.960716, expected=611.000000\n",
      "predicted=530.383206, expected=478.000000\n",
      "predicted=693.799553, expected=623.000000\n",
      "predicted=883.980752, expected=681.000000\n",
      "predicted=741.129864, expected=843.000000\n",
      "predicted=638.895211, expected=589.000000\n",
      "predicted=571.439744, expected=539.000000\n",
      "predicted=573.498806, expected=625.000000\n",
      "predicted=548.127895, expected=558.000000\n",
      "predicted=604.040679, expected=561.000000\n",
      "predicted=684.756517, expected=575.000000\n",
      "predicted=733.494820, expected=657.000000\n",
      "predicted=579.998757, expected=592.000000\n",
      "predicted=565.194573, expected=524.000000\n",
      "predicted=589.000512, expected=638.000000\n",
      "predicted=585.190136, expected=464.000000\n",
      "predicted=523.410815, expected=615.000000\n",
      "predicted=608.206294, expected=718.000000\n",
      "predicted=672.920058, expected=872.000000\n",
      "predicted=647.619734, expected=597.000000\n",
      "predicted=563.540652, expected=541.000000\n",
      "predicted=591.539284, expected=575.000000\n",
      "predicted=519.847353, expected=452.000000\n",
      "predicted=575.307569, expected=568.000000\n",
      "predicted=718.057133, expected=678.000000\n",
      "predicted=776.927653, expected=557.000000\n",
      "predicted=545.385902, expected=784.000000\n",
      "predicted=630.651834, expected=666.000000\n",
      "predicted=574.723662, expected=631.000000\n",
      "predicted=512.276863, expected=491.000000\n",
      "predicted=583.563491, expected=615.000000\n",
      "predicted=638.956592, expected=760.000000\n",
      "predicted=651.303023, expected=907.000000\n",
      "predicted=806.302402, expected=623.000000\n",
      "predicted=639.642503, expected=511.000000\n",
      "predicted=576.484675, expected=520.000000\n",
      "predicted=520.556431, expected=433.000000\n",
      "predicted=577.069151, expected=552.000000\n",
      "predicted=741.474839, expected=822.000000\n",
      "predicted=844.593973, expected=642.000000\n",
      "predicted=575.934752, expected=680.000000\n",
      "predicted=568.240553, expected=643.000000\n",
      "predicted=547.298050, expected=581.000000\n",
      "predicted=477.794194, expected=457.000000\n",
      "predicted=586.124097, expected=595.000000\n",
      "predicted=741.185477, expected=732.000000\n",
      "predicted=662.349073, expected=878.000000\n",
      "predicted=728.331305, expected=609.000000\n",
      "predicted=619.299206, expected=530.000000\n",
      "predicted=547.611047, expected=523.000000\n",
      "predicted=500.146171, expected=429.000000\n",
      "predicted=561.964931, expected=602.000000\n",
      "predicted=738.397444, expected=687.000000\n",
      "predicted=779.706713, expected=722.000000\n",
      "predicted=606.721641, expected=570.000000\n",
      "predicted=541.509195, expected=526.000000\n",
      "predicted=508.186530, expected=582.000000\n",
      "predicted=502.014964, expected=519.000000\n",
      "predicted=592.425608, expected=737.000000\n",
      "predicted=720.693286, expected=860.000000\n",
      "predicted=736.351967, expected=988.000000\n",
      "predicted=670.943209, expected=673.000000\n",
      "predicted=577.962559, expected=597.000000\n",
      "predicted=584.184071, expected=685.000000\n",
      "predicted=611.359202, expected=496.000000\n",
      "predicted=678.344795, expected=657.000000\n",
      "predicted=844.298998, expected=783.000000\n",
      "predicted=881.800765, expected=933.000000\n",
      "predicted=706.274262, expected=646.000000\n",
      "predicted=625.128898, expected=617.000000\n",
      "predicted=643.778872, expected=669.000000\n",
      "predicted=570.778032, expected=508.000000\n",
      "predicted=624.717192, expected=671.000000\n",
      "predicted=798.567996, expected=972.000000\n",
      "predicted=906.043362, expected=814.000000\n",
      "predicted=653.263058, expected=721.000000\n",
      "predicted=669.079386, expected=666.000000\n",
      "predicted=651.798993, expected=629.000000\n",
      "predicted=550.122621, expected=484.000000\n",
      "predicted=679.349944, expected=548.000000\n",
      "predicted=841.503990, expected=738.000000\n",
      "predicted=767.352945, expected=792.000000\n",
      "predicted=708.249457, expected=632.000000\n",
      "predicted=737.638285, expected=726.000000\n",
      "predicted=603.762542, expected=596.000000\n",
      "predicted=516.427629, expected=644.000000\n",
      "predicted=569.430572, expected=651.000000\n",
      "predicted=529.897162, expected=467.000000\n",
      "predicted=556.408939, expected=593.000000\n",
      "predicted=652.985844, expected=657.000000\n",
      "predicted=684.535103, expected=713.000000\n",
      "predicted=622.571989, expected=595.000000\n",
      "predicted=639.952448, expected=485.000000\n",
      "predicted=569.044270, expected=538.000000\n",
      "predicted=504.370540, expected=448.000000\n",
      "predicted=559.559621, expected=498.000000\n",
      "predicted=625.536245, expected=562.000000\n",
      "predicted=655.057409, expected=641.000000\n",
      "predicted=575.700719, expected=585.000000\n",
      "predicted=518.351716, expected=506.000000\n",
      "Test MSE: 7306.328\n"
     ]
    },
    {
     "data": {
      "image/png": "[encoded data removed]",
      "text/plain": [
       "<Figure size 432x288 with 1 Axes>"
      ]
     },
     "metadata": {
      "needs_background": "light"
     },
     "output_type": "display_data"
    }
   ],
   "source": [
    "## rolling forecast with the ARIMA model in Python.\n",
    "\n",
    "from pandas import read_csv\n",
    "from pandas import datetime\n",
    "from matplotlib import pyplot\n",
    "from statsmodels.tsa.arima_model import ARIMA\n",
    "from sklearn.metrics import mean_squared_error\n",
    "\n",
    "def parser(x):\n",
    "\treturn datetime.strptime('210'+x, '%Y-%m')\n",
    "\n",
    "series = total_sales\n",
    "X = series.values\n",
    "size = int(len(X) * 0.8)\n",
    "train, test = X[0:size], X[size:len(X)]\n",
    "history = [x for x in train]\n",
    "predictions = list()\n",
    "for t in range(len(test)):\n",
    "\tmodel = ARIMA(history, order=(7,1,0))\n",
    "\tmodel_fit = model.fit(disp=0)\n",
    "\toutput = model_fit.forecast()\n",
    "\tyhat = output[0]\n",
    "\tpredictions.append(yhat)\n",
    "\tobs = test[t]\n",
    "\thistory.append(obs)\n",
    "\tprint('predicted=%f, expected=%f' % (yhat, obs))\n",
    "error = mean_squared_error(test, predictions)\n",
    "print('Test MSE: %.3f' % error)\n",
    "# plot\n",
    "pyplot.plot(test)\n",
    "pyplot.plot(predictions, color='red')\n",
    "pyplot.show()"
   ]
  },
  {
   "cell_type": "markdown",
   "metadata": {},
   "source": [
    "Running the example prints the prediction and expected value each iteration.\n",
    "\n",
    "We can also calculate a final mean squared error score (MSE) for the predictions, providing a point of comparison for other ARIMA configurations.\n",
    "\n",
    "A line plot is created showing the expected values (blue) compared to the rolling forecast predictions (red). We can see the values show some trend and are in the correct scale."
   ]
  },
  {
   "cell_type": "code",
   "execution_count": 18,
   "metadata": {},
   "outputs": [
    {
     "data": {
      "text/plain": [
       "10.828001467247324"
      ]
     },
     "execution_count": 18,
     "metadata": {},
     "output_type": "execute_result"
    }
   ],
   "source": [
    "### Mean absolute percentage error (MAPE)\n",
    "\n",
    "def mean_absolute_percentage_error(y_true, y_pred): \n",
    "    y_true, y_pred = np.array(y_true), np.array(y_pred)\n",
    "    return np.mean(np.abs((y_true - y_pred) / y_true)) * 100\n",
    "\n",
    "y_true = test; y_pred = predictions\n",
    "\n",
    "mean_absolute_percentage_error(y_true, y_pred)"
   ]
  },
  {
   "cell_type": "code",
   "execution_count": null,
   "metadata": {},
   "outputs": [],
   "source": []
  }
 ],
 "metadata": {
  "kernelspec": {
   "display_name": "Python 3",
   "language": "python",
   "name": "python3"
  },
  "language_info": {
   "codemirror_mode": {
    "name": "ipython",
    "version": 3
   },
   "file_extension": ".py",
   "mimetype": "text/x-python",
   "name": "python",
   "nbconvert_exporter": "python",
   "pygments_lexer": "ipython3",
   "version": "3.7.3"
  }
 },
 "nbformat": 4,
 "nbformat_minor": 2
}
