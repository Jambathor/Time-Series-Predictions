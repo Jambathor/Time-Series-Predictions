{
 "cells": [
  {
   "cell_type": "code",
   "execution_count": 1,
   "metadata": {},
   "outputs": [],
   "source": [
    "## Import packages\n",
    "\n",
    "import numpy as np\n",
    "import pandas as pd\n",
    "import seaborn as sns\n",
    "import matplotlib.pyplot as plt\n",
    "%matplotlib inline"
   ]
  },
  {
   "cell_type": "code",
   "execution_count": 2,
   "metadata": {},
   "outputs": [
    {
     "name": "stdout",
     "output_type": "stream",
     "text": [
      "Azure ML SDK Version:  1.0.72\n"
     ]
    }
   ],
   "source": [
    "import azureml.core\n",
    "from azureml.core import Workspace\n",
    "\n",
    "# check core SDK version number\n",
    "print(\"Azure ML SDK Version: \", azureml.core.VERSION)"
   ]
  },
  {
   "cell_type": "code",
   "execution_count": 3,
   "metadata": {},
   "outputs": [
    {
     "name": "stdout",
     "output_type": "stream",
     "text": [
      "tl289603\twestus2\ttl2896ws\n"
     ]
    }
   ],
   "source": [
    "# load workspace configuration from the config.json file in the current folder.\n",
    "ws = Workspace.from_config()\n",
    "print(ws.name, ws.location, ws.resource_group, sep='\\t')"
   ]
  },
  {
   "cell_type": "code",
   "execution_count": 4,
   "metadata": {},
   "outputs": [],
   "source": [
    "from azureml.core import Experiment\n",
    "experiment = Experiment(workspace=ws, name=\"TS-experiment\")"
   ]
  },
  {
   "cell_type": "code",
   "execution_count": 5,
   "metadata": {},
   "outputs": [],
   "source": [
    "# %%writefile $script_folder/train.py\n",
    "\n",
    "from azureml.core import Dataset, Run\n",
    "\n",
    "#run = Run.get_context()\n",
    "#workspace = run.experiment.workspace\n",
    "\n",
    "dataset_name = 'store6eggs_twocol_new'\n",
    "\n",
    "# Get a dataset by name\n",
    "data = Dataset.get_by_name(workspace=ws, name=dataset_name)\n",
    "\n",
    "# Load a TabularDataset into pandas DataFrame\n",
    "data =data.to_pandas_dataframe()"
   ]
  },
  {
   "cell_type": "code",
   "execution_count": 6,
   "metadata": {},
   "outputs": [],
   "source": [
    "## change data type of \"date\", (not necessary in Azure)\n",
    "data['date'] = data['date'].astype('datetime64[ns]')"
   ]
  },
  {
   "cell_type": "code",
   "execution_count": 7,
   "metadata": {},
   "outputs": [
    {
     "name": "stdout",
     "output_type": "stream",
     "text": [
      "<class 'pandas.core.frame.DataFrame'>\n",
      "RangeIndex: 1679 entries, 0 to 1678\n",
      "Data columns (total 2 columns):\n",
      "date          1679 non-null datetime64[ns]\n",
      "unit_sales    1679 non-null float64\n",
      "dtypes: datetime64[ns](1), float64(1)\n",
      "memory usage: 26.3 KB\n"
     ]
    }
   ],
   "source": [
    "data.info()"
   ]
  },
  {
   "cell_type": "code",
   "execution_count": 8,
   "metadata": {},
   "outputs": [
    {
     "data": {
      "text/html": [
       "<div>\n",
       "<style scoped>\n",
       "    .dataframe tbody tr th:only-of-type {\n",
       "        vertical-align: middle;\n",
       "    }\n",
       "\n",
       "    .dataframe tbody tr th {\n",
       "        vertical-align: top;\n",
       "    }\n",
       "\n",
       "    .dataframe thead th {\n",
       "        text-align: right;\n",
       "    }\n",
       "</style>\n",
       "<table border=\"1\" class=\"dataframe\">\n",
       "  <thead>\n",
       "    <tr style=\"text-align: right;\">\n",
       "      <th></th>\n",
       "      <th>date</th>\n",
       "      <th>unit_sales</th>\n",
       "    </tr>\n",
       "  </thead>\n",
       "  <tbody>\n",
       "    <tr>\n",
       "      <th>0</th>\n",
       "      <td>2013-01-02</td>\n",
       "      <td>360.0</td>\n",
       "    </tr>\n",
       "    <tr>\n",
       "      <th>1</th>\n",
       "      <td>2013-01-03</td>\n",
       "      <td>253.0</td>\n",
       "    </tr>\n",
       "    <tr>\n",
       "      <th>2</th>\n",
       "      <td>2013-01-04</td>\n",
       "      <td>204.0</td>\n",
       "    </tr>\n",
       "    <tr>\n",
       "      <th>3</th>\n",
       "      <td>2013-01-05</td>\n",
       "      <td>259.0</td>\n",
       "    </tr>\n",
       "    <tr>\n",
       "      <th>4</th>\n",
       "      <td>2013-01-06</td>\n",
       "      <td>445.0</td>\n",
       "    </tr>\n",
       "  </tbody>\n",
       "</table>\n",
       "</div>"
      ],
      "text/plain": [
       "        date  unit_sales\n",
       "0 2013-01-02       360.0\n",
       "1 2013-01-03       253.0\n",
       "2 2013-01-04       204.0\n",
       "3 2013-01-05       259.0\n",
       "4 2013-01-06       445.0"
      ]
     },
     "execution_count": 8,
     "metadata": {},
     "output_type": "execute_result"
    }
   ],
   "source": [
    "data.head()"
   ]
  },
  {
   "cell_type": "code",
   "execution_count": 9,
   "metadata": {},
   "outputs": [
    {
     "data": {
      "text/html": [
       "<div>\n",
       "<style scoped>\n",
       "    .dataframe tbody tr th:only-of-type {\n",
       "        vertical-align: middle;\n",
       "    }\n",
       "\n",
       "    .dataframe tbody tr th {\n",
       "        vertical-align: top;\n",
       "    }\n",
       "\n",
       "    .dataframe thead th {\n",
       "        text-align: right;\n",
       "    }\n",
       "</style>\n",
       "<table border=\"1\" class=\"dataframe\">\n",
       "  <thead>\n",
       "    <tr style=\"text-align: right;\">\n",
       "      <th></th>\n",
       "      <th>unit_sales</th>\n",
       "    </tr>\n",
       "    <tr>\n",
       "      <th>date</th>\n",
       "      <th></th>\n",
       "    </tr>\n",
       "  </thead>\n",
       "  <tbody>\n",
       "    <tr>\n",
       "      <th>2013-01-02</th>\n",
       "      <td>360.0</td>\n",
       "    </tr>\n",
       "    <tr>\n",
       "      <th>2013-01-03</th>\n",
       "      <td>253.0</td>\n",
       "    </tr>\n",
       "    <tr>\n",
       "      <th>2013-01-04</th>\n",
       "      <td>204.0</td>\n",
       "    </tr>\n",
       "    <tr>\n",
       "      <th>2013-01-05</th>\n",
       "      <td>259.0</td>\n",
       "    </tr>\n",
       "    <tr>\n",
       "      <th>2013-01-06</th>\n",
       "      <td>445.0</td>\n",
       "    </tr>\n",
       "  </tbody>\n",
       "</table>\n",
       "</div>"
      ],
      "text/plain": [
       "            unit_sales\n",
       "date                  \n",
       "2013-01-02       360.0\n",
       "2013-01-03       253.0\n",
       "2013-01-04       204.0\n",
       "2013-01-05       259.0\n",
       "2013-01-06       445.0"
      ]
     },
     "execution_count": 9,
     "metadata": {},
     "output_type": "execute_result"
    }
   ],
   "source": [
    "data = data.set_index('date')\n",
    "data.head()"
   ]
  },
  {
   "cell_type": "markdown",
   "metadata": {},
   "source": [
    "## Feature Selection"
   ]
  },
  {
   "cell_type": "code",
   "execution_count": 10,
   "metadata": {},
   "outputs": [
    {
     "name": "stdout",
     "output_type": "stream",
     "text": [
      "            unit_sales\n",
      "date                  \n",
      "2013-01-02       360.0\n",
      "2013-01-03       253.0\n",
      "2013-01-04       204.0\n",
      "2013-01-05       259.0\n",
      "2013-01-06       445.0\n"
     ]
    },
    {
     "data": {
      "image/png": "[encoded data removed]",
      "text/plain": [
       "<Figure size 432x288 with 1 Axes>"
      ]
     },
     "metadata": {
      "needs_background": "light"
     },
     "output_type": "display_data"
    }
   ],
   "source": [
    "from matplotlib import pyplot\n",
    "series = data\n",
    "# display first few rows\n",
    "print(series.head(5))\n",
    "# line plot of dataset\n",
    "series.plot()\n",
    "pyplot.show()"
   ]
  },
  {
   "cell_type": "code",
   "execution_count": 11,
   "metadata": {},
   "outputs": [
    {
     "data": {
      "image/png": "[encoded data removed]",
      "text/plain": [
       "<Figure size 432x288 with 1 Axes>"
      ]
     },
     "metadata": {
      "needs_background": "light"
     },
     "output_type": "display_data"
    }
   ],
   "source": [
    "## Autocorrelation Plot\n",
    "from statsmodels.graphics.tsaplots import plot_acf\n",
    "\n",
    "plot_acf(series)\n",
    "pyplot.show()"
   ]
  },
  {
   "cell_type": "markdown",
   "metadata": {},
   "source": [
    "Traditionally, time series features are selected based on their correlation with the output variable.\n",
    "\n",
    "This is called autocorrelation and involves plotting autocorrelation plots, also called a correlogram. These show the correlation of each lagged observation and whether or not the correlation is statistically significant.\n",
    "\n",
    "Running the code creates a correlogram, or Autocorrelation Function (ACF) plot, of the data.\n",
    "\n",
    "The plot shows lag values along the x-axis and correlation on the y-axis between -1 and 1 for negatively and positively correlated lags respectively.\n",
    "\n",
    "The dots above the blue area indicate statistical significance. The correlation of 1 for the lag value of 0 indicates 100% positive correlation of an observation with itself.\n",
    "\n",
    "The plot shows significant lag values at 7, 14, 21, 28 days."
   ]
  },
  {
   "cell_type": "markdown",
   "metadata": {},
   "source": [
    "## ARIMA"
   ]
  },
  {
   "cell_type": "code",
   "execution_count": 13,
   "metadata": {
    "scrolled": true
   },
   "outputs": [
    {
     "data": {
      "image/png": "[encoded data removed]",
      "text/plain": [
       "<Figure size 432x288 with 1 Axes>"
      ]
     },
     "metadata": {
      "needs_background": "light"
     },
     "output_type": "display_data"
    }
   ],
   "source": [
    "## autocorrelation plot of the time series\n",
    "## this plots correlations for all days, but we only use 7 in this model for lag order.\n",
    "\n",
    "from pandas.plotting import autocorrelation_plot\n",
    "\n",
    "autocorrelation_plot(series)\n",
    "pyplot.show()"
   ]
  },
  {
   "cell_type": "code",
   "execution_count": 15,
   "metadata": {
    "scrolled": false
   },
   "outputs": [
    {
     "name": "stderr",
     "output_type": "stream",
     "text": [
      "/anaconda/envs/azureml_py36/lib/python3.6/site-packages/statsmodels/tsa/base/tsa_model.py:219: ValueWarning: A date index has been provided, but it has no associated frequency information and so will be ignored when e.g. forecasting.\n",
      "  ' ignored when e.g. forecasting.', ValueWarning)\n",
      "/anaconda/envs/azureml_py36/lib/python3.6/site-packages/statsmodels/tsa/base/tsa_model.py:219: ValueWarning: A date index has been provided, but it has no associated frequency information and so will be ignored when e.g. forecasting.\n",
      "  ' ignored when e.g. forecasting.', ValueWarning)\n"
     ]
    },
    {
     "name": "stdout",
     "output_type": "stream",
     "text": [
      "                             ARIMA Model Results                              \n",
      "==============================================================================\n",
      "Dep. Variable:           D.unit_sales   No. Observations:                 1678\n",
      "Model:                 ARIMA(7, 1, 0)   Log Likelihood               -8695.857\n",
      "Method:                       css-mle   S.D. of innovations             43.010\n",
      "Date:                Fri, 22 Nov 2019   AIC                          17409.715\n",
      "Time:                        23:03:46   BIC                          17458.543\n",
      "Sample:                             1   HQIC                         17427.803\n",
      "                                                                              \n",
      "======================================================================================\n",
      "                         coef    std err          z      P>|z|      [0.025      0.975]\n",
      "--------------------------------------------------------------------------------------\n",
      "const                 -0.0615      0.195     -0.316      0.752      -0.443       0.320\n",
      "ar.L1.D.unit_sales    -0.7308      0.024    -29.850      0.000      -0.779      -0.683\n",
      "ar.L2.D.unit_sales    -0.8046      0.026    -30.837      0.000      -0.856      -0.753\n",
      "ar.L3.D.unit_sales    -0.7578      0.026    -28.684      0.000      -0.810      -0.706\n",
      "ar.L4.D.unit_sales    -0.7443      0.026    -28.091      0.000      -0.796      -0.692\n",
      "ar.L5.D.unit_sales    -0.7873      0.026    -29.821      0.000      -0.839      -0.736\n",
      "ar.L6.D.unit_sales    -0.6324      0.026    -24.250      0.000      -0.683      -0.581\n",
      "ar.L7.D.unit_sales     0.0573      0.025      2.332      0.020       0.009       0.105\n",
      "                                    Roots                                    \n",
      "=============================================================================\n",
      "                  Real          Imaginary           Modulus         Frequency\n",
      "-----------------------------------------------------------------------------\n",
      "AR.1            0.6378           -0.7964j            1.0203           -0.1425\n",
      "AR.2            0.6378           +0.7964j            1.0203            0.1425\n",
      "AR.3           -0.2342           -1.0158j            1.0424           -0.2861\n",
      "AR.4           -0.2342           +1.0158j            1.0424            0.2861\n",
      "AR.5           -1.0115           -0.4859j            1.1221           -0.4287\n",
      "AR.6           -1.0115           +0.4859j            1.1221            0.4287\n",
      "AR.7           12.2543           -0.0000j           12.2543           -0.0000\n",
      "-----------------------------------------------------------------------------\n"
     ]
    },
    {
     "data": {
      "image/png": "[encoded data removed]",
      "text/plain": [
       "<Figure size 432x288 with 1 Axes>"
      ]
     },
     "metadata": {
      "needs_background": "light"
     },
     "output_type": "display_data"
    },
    {
     "data": {
      "image/png": "[encoded data removed]",
      "text/plain": [
       "<Figure size 432x288 with 1 Axes>"
      ]
     },
     "metadata": {
      "needs_background": "light"
     },
     "output_type": "display_data"
    },
    {
     "name": "stdout",
     "output_type": "stream",
     "text": [
      "                 0\n",
      "count  1678.000000\n",
      "mean     -0.137070\n",
      "std      43.458090\n",
      "min    -227.520621\n",
      "25%     -22.495466\n",
      "50%      -1.963440\n",
      "75%      19.613994\n",
      "max     409.319166\n"
     ]
    }
   ],
   "source": [
    "from pandas import DataFrame\n",
    "from statsmodels.tsa.arima_model import ARIMA\n",
    "\n",
    "# fit model\n",
    "model = ARIMA(series, order=(7,1,0))\n",
    "model_fit = model.fit(disp=0)\n",
    "print(model_fit.summary())\n",
    "# plot residual errors\n",
    "residuals = DataFrame(model_fit.resid)\n",
    "residuals.plot()\n",
    "pyplot.show()\n",
    "residuals.plot(kind='kde')\n",
    "pyplot.show()\n",
    "print(residuals.describe())"
   ]
  },
  {
   "cell_type": "markdown",
   "metadata": {},
   "source": [
    "1. model results including the coefficient values\n",
    "\n",
    "2. Line plot of the residual errors;\n",
    "\n",
    "3. Density plot of the residual error values;\n",
    "\n",
    "4. The distribution of the residual errors is displayed.\n",
    "\n",
    "The results show that indeed there is a bias in the prediction (a non-zero mean in the residuals)."
   ]
  },
  {
   "cell_type": "code",
   "execution_count": 17,
   "metadata": {
    "scrolled": true
   },
   "outputs": [
    {
     "name": "stderr",
     "output_type": "stream",
     "text": [
      "/anaconda/envs/azureml_py36/lib/python3.6/site-packages/scipy/signal/signaltools.py:1341: FutureWarning: Using a non-tuple sequence for multidimensional indexing is deprecated; use `arr[tuple(seq)]` instead of `arr[seq]`. In the future this will be interpreted as an array index, `arr[np.array(seq)]`, which will result either in an error or a different result.\n",
      "  out_full[ind] += zi\n",
      "/anaconda/envs/azureml_py36/lib/python3.6/site-packages/scipy/signal/signaltools.py:1344: FutureWarning: Using a non-tuple sequence for multidimensional indexing is deprecated; use `arr[tuple(seq)]` instead of `arr[seq]`. In the future this will be interpreted as an array index, `arr[np.array(seq)]`, which will result either in an error or a different result.\n",
      "  out = out_full[ind]\n",
      "/anaconda/envs/azureml_py36/lib/python3.6/site-packages/scipy/signal/signaltools.py:1350: FutureWarning: Using a non-tuple sequence for multidimensional indexing is deprecated; use `arr[tuple(seq)]` instead of `arr[seq]`. In the future this will be interpreted as an array index, `arr[np.array(seq)]`, which will result either in an error or a different result.\n",
      "  zf = out_full[ind]\n"
     ]
    },
    {
     "name": "stdout",
     "output_type": "stream",
     "text": [
      "predicted=199.509884, expected=151.000000\n",
      "predicted=133.409439, expected=145.000000\n",
      "predicted=143.381627, expected=161.000000\n",
      "predicted=125.941347, expected=111.000000\n",
      "predicted=148.884564, expected=167.000000\n",
      "predicted=221.099121, expected=189.000000\n",
      "predicted=242.734677, expected=281.000000\n",
      "predicted=174.284960, expected=188.000000\n",
      "predicted=152.611788, expected=124.000000\n",
      "predicted=147.077390, expected=133.000000\n",
      "predicted=124.601308, expected=116.000000\n",
      "predicted=154.334090, expected=162.000000\n",
      "predicted=198.935361, expected=225.000000\n",
      "predicted=262.411072, expected=313.000000\n",
      "predicted=203.677843, expected=201.000000\n",
      "predicted=133.941320, expected=141.000000\n",
      "predicted=135.837087, expected=165.000000\n",
      "predicted=135.516425, expected=118.000000\n",
      "predicted=153.924232, expected=126.000000\n",
      "predicted=220.318422, expected=224.000000\n",
      "predicted=286.889967, expected=305.000000\n",
      "predicted=208.179778, expected=194.000000\n",
      "predicted=147.890297, expected=164.000000\n",
      "predicted=165.636424, expected=185.000000\n",
      "predicted=132.524460, expected=113.000000\n",
      "predicted=127.260092, expected=170.000000\n",
      "predicted=234.513494, expected=196.000000\n",
      "predicted=268.384088, expected=285.000000\n",
      "predicted=204.961064, expected=170.000000\n",
      "predicted=162.298110, expected=151.000000\n",
      "predicted=171.740331, expected=139.000000\n",
      "predicted=123.522193, expected=128.000000\n",
      "predicted=160.881586, expected=141.000000\n",
      "predicted=199.435266, expected=198.000000\n",
      "predicted=255.480114, expected=307.000000\n",
      "predicted=194.623214, expected=172.000000\n",
      "predicted=144.943023, expected=116.000000\n",
      "predicted=136.048211, expected=144.000000\n",
      "predicted=136.166164, expected=101.000000\n",
      "predicted=130.002128, expected=155.000000\n",
      "predicted=211.120219, expected=201.000000\n",
      "predicted=271.530913, expected=308.000000\n",
      "predicted=188.922535, expected=152.000000\n",
      "predicted=117.836782, expected=157.000000\n",
      "predicted=148.950392, expected=145.000000\n",
      "predicted=115.701219, expected=122.000000\n",
      "predicted=148.650526, expected=158.000000\n",
      "predicted=213.742228, expected=223.000000\n",
      "predicted=273.479024, expected=284.000000\n",
      "predicted=173.874302, expected=165.000000\n",
      "predicted=152.762612, expected=151.000000\n",
      "predicted=147.361925, expected=190.000000\n",
      "predicted=142.059461, expected=129.000000\n",
      "predicted=153.028578, expected=178.000000\n",
      "predicted=230.977759, expected=207.000000\n",
      "predicted=253.605723, expected=307.000000\n",
      "predicted=189.130371, expected=227.000000\n",
      "predicted=169.377296, expected=184.000000\n",
      "predicted=184.072779, expected=155.000000\n",
      "predicted=139.779783, expected=90.000000\n",
      "predicted=157.499267, expected=127.000000\n",
      "predicted=207.259322, expected=210.000000\n",
      "predicted=280.700502, expected=341.000000\n",
      "predicted=244.007226, expected=174.000000\n",
      "predicted=167.671423, expected=157.000000\n",
      "predicted=152.352822, expected=194.000000\n",
      "predicted=117.196292, expected=131.000000\n",
      "predicted=129.004728, expected=145.000000\n",
      "predicted=223.534054, expected=199.000000\n",
      "predicted=295.615188, expected=304.000000\n",
      "predicted=191.172540, expected=169.000000\n",
      "predicted=157.119197, expected=144.000000\n",
      "predicted=181.749806, expected=146.000000\n",
      "predicted=133.942696, expected=119.000000\n",
      "predicted=138.974995, expected=131.000000\n",
      "predicted=203.923612, expected=184.000000\n",
      "predicted=265.959039, expected=288.000000\n",
      "predicted=186.141926, expected=196.000000\n",
      "predicted=148.887993, expected=123.000000\n",
      "predicted=139.356452, expected=161.000000\n",
      "predicted=133.295942, expected=124.000000\n",
      "predicted=128.356466, expected=137.000000\n",
      "predicted=191.795811, expected=225.000000\n",
      "predicted=272.224600, expected=306.000000\n",
      "predicted=204.058348, expected=149.000000\n",
      "predicted=122.718704, expected=215.000000\n",
      "predicted=181.039426, expected=174.000000\n",
      "predicted=129.978947, expected=134.000000\n",
      "predicted=142.455866, expected=147.000000\n",
      "predicted=229.875649, expected=204.000000\n",
      "predicted=264.469226, expected=302.000000\n",
      "predicted=184.977694, expected=191.000000\n",
      "predicted=202.031663, expected=137.000000\n",
      "predicted=161.594608, expected=138.000000\n",
      "predicted=136.478603, expected=112.000000\n",
      "predicted=140.047798, expected=127.000000\n",
      "predicted=204.799699, expected=180.000000\n",
      "predicted=266.947432, expected=285.000000\n",
      "predicted=200.049601, expected=169.000000\n",
      "predicted=134.594715, expected=142.000000\n",
      "predicted=140.143007, expected=173.000000\n",
      "predicted=128.936240, expected=137.000000\n",
      "predicted=128.429785, expected=204.000000\n",
      "predicted=208.023006, expected=197.000000\n",
      "predicted=253.759689, expected=221.000000\n",
      "predicted=170.271949, expected=177.000000\n",
      "predicted=152.439573, expected=181.000000\n",
      "predicted=171.674759, expected=141.000000\n",
      "predicted=143.317342, expected=176.000000\n",
      "predicted=201.011647, expected=209.000000\n",
      "predicted=202.988223, expected=336.000000\n",
      "predicted=245.140615, expected=273.000000\n",
      "predicted=192.451326, expected=206.000000\n",
      "predicted=182.256811, expected=206.000000\n",
      "predicted=162.793310, expected=169.000000\n",
      "predicted=174.003315, expected=224.000000\n",
      "predicted=234.060542, expected=320.000000\n",
      "predicted=334.204087, expected=160.000000\n",
      "predicted=224.810536, expected=135.000000\n",
      "predicted=193.484796, expected=169.000000\n",
      "predicted=194.359290, expected=96.000000\n",
      "predicted=146.150596, expected=162.000000\n",
      "predicted=233.880854, expected=200.000000\n",
      "predicted=275.266428, expected=333.000000\n",
      "predicted=188.437350, expected=209.000000\n",
      "predicted=149.539631, expected=155.000000\n",
      "predicted=160.756790, expected=157.000000\n",
      "predicted=118.136217, expected=116.000000\n",
      "predicted=151.654938, expected=152.000000\n",
      "predicted=212.839338, expected=259.000000\n",
      "predicted=310.042875, expected=290.000000\n",
      "predicted=209.418558, expected=183.000000\n",
      "predicted=156.103070, expected=141.000000\n",
      "predicted=152.107985, expected=157.000000\n",
      "predicted=127.281615, expected=110.000000\n",
      "predicted=152.328812, expected=189.000000\n",
      "predicted=259.000738, expected=244.000000\n",
      "predicted=266.315689, expected=317.000000\n",
      "predicted=201.639687, expected=163.000000\n",
      "predicted=140.947425, expected=161.000000\n",
      "predicted=157.836667, expected=190.000000\n",
      "predicted=136.824005, expected=130.000000\n",
      "predicted=178.148569, expected=171.000000\n",
      "predicted=247.237624, expected=215.000000\n",
      "predicted=276.823727, expected=278.000000\n",
      "predicted=178.788573, expected=156.000000\n",
      "predicted=159.549949, expected=127.000000\n",
      "predicted=172.730646, expected=154.000000\n",
      "predicted=138.910341, expected=104.000000\n",
      "predicted=155.750554, expected=170.000000\n",
      "predicted=221.634632, expected=232.000000\n",
      "predicted=254.982127, expected=302.000000\n",
      "predicted=177.339566, expected=183.000000\n",
      "predicted=138.266389, expected=124.000000\n",
      "predicted=144.400259, expected=180.000000\n",
      "predicted=130.864857, expected=131.000000\n",
      "predicted=163.992111, expected=168.000000\n",
      "predicted=234.585350, expected=243.000000\n",
      "predicted=279.876224, expected=271.000000\n",
      "predicted=184.115298, expected=195.000000\n",
      "predicted=143.195539, expected=152.000000\n",
      "predicted=172.552177, expected=150.000000\n",
      "predicted=137.022651, expected=152.000000\n",
      "predicted=173.484024, expected=171.000000\n",
      "predicted=235.359633, expected=194.000000\n",
      "predicted=245.187540, expected=175.000000\n",
      "predicted=178.215376, expected=167.000000\n",
      "predicted=153.276767, expected=255.000000\n",
      "predicted=177.885712, expected=204.000000\n",
      "predicted=160.493036, expected=178.000000\n",
      "predicted=178.521746, expected=150.000000\n",
      "predicted=184.205195, expected=235.000000\n",
      "predicted=187.095270, expected=307.000000\n",
      "predicted=210.902133, expected=184.000000\n",
      "predicted=229.977938, expected=156.000000\n",
      "predicted=192.879538, expected=149.000000\n",
      "predicted=165.434085, expected=132.000000\n",
      "predicted=149.927059, expected=187.000000\n",
      "predicted=242.830194, expected=227.000000\n",
      "predicted=275.253617, expected=339.000000\n",
      "predicted=211.760686, expected=191.000000\n",
      "predicted=153.770105, expected=147.000000\n",
      "predicted=150.107407, expected=190.000000\n",
      "predicted=155.824160, expected=130.000000\n",
      "predicted=171.889630, expected=157.000000\n",
      "predicted=233.334852, expected=236.000000\n",
      "predicted=304.808931, expected=316.000000\n",
      "predicted=202.988595, expected=195.000000\n",
      "predicted=156.218395, expected=142.000000\n",
      "predicted=177.684978, expected=173.000000\n",
      "predicted=142.308709, expected=129.000000\n",
      "predicted=154.466621, expected=203.000000\n",
      "predicted=249.377731, expected=233.000000\n",
      "predicted=284.677663, expected=354.000000\n",
      "predicted=219.699940, expected=213.000000\n",
      "predicted=152.676648, expected=153.000000\n"
     ]
    },
    {
     "name": "stdout",
     "output_type": "stream",
     "text": [
      "predicted=167.254772, expected=175.000000\n",
      "predicted=151.051043, expected=120.000000\n",
      "predicted=182.641509, expected=209.000000\n",
      "predicted=251.934529, expected=318.000000\n",
      "predicted=335.964781, expected=316.000000\n",
      "predicted=215.044056, expected=204.000000\n",
      "predicted=164.115408, expected=167.000000\n",
      "predicted=170.433773, expected=153.000000\n",
      "predicted=133.723639, expected=116.000000\n",
      "predicted=203.335257, expected=142.000000\n",
      "predicted=286.590432, expected=222.000000\n",
      "predicted=280.504164, expected=338.000000\n",
      "predicted=224.390550, expected=199.000000\n",
      "predicted=162.730030, expected=145.000000\n",
      "predicted=150.583667, expected=175.000000\n",
      "predicted=133.865654, expected=153.000000\n",
      "predicted=148.328827, expected=193.000000\n",
      "predicted=239.382856, expected=185.000000\n",
      "predicted=290.257824, expected=259.000000\n",
      "predicted=199.438098, expected=185.000000\n",
      "predicted=150.632374, expected=152.000000\n",
      "predicted=169.380146, expected=193.000000\n",
      "predicted=170.162304, expected=146.000000\n",
      "predicted=176.287842, expected=170.000000\n",
      "predicted=194.193051, expected=216.000000\n",
      "predicted=245.230258, expected=321.000000\n",
      "predicted=208.122770, expected=173.000000\n",
      "predicted=152.627994, expected=159.000000\n",
      "predicted=187.554482, expected=162.000000\n",
      "predicted=150.915309, expected=124.000000\n",
      "predicted=159.242452, expected=158.000000\n",
      "predicted=224.196697, expected=200.000000\n",
      "predicted=279.404586, expected=223.000000\n",
      "predicted=172.037567, expected=306.000000\n",
      "predicted=196.516813, expected=189.000000\n",
      "predicted=156.131565, expected=190.000000\n",
      "predicted=146.236566, expected=166.000000\n",
      "predicted=166.692896, expected=179.000000\n",
      "predicted=197.288826, expected=244.000000\n",
      "predicted=244.022763, expected=329.000000\n",
      "predicted=300.566925, expected=182.000000\n",
      "predicted=173.676427, expected=162.000000\n",
      "predicted=186.997345, expected=146.000000\n",
      "predicted=161.261613, expected=119.000000\n",
      "predicted=168.588206, expected=156.000000\n",
      "predicted=243.317916, expected=246.000000\n",
      "predicted=296.091674, expected=227.000000\n",
      "predicted=177.168124, expected=220.000000\n",
      "predicted=174.488751, expected=183.000000\n",
      "predicted=149.787322, expected=180.000000\n",
      "predicted=135.242060, expected=149.000000\n",
      "predicted=167.233152, expected=177.000000\n",
      "predicted=233.502728, expected=223.000000\n",
      "predicted=224.893682, expected=322.000000\n",
      "predicted=239.338715, expected=200.000000\n",
      "predicted=177.813610, expected=158.000000\n",
      "predicted=174.707320, expected=157.000000\n",
      "predicted=154.743705, expected=106.000000\n",
      "predicted=160.926772, expected=203.000000\n",
      "predicted=241.139387, expected=218.000000\n",
      "predicted=283.837467, expected=261.000000\n",
      "predicted=202.271293, expected=184.000000\n",
      "predicted=160.318808, expected=153.000000\n",
      "predicted=149.236454, expected=163.000000\n",
      "predicted=130.875594, expected=144.000000\n",
      "predicted=192.304361, expected=221.000000\n",
      "predicted=229.545045, expected=285.000000\n",
      "predicted=258.199200, expected=363.000000\n",
      "predicted=217.285127, expected=241.000000\n",
      "predicted=168.176347, expected=188.000000\n",
      "predicted=169.722584, expected=174.000000\n",
      "predicted=161.113749, expected=151.000000\n",
      "predicted=212.305555, expected=168.000000\n",
      "predicted=274.471268, expected=241.000000\n",
      "predicted=324.862751, expected=346.000000\n",
      "predicted=252.381427, expected=174.000000\n",
      "predicted=170.947385, expected=163.000000\n",
      "predicted=175.549797, expected=208.000000\n",
      "predicted=166.587417, expected=134.000000\n",
      "predicted=159.936756, expected=203.000000\n",
      "predicted=259.272021, expected=302.000000\n",
      "predicted=319.767161, expected=298.000000\n",
      "predicted=185.507867, expected=205.000000\n",
      "predicted=178.920543, expected=193.000000\n",
      "predicted=200.657354, expected=178.000000\n",
      "predicted=146.095929, expected=116.000000\n",
      "predicted=196.063293, expected=139.000000\n",
      "predicted=273.563600, expected=228.000000\n",
      "predicted=270.169833, expected=294.000000\n",
      "predicted=216.843478, expected=195.000000\n",
      "predicted=187.102721, expected=152.000000\n",
      "predicted=166.756532, expected=185.000000\n",
      "predicted=132.970165, expected=105.000000\n",
      "predicted=135.816762, expected=151.000000\n",
      "predicted=229.869858, expected=239.000000\n",
      "predicted=273.551684, expected=294.000000\n",
      "predicted=202.988977, expected=212.000000\n",
      "predicted=166.275017, expected=171.000000\n",
      "predicted=175.679973, expected=163.000000\n",
      "predicted=119.785804, expected=145.000000\n",
      "predicted=160.050411, expected=174.000000\n",
      "predicted=238.484920, expected=194.000000\n",
      "predicted=262.529509, expected=288.000000\n",
      "predicted=222.032836, expected=185.000000\n",
      "predicted=164.529330, expected=147.000000\n",
      "predicted=159.349949, expected=155.000000\n",
      "predicted=152.436697, expected=131.000000\n",
      "predicted=162.162424, expected=155.000000\n",
      "predicted=201.592778, expected=220.000000\n",
      "predicted=265.431406, expected=268.000000\n",
      "predicted=191.894776, expected=191.000000\n",
      "predicted=152.928305, expected=171.000000\n",
      "predicted=159.254941, expected=184.000000\n",
      "predicted=145.175924, expected=123.000000\n",
      "predicted=151.711781, expected=167.000000\n",
      "predicted=222.747763, expected=222.000000\n",
      "predicted=249.742998, expected=315.000000\n",
      "predicted=212.649031, expected=190.000000\n",
      "predicted=170.571183, expected=134.000000\n",
      "predicted=168.485992, expected=163.000000\n",
      "predicted=137.481512, expected=140.000000\n",
      "predicted=163.086153, expected=159.000000\n",
      "predicted=225.936172, expected=212.000000\n",
      "predicted=282.000272, expected=262.000000\n",
      "predicted=190.707979, expected=175.000000\n",
      "predicted=140.304542, expected=187.000000\n",
      "predicted=171.837859, expected=202.000000\n",
      "predicted=154.744907, expected=131.000000\n",
      "predicted=154.362244, expected=167.000000\n",
      "predicted=217.256420, expected=210.000000\n",
      "predicted=240.285745, expected=275.000000\n",
      "predicted=193.836511, expected=176.000000\n",
      "predicted=183.559622, expected=130.000000\n",
      "predicted=179.183767, expected=153.000000\n",
      "predicted=138.877103, expected=125.000000\n",
      "predicted=158.834630, expected=178.000000\n",
      "predicted=217.681429, expected=172.000000\n",
      "predicted=240.016662, expected=247.000000\n",
      "predicted=182.689695, expected=178.000000\n",
      "predicted=137.689264, expected=147.000000\n",
      "Test MSE: 1314.435\n"
     ]
    },
    {
     "data": {
      "image/png": "[encoded data removed]",
      "text/plain": [
       "<Figure size 432x288 with 1 Axes>"
      ]
     },
     "metadata": {
      "needs_background": "light"
     },
     "output_type": "display_data"
    }
   ],
   "source": [
    "## rolling forecast with the ARIMA model in Python.\n",
    "\n",
    "from pandas import read_csv\n",
    "from pandas import datetime\n",
    "from matplotlib import pyplot\n",
    "from statsmodels.tsa.arima_model import ARIMA\n",
    "from sklearn.metrics import mean_squared_error\n",
    "\n",
    "def parser(x):\n",
    "\treturn datetime.strptime('210'+x, '%Y-%m')\n",
    "\n",
    "series = data\n",
    "X = series.values\n",
    "size = int(len(X) * 0.8)\n",
    "train, test = X[0:size], X[size:len(X)]\n",
    "history = [x for x in train]\n",
    "predictions = list()\n",
    "for t in range(len(test)):\n",
    "\tmodel = ARIMA(history, order=(7,1,0))\n",
    "\tmodel_fit = model.fit(disp=0)\n",
    "\toutput = model_fit.forecast()\n",
    "\tyhat = output[0]\n",
    "\tpredictions.append(yhat)\n",
    "\tobs = test[t]\n",
    "\thistory.append(obs)\n",
    "\tprint('predicted=%f, expected=%f' % (yhat, obs))\n",
    "error = mean_squared_error(test, predictions)\n",
    "print('Test MSE: %.3f' % error)\n",
    "# plot\n",
    "pyplot.plot(test)\n",
    "pyplot.plot(predictions, color='red')\n",
    "pyplot.show()"
   ]
  },
  {
   "cell_type": "markdown",
   "metadata": {},
   "source": [
    "Running the example prints the prediction and expected value each iteration.\n",
    "\n",
    "We can also calculate a final mean squared error score (MSE) for the predictions, providing a point of comparison for other ARIMA configurations.\n",
    "\n",
    "A line plot is created showing the expected values (blue) compared to the rolling forecast predictions (red). We can see the values show some trend and are in the correct scale."
   ]
  },
  {
   "cell_type": "code",
   "execution_count": 18,
   "metadata": {},
   "outputs": [
    {
     "data": {
      "text/plain": [
       "14.634733364519134"
      ]
     },
     "execution_count": 18,
     "metadata": {},
     "output_type": "execute_result"
    }
   ],
   "source": [
    "### Mean absolute percentage error (MAPE)\n",
    "\n",
    "def mean_absolute_percentage_error(y_true, y_pred): \n",
    "    y_true, y_pred = np.array(y_true), np.array(y_pred)\n",
    "    return np.mean(np.abs((y_true - y_pred) / y_true)) * 100\n",
    "\n",
    "y_true = test; y_pred = predictions\n",
    "\n",
    "mean_absolute_percentage_error(y_true, y_pred)"
   ]
  },
  {
   "cell_type": "code",
   "execution_count": null,
   "metadata": {},
   "outputs": [],
   "source": []
  }
 ],
 "metadata": {
  "kernelspec": {
   "display_name": "Python 3",
   "language": "python",
   "name": "python3"
  },
  "language_info": {
   "codemirror_mode": {
    "name": "ipython",
    "version": 3
   },
   "file_extension": ".py",
   "mimetype": "text/x-python",
   "name": "python",
   "nbconvert_exporter": "python",
   "pygments_lexer": "ipython3",
   "version": "3.7.3"
  }
 },
 "nbformat": 4,
 "nbformat_minor": 2
}
