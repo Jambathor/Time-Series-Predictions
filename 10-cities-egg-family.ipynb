{
 "cells": [
  {
   "cell_type": "code",
   "execution_count": 1,
   "metadata": {},
   "outputs": [],
   "source": [
    "## Import packages\n",
    "\n",
    "import numpy as np\n",
    "import pandas as pd\n",
    "import seaborn as sns\n",
    "from pandas import DataFrame"
   ]
  },
  {
   "cell_type": "code",
   "execution_count": 2,
   "metadata": {},
   "outputs": [
    {
     "name": "stdout",
     "output_type": "stream",
     "text": [
      "/Users/tianqi/Downloads/Capstone Data\n"
     ]
    }
   ],
   "source": [
    "## find file path\n",
    "\n",
    "%cd /Users/tianqi/Downloads/Capstone Data"
   ]
  },
  {
   "cell_type": "code",
   "execution_count": 3,
   "metadata": {},
   "outputs": [
    {
     "name": "stderr",
     "output_type": "stream",
     "text": [
      "/Users/tianqi/anaconda3/lib/python3.7/site-packages/IPython/core/interactiveshell.py:3057: DtypeWarning: Columns (5) have mixed types. Specify dtype option on import or set low_memory=False.\n",
      "  interactivity=interactivity, compiler=compiler, result=result)\n"
     ]
    }
   ],
   "source": [
    "## read train dataset as data\n",
    "\n",
    "data = pd.read_csv('/Users/tianqi/Downloads/Capstone Data/train.csv')"
   ]
  },
  {
   "cell_type": "code",
   "execution_count": 4,
   "metadata": {},
   "outputs": [],
   "source": [
    "## read other datasets\n",
    "\n",
    "holiday = pd.read_csv('/Users/tianqi/Downloads/Capstone Data/holidays_events.csv')\n",
    "items = pd.read_csv('/Users/tianqi/Downloads/Capstone Data/items.csv')\n",
    "oil = pd.read_csv('/Users/tianqi/Downloads/Capstone Data/oil.csv')\n",
    "stores = pd.read_csv('/Users/tianqi/Downloads/Capstone Data/stores.csv')\n",
    "transactions = pd.read_csv('/Users/tianqi/Downloads/Capstone Data/transactions.csv')"
   ]
  },
  {
   "cell_type": "code",
   "execution_count": 5,
   "metadata": {},
   "outputs": [],
   "source": [
    "## Convert data type of datasets\n",
    "data['date'] =  pd.to_datetime(data['date'], infer_datetime_format=True)\n",
    "transactions['date'] =  pd.to_datetime(transactions['date'], infer_datetime_format=True)\n",
    "oil['date'] =  pd.to_datetime(oil['date'], infer_datetime_format=True)\n",
    "holiday['date'] =  pd.to_datetime(holiday['date'], infer_datetime_format=True)"
   ]
  },
  {
   "cell_type": "markdown",
   "metadata": {},
   "source": [
    "## Merge datasets\n",
    "\n",
    "Merge train and stores as \"merge01\""
   ]
  },
  {
   "cell_type": "code",
   "execution_count": 6,
   "metadata": {},
   "outputs": [],
   "source": [
    "### train and stores have different number of rows, so we use left join\n",
    "\n",
    "merge01=pd.merge(data,stores,on='store_nbr',how=\"left\")"
   ]
  },
  {
   "cell_type": "markdown",
   "metadata": {},
   "source": [
    "Merge holiday as merge02"
   ]
  },
  {
   "cell_type": "code",
   "execution_count": 7,
   "metadata": {},
   "outputs": [],
   "source": [
    "merge02 = pd.merge(merge01, holiday[['date', 'locale_name', 'type', 'transferred']], \n",
    "                  left_on = ['date', 'state'], \n",
    "                  right_on = ['date', 'locale_name'], how = 'left')\n",
    "\n",
    "del stores\n",
    "del merge01"
   ]
  },
  {
   "cell_type": "code",
   "execution_count": 8,
   "metadata": {},
   "outputs": [],
   "source": [
    "merge02 = merge02.drop(columns = 'locale_name')\n",
    "merge02.columns = ['id', 'date', 'store_nbr', 'item_nbr', \n",
    "                   'unit_sales', 'onpromotion', 'city', \n",
    "                   'state', 'store_type', 'store_cluster', \n",
    "                   'holiday_type', 'transferred']"
   ]
  },
  {
   "cell_type": "code",
   "execution_count": 9,
   "metadata": {},
   "outputs": [],
   "source": [
    "merge02 = pd.merge(merge02, holiday[holiday['locale_name'] == 'Ecuador']\n",
    "                   [['date', 'type', 'transferred']], \n",
    "                   on = 'date', how = 'left')"
   ]
  },
  {
   "cell_type": "code",
   "execution_count": 10,
   "metadata": {},
   "outputs": [],
   "source": [
    "merge02.loc[merge02['holiday_type'].isna(), 'holiday_type'] = merge02.loc[merge02['holiday_type'].isna(), 'type']\n",
    "merge02.loc[merge02['transferred_x'].isna(), 'transferred_x'] = merge02.loc[merge02['transferred_x'].isna(), 'transferred_y']\n",
    "merge02 = merge02.drop(columns = ['type', 'transferred_y'])\n",
    "merge02.columns = ['id', 'date', 'store_nbr', 'item_nbr', 'unit_sales', 'onpromotion', \n",
    "                   'city', 'state', 'store_type', 'store_cluster', 'holiday_type', 'transferred']\n",
    "merge02.head()\n",
    "\n",
    "del holiday"
   ]
  },
  {
   "cell_type": "markdown",
   "metadata": {},
   "source": [
    "Merge transactions as merge03"
   ]
  },
  {
   "cell_type": "code",
   "execution_count": 11,
   "metadata": {},
   "outputs": [],
   "source": [
    "merge03 = pd.merge(merge02, transactions, \n",
    "                  left_on = ['date', 'store_nbr'],\n",
    "                   right_on = ['date', 'store_nbr'], how = 'left')\n",
    "merge03.head()\n",
    "\n",
    "del merge02\n",
    "del transactions"
   ]
  },
  {
   "cell_type": "markdown",
   "metadata": {},
   "source": [
    "Merge items as merge04"
   ]
  },
  {
   "cell_type": "code",
   "execution_count": 12,
   "metadata": {},
   "outputs": [],
   "source": [
    "merge04=pd.merge(merge03,items,on='item_nbr',how=\"left\")\n",
    "merge04.head()\n",
    "\n",
    "del items\n",
    "del merge03"
   ]
  },
  {
   "cell_type": "markdown",
   "metadata": {},
   "source": [
    "Merge oil prices as merge05"
   ]
  },
  {
   "cell_type": "code",
   "execution_count": 13,
   "metadata": {},
   "outputs": [],
   "source": [
    "date_range = pd.date_range(start='1/1/2013', end='8/31/2017', freq='D')\n",
    "full_oil_price = pd.DataFrame(data = date_range)\n",
    "full_oil_price.columns = ['date']\n",
    "full_oil_price['date'] = full_oil_price['date'].apply(str).str.slice(stop = 10)\n",
    "full_oil_price['date'] =  pd.to_datetime(full_oil_price['date'], infer_datetime_format=True)"
   ]
  },
  {
   "cell_type": "code",
   "execution_count": 14,
   "metadata": {},
   "outputs": [
    {
     "data": {
      "text/html": [
       "<div>\n",
       "<style scoped>\n",
       "    .dataframe tbody tr th:only-of-type {\n",
       "        vertical-align: middle;\n",
       "    }\n",
       "\n",
       "    .dataframe tbody tr th {\n",
       "        vertical-align: top;\n",
       "    }\n",
       "\n",
       "    .dataframe thead th {\n",
       "        text-align: right;\n",
       "    }\n",
       "</style>\n",
       "<table border=\"1\" class=\"dataframe\">\n",
       "  <thead>\n",
       "    <tr style=\"text-align: right;\">\n",
       "      <th></th>\n",
       "      <th>date</th>\n",
       "      <th>dcoilwtico</th>\n",
       "    </tr>\n",
       "  </thead>\n",
       "  <tbody>\n",
       "    <tr>\n",
       "      <th>0</th>\n",
       "      <td>2013-01-01</td>\n",
       "      <td>NaN</td>\n",
       "    </tr>\n",
       "    <tr>\n",
       "      <th>1</th>\n",
       "      <td>2013-01-02</td>\n",
       "      <td>93.14</td>\n",
       "    </tr>\n",
       "    <tr>\n",
       "      <th>2</th>\n",
       "      <td>2013-01-03</td>\n",
       "      <td>92.97</td>\n",
       "    </tr>\n",
       "    <tr>\n",
       "      <th>3</th>\n",
       "      <td>2013-01-04</td>\n",
       "      <td>93.12</td>\n",
       "    </tr>\n",
       "    <tr>\n",
       "      <th>4</th>\n",
       "      <td>2013-01-05</td>\n",
       "      <td>NaN</td>\n",
       "    </tr>\n",
       "  </tbody>\n",
       "</table>\n",
       "</div>"
      ],
      "text/plain": [
       "        date  dcoilwtico\n",
       "0 2013-01-01         NaN\n",
       "1 2013-01-02       93.14\n",
       "2 2013-01-03       92.97\n",
       "3 2013-01-04       93.12\n",
       "4 2013-01-05         NaN"
      ]
     },
     "execution_count": 14,
     "metadata": {},
     "output_type": "execute_result"
    }
   ],
   "source": [
    "full_oil_price = full_oil_price.merge(oil, on = 'date', how = 'left')\n",
    "full_oil_price.head()"
   ]
  },
  {
   "cell_type": "code",
   "execution_count": 15,
   "metadata": {},
   "outputs": [],
   "source": [
    "full_oil_price.iloc[0,1] = full_oil_price.iloc[1,1]\n",
    "for i in range(full_oil_price['dcoilwtico'].size):\n",
    "    if np.isnan(full_oil_price.iloc[i,1]):\n",
    "        full_oil_price.iloc[i,1] = full_oil_price.iloc[i-1,1]"
   ]
  },
  {
   "cell_type": "code",
   "execution_count": 16,
   "metadata": {},
   "outputs": [
    {
     "data": {
      "text/html": [
       "<div>\n",
       "<style scoped>\n",
       "    .dataframe tbody tr th:only-of-type {\n",
       "        vertical-align: middle;\n",
       "    }\n",
       "\n",
       "    .dataframe tbody tr th {\n",
       "        vertical-align: top;\n",
       "    }\n",
       "\n",
       "    .dataframe thead th {\n",
       "        text-align: right;\n",
       "    }\n",
       "</style>\n",
       "<table border=\"1\" class=\"dataframe\">\n",
       "  <thead>\n",
       "    <tr style=\"text-align: right;\">\n",
       "      <th></th>\n",
       "      <th>id</th>\n",
       "      <th>date</th>\n",
       "      <th>store_nbr</th>\n",
       "      <th>item_nbr</th>\n",
       "      <th>unit_sales</th>\n",
       "      <th>onpromotion</th>\n",
       "      <th>city</th>\n",
       "      <th>state</th>\n",
       "      <th>store_type</th>\n",
       "      <th>store_cluster</th>\n",
       "      <th>holiday_type</th>\n",
       "      <th>transferred</th>\n",
       "      <th>transactions</th>\n",
       "      <th>family</th>\n",
       "      <th>class</th>\n",
       "      <th>perishable</th>\n",
       "      <th>dcoilwtico</th>\n",
       "    </tr>\n",
       "  </thead>\n",
       "  <tbody>\n",
       "    <tr>\n",
       "      <th>0</th>\n",
       "      <td>0</td>\n",
       "      <td>2013-01-01</td>\n",
       "      <td>25</td>\n",
       "      <td>103665</td>\n",
       "      <td>7.0</td>\n",
       "      <td>NaN</td>\n",
       "      <td>Salinas</td>\n",
       "      <td>Santa Elena</td>\n",
       "      <td>D</td>\n",
       "      <td>1</td>\n",
       "      <td>Holiday</td>\n",
       "      <td>False</td>\n",
       "      <td>770.0</td>\n",
       "      <td>BREAD/BAKERY</td>\n",
       "      <td>2712</td>\n",
       "      <td>1</td>\n",
       "      <td>93.14</td>\n",
       "    </tr>\n",
       "    <tr>\n",
       "      <th>1</th>\n",
       "      <td>1</td>\n",
       "      <td>2013-01-01</td>\n",
       "      <td>25</td>\n",
       "      <td>105574</td>\n",
       "      <td>1.0</td>\n",
       "      <td>NaN</td>\n",
       "      <td>Salinas</td>\n",
       "      <td>Santa Elena</td>\n",
       "      <td>D</td>\n",
       "      <td>1</td>\n",
       "      <td>Holiday</td>\n",
       "      <td>False</td>\n",
       "      <td>770.0</td>\n",
       "      <td>GROCERY I</td>\n",
       "      <td>1045</td>\n",
       "      <td>0</td>\n",
       "      <td>93.14</td>\n",
       "    </tr>\n",
       "    <tr>\n",
       "      <th>2</th>\n",
       "      <td>2</td>\n",
       "      <td>2013-01-01</td>\n",
       "      <td>25</td>\n",
       "      <td>105575</td>\n",
       "      <td>2.0</td>\n",
       "      <td>NaN</td>\n",
       "      <td>Salinas</td>\n",
       "      <td>Santa Elena</td>\n",
       "      <td>D</td>\n",
       "      <td>1</td>\n",
       "      <td>Holiday</td>\n",
       "      <td>False</td>\n",
       "      <td>770.0</td>\n",
       "      <td>GROCERY I</td>\n",
       "      <td>1045</td>\n",
       "      <td>0</td>\n",
       "      <td>93.14</td>\n",
       "    </tr>\n",
       "    <tr>\n",
       "      <th>3</th>\n",
       "      <td>3</td>\n",
       "      <td>2013-01-01</td>\n",
       "      <td>25</td>\n",
       "      <td>108079</td>\n",
       "      <td>1.0</td>\n",
       "      <td>NaN</td>\n",
       "      <td>Salinas</td>\n",
       "      <td>Santa Elena</td>\n",
       "      <td>D</td>\n",
       "      <td>1</td>\n",
       "      <td>Holiday</td>\n",
       "      <td>False</td>\n",
       "      <td>770.0</td>\n",
       "      <td>GROCERY I</td>\n",
       "      <td>1030</td>\n",
       "      <td>0</td>\n",
       "      <td>93.14</td>\n",
       "    </tr>\n",
       "    <tr>\n",
       "      <th>4</th>\n",
       "      <td>4</td>\n",
       "      <td>2013-01-01</td>\n",
       "      <td>25</td>\n",
       "      <td>108701</td>\n",
       "      <td>1.0</td>\n",
       "      <td>NaN</td>\n",
       "      <td>Salinas</td>\n",
       "      <td>Santa Elena</td>\n",
       "      <td>D</td>\n",
       "      <td>1</td>\n",
       "      <td>Holiday</td>\n",
       "      <td>False</td>\n",
       "      <td>770.0</td>\n",
       "      <td>DELI</td>\n",
       "      <td>2644</td>\n",
       "      <td>1</td>\n",
       "      <td>93.14</td>\n",
       "    </tr>\n",
       "  </tbody>\n",
       "</table>\n",
       "</div>"
      ],
      "text/plain": [
       "   id       date  store_nbr  item_nbr  unit_sales onpromotion     city  \\\n",
       "0   0 2013-01-01         25    103665         7.0         NaN  Salinas   \n",
       "1   1 2013-01-01         25    105574         1.0         NaN  Salinas   \n",
       "2   2 2013-01-01         25    105575         2.0         NaN  Salinas   \n",
       "3   3 2013-01-01         25    108079         1.0         NaN  Salinas   \n",
       "4   4 2013-01-01         25    108701         1.0         NaN  Salinas   \n",
       "\n",
       "         state store_type  store_cluster holiday_type transferred  \\\n",
       "0  Santa Elena          D              1      Holiday       False   \n",
       "1  Santa Elena          D              1      Holiday       False   \n",
       "2  Santa Elena          D              1      Holiday       False   \n",
       "3  Santa Elena          D              1      Holiday       False   \n",
       "4  Santa Elena          D              1      Holiday       False   \n",
       "\n",
       "   transactions        family  class  perishable  dcoilwtico  \n",
       "0         770.0  BREAD/BAKERY   2712           1       93.14  \n",
       "1         770.0     GROCERY I   1045           0       93.14  \n",
       "2         770.0     GROCERY I   1045           0       93.14  \n",
       "3         770.0     GROCERY I   1030           0       93.14  \n",
       "4         770.0          DELI   2644           1       93.14  "
      ]
     },
     "execution_count": 16,
     "metadata": {},
     "output_type": "execute_result"
    }
   ],
   "source": [
    "merge05 = pd.merge(merge04, full_oil_price, on = 'date', how = 'left')\n",
    "\n",
    "del merge04\n",
    "del full_oil_price\n",
    "\n",
    "merge05.head()"
   ]
  },
  {
   "cell_type": "markdown",
   "metadata": {},
   "source": [
    "## Fill missing values"
   ]
  },
  {
   "cell_type": "code",
   "execution_count": 17,
   "metadata": {},
   "outputs": [],
   "source": [
    "df = merge05"
   ]
  },
  {
   "cell_type": "code",
   "execution_count": 18,
   "metadata": {},
   "outputs": [],
   "source": [
    "df.loc[df['onpromotion'] == '', 'onpromotion'] = 'False'\n",
    "df['onpromotion'] = df['onpromotion'].apply(bool)\n",
    "df.loc[df['transferred'].isna(), 'transferred'] = True\n",
    "df.loc[df['holiday_type'].isna(), 'holiday_type'] = 'Work Day'"
   ]
  },
  {
   "cell_type": "markdown",
   "metadata": {},
   "source": [
    "## Choose Cities"
   ]
  },
  {
   "cell_type": "code",
   "execution_count": 19,
   "metadata": {},
   "outputs": [
    {
     "data": {
      "text/plain": [
       "17"
      ]
     },
     "execution_count": 19,
     "metadata": {},
     "output_type": "execute_result"
    }
   ],
   "source": [
    "## 17 clusters in total\n",
    "\n",
    "len(df['store_cluster'].unique())"
   ]
  },
  {
   "cell_type": "code",
   "execution_count": 20,
   "metadata": {},
   "outputs": [
    {
     "data": {
      "text/plain": [
       "array(['Quito', 'Ambato'], dtype=object)"
      ]
     },
     "execution_count": 20,
     "metadata": {},
     "output_type": "execute_result"
    }
   ],
   "source": [
    "## 1 cluster may have many cities\n",
    "\n",
    "cluster14 = df.loc[df['store_cluster'] == 14]\n",
    "cluster14['city'].unique()"
   ]
  },
  {
   "cell_type": "code",
   "execution_count": 21,
   "metadata": {},
   "outputs": [
    {
     "data": {
      "text/plain": [
       "22"
      ]
     },
     "execution_count": 21,
     "metadata": {},
     "output_type": "execute_result"
    }
   ],
   "source": [
    "## 22 cities in total\n",
    "\n",
    "len(df['city'].unique())"
   ]
  },
  {
   "cell_type": "code",
   "execution_count": 22,
   "metadata": {},
   "outputs": [
    {
     "data": {
      "text/plain": [
       "array([13,  8,  9,  6, 15, 12, 16,  5, 11, 14])"
      ]
     },
     "execution_count": 22,
     "metadata": {},
     "output_type": "execute_result"
    }
   ],
   "source": [
    "## 1 city may have many clusters\n",
    "\n",
    "city_quito = df.loc[df['city'] == 'Quito']\n",
    "city_quito['store_cluster'].unique()"
   ]
  },
  {
   "cell_type": "code",
   "execution_count": 23,
   "metadata": {},
   "outputs": [],
   "source": [
    "## count total unit sales by cities\n",
    "\n",
    "group_by_sum = df.groupby('city').sum()"
   ]
  },
  {
   "cell_type": "code",
   "execution_count": 24,
   "metadata": {},
   "outputs": [
    {
     "data": {
      "text/html": [
       "<div>\n",
       "<style scoped>\n",
       "    .dataframe tbody tr th:only-of-type {\n",
       "        vertical-align: middle;\n",
       "    }\n",
       "\n",
       "    .dataframe tbody tr th {\n",
       "        vertical-align: top;\n",
       "    }\n",
       "\n",
       "    .dataframe thead th {\n",
       "        text-align: right;\n",
       "    }\n",
       "</style>\n",
       "<table border=\"1\" class=\"dataframe\">\n",
       "  <thead>\n",
       "    <tr style=\"text-align: right;\">\n",
       "      <th></th>\n",
       "      <th>id</th>\n",
       "      <th>store_nbr</th>\n",
       "      <th>item_nbr</th>\n",
       "      <th>unit_sales</th>\n",
       "      <th>onpromotion</th>\n",
       "      <th>store_cluster</th>\n",
       "      <th>transferred</th>\n",
       "      <th>transactions</th>\n",
       "      <th>class</th>\n",
       "      <th>perishable</th>\n",
       "      <th>dcoilwtico</th>\n",
       "    </tr>\n",
       "    <tr>\n",
       "      <th>city</th>\n",
       "      <th></th>\n",
       "      <th></th>\n",
       "      <th></th>\n",
       "      <th></th>\n",
       "      <th></th>\n",
       "      <th></th>\n",
       "      <th></th>\n",
       "      <th></th>\n",
       "      <th></th>\n",
       "      <th></th>\n",
       "      <th></th>\n",
       "    </tr>\n",
       "  </thead>\n",
       "  <tbody>\n",
       "    <tr>\n",
       "      <th>Puyo</th>\n",
       "      <td>85428049771428</td>\n",
       "      <td>20410786</td>\n",
       "      <td>1021881525503</td>\n",
       "      <td>4.110779e+06</td>\n",
       "      <td>99920.0</td>\n",
       "      <td>6494341</td>\n",
       "      <td>827802.0</td>\n",
       "      <td>7.032789e+08</td>\n",
       "      <td>1795288636</td>\n",
       "      <td>196639</td>\n",
       "      <td>4.210417e+07</td>\n",
       "    </tr>\n",
       "    <tr>\n",
       "      <th>Playas</th>\n",
       "      <td>84619819788674</td>\n",
       "      <td>48731130</td>\n",
       "      <td>1334952583070</td>\n",
       "      <td>7.702352e+06</td>\n",
       "      <td>372126.0</td>\n",
       "      <td>4176954</td>\n",
       "      <td>1266602.0</td>\n",
       "      <td>9.586872e+08</td>\n",
       "      <td>2597249434</td>\n",
       "      <td>286587</td>\n",
       "      <td>8.705326e+07</td>\n",
       "    </tr>\n",
       "    <tr>\n",
       "      <th>El Carmen</th>\n",
       "      <td>100955643229596</td>\n",
       "      <td>89311464</td>\n",
       "      <td>1560057242844</td>\n",
       "      <td>1.109794e+07</td>\n",
       "      <td>453674.0</td>\n",
       "      <td>4961748</td>\n",
       "      <td>1509569.0</td>\n",
       "      <td>1.443508e+09</td>\n",
       "      <td>3198145627</td>\n",
       "      <td>288673</td>\n",
       "      <td>1.031596e+08</td>\n",
       "    </tr>\n",
       "    <tr>\n",
       "      <th>Riobamba</th>\n",
       "      <td>111192119769854</td>\n",
       "      <td>25359026</td>\n",
       "      <td>1707514129407</td>\n",
       "      <td>1.142622e+07</td>\n",
       "      <td>456524.0</td>\n",
       "      <td>12679513</td>\n",
       "      <td>1653426.0</td>\n",
       "      <td>2.499698e+09</td>\n",
       "      <td>3499981755</td>\n",
       "      <td>363035</td>\n",
       "      <td>1.118645e+08</td>\n",
       "    </tr>\n",
       "    <tr>\n",
       "      <th>Salinas</th>\n",
       "      <td>121893580457949</td>\n",
       "      <td>51581425</td>\n",
       "      <td>1963853225687</td>\n",
       "      <td>1.147381e+07</td>\n",
       "      <td>526516.0</td>\n",
       "      <td>2063257</td>\n",
       "      <td>1861304.0</td>\n",
       "      <td>2.035205e+09</td>\n",
       "      <td>3996702226</td>\n",
       "      <td>598792</td>\n",
       "      <td>1.306976e+08</td>\n",
       "    </tr>\n",
       "    <tr>\n",
       "      <th>Ibarra</th>\n",
       "      <td>118818381409692</td>\n",
       "      <td>29165190</td>\n",
       "      <td>1852048668859</td>\n",
       "      <td>1.148762e+07</td>\n",
       "      <td>480095.0</td>\n",
       "      <td>29165190</td>\n",
       "      <td>1775220.0</td>\n",
       "      <td>2.567407e+09</td>\n",
       "      <td>3728321428</td>\n",
       "      <td>385923</td>\n",
       "      <td>1.211048e+08</td>\n",
       "    </tr>\n",
       "    <tr>\n",
       "      <th>Guaranda</th>\n",
       "      <td>115611308398167</td>\n",
       "      <td>35813119</td>\n",
       "      <td>1785644475792</td>\n",
       "      <td>1.309706e+07</td>\n",
       "      <td>452044.0</td>\n",
       "      <td>28273515</td>\n",
       "      <td>1719384.0</td>\n",
       "      <td>2.381919e+09</td>\n",
       "      <td>3616850020</td>\n",
       "      <td>365308</td>\n",
       "      <td>1.171061e+08</td>\n",
       "    </tr>\n",
       "    <tr>\n",
       "      <th>Manta</th>\n",
       "      <td>180932850027183</td>\n",
       "      <td>118254625</td>\n",
       "      <td>2369038434837</td>\n",
       "      <td>1.397666e+07</td>\n",
       "      <td>241329.0</td>\n",
       "      <td>28495964</td>\n",
       "      <td>2032403.0</td>\n",
       "      <td>2.756453e+09</td>\n",
       "      <td>4431612453</td>\n",
       "      <td>623866</td>\n",
       "      <td>1.158490e+08</td>\n",
       "    </tr>\n",
       "    <tr>\n",
       "      <th>Quevedo</th>\n",
       "      <td>118755375435922</td>\n",
       "      <td>64986735</td>\n",
       "      <td>1854700201835</td>\n",
       "      <td>1.422948e+07</td>\n",
       "      <td>508198.0</td>\n",
       "      <td>5907885</td>\n",
       "      <td>1800767.0</td>\n",
       "      <td>2.022074e+09</td>\n",
       "      <td>3841746672</td>\n",
       "      <td>431023</td>\n",
       "      <td>1.234574e+08</td>\n",
       "    </tr>\n",
       "    <tr>\n",
       "      <th>Libertad</th>\n",
       "      <td>141975875507016</td>\n",
       "      <td>79852320</td>\n",
       "      <td>2166114578962</td>\n",
       "      <td>1.538077e+07</td>\n",
       "      <td>473071.0</td>\n",
       "      <td>22181200</td>\n",
       "      <td>2020542.0</td>\n",
       "      <td>2.533815e+09</td>\n",
       "      <td>4265372442</td>\n",
       "      <td>545973</td>\n",
       "      <td>1.342342e+08</td>\n",
       "    </tr>\n",
       "  </tbody>\n",
       "</table>\n",
       "</div>"
      ],
      "text/plain": [
       "                        id  store_nbr       item_nbr    unit_sales  \\\n",
       "city                                                                 \n",
       "Puyo        85428049771428   20410786  1021881525503  4.110779e+06   \n",
       "Playas      84619819788674   48731130  1334952583070  7.702352e+06   \n",
       "El Carmen  100955643229596   89311464  1560057242844  1.109794e+07   \n",
       "Riobamba   111192119769854   25359026  1707514129407  1.142622e+07   \n",
       "Salinas    121893580457949   51581425  1963853225687  1.147381e+07   \n",
       "Ibarra     118818381409692   29165190  1852048668859  1.148762e+07   \n",
       "Guaranda   115611308398167   35813119  1785644475792  1.309706e+07   \n",
       "Manta      180932850027183  118254625  2369038434837  1.397666e+07   \n",
       "Quevedo    118755375435922   64986735  1854700201835  1.422948e+07   \n",
       "Libertad   141975875507016   79852320  2166114578962  1.538077e+07   \n",
       "\n",
       "           onpromotion  store_cluster  transferred  transactions       class  \\\n",
       "city                                                                           \n",
       "Puyo           99920.0        6494341     827802.0  7.032789e+08  1795288636   \n",
       "Playas        372126.0        4176954    1266602.0  9.586872e+08  2597249434   \n",
       "El Carmen     453674.0        4961748    1509569.0  1.443508e+09  3198145627   \n",
       "Riobamba      456524.0       12679513    1653426.0  2.499698e+09  3499981755   \n",
       "Salinas       526516.0        2063257    1861304.0  2.035205e+09  3996702226   \n",
       "Ibarra        480095.0       29165190    1775220.0  2.567407e+09  3728321428   \n",
       "Guaranda      452044.0       28273515    1719384.0  2.381919e+09  3616850020   \n",
       "Manta         241329.0       28495964    2032403.0  2.756453e+09  4431612453   \n",
       "Quevedo       508198.0        5907885    1800767.0  2.022074e+09  3841746672   \n",
       "Libertad      473071.0       22181200    2020542.0  2.533815e+09  4265372442   \n",
       "\n",
       "           perishable    dcoilwtico  \n",
       "city                                 \n",
       "Puyo           196639  4.210417e+07  \n",
       "Playas         286587  8.705326e+07  \n",
       "El Carmen      288673  1.031596e+08  \n",
       "Riobamba       363035  1.118645e+08  \n",
       "Salinas        598792  1.306976e+08  \n",
       "Ibarra         385923  1.211048e+08  \n",
       "Guaranda       365308  1.171061e+08  \n",
       "Manta          623866  1.158490e+08  \n",
       "Quevedo        431023  1.234574e+08  \n",
       "Libertad       545973  1.342342e+08  "
      ]
     },
     "execution_count": 24,
     "metadata": {},
     "output_type": "execute_result"
    }
   ],
   "source": [
    "## sort cities by sum\n",
    "\n",
    "sort_by_sum = group_by_sum.sort_values('unit_sales',ascending=True)\n",
    "sort_by_sum.head(10)"
   ]
  },
  {
   "cell_type": "code",
   "execution_count": 25,
   "metadata": {},
   "outputs": [
    {
     "data": {
      "text/html": [
       "<div>\n",
       "<style scoped>\n",
       "    .dataframe tbody tr th:only-of-type {\n",
       "        vertical-align: middle;\n",
       "    }\n",
       "\n",
       "    .dataframe tbody tr th {\n",
       "        vertical-align: top;\n",
       "    }\n",
       "\n",
       "    .dataframe thead th {\n",
       "        text-align: right;\n",
       "    }\n",
       "</style>\n",
       "<table border=\"1\" class=\"dataframe\">\n",
       "  <thead>\n",
       "    <tr style=\"text-align: right;\">\n",
       "      <th></th>\n",
       "      <th>id</th>\n",
       "      <th>date</th>\n",
       "      <th>store_nbr</th>\n",
       "      <th>item_nbr</th>\n",
       "      <th>unit_sales</th>\n",
       "      <th>onpromotion</th>\n",
       "      <th>city</th>\n",
       "      <th>state</th>\n",
       "      <th>store_type</th>\n",
       "      <th>store_cluster</th>\n",
       "      <th>holiday_type</th>\n",
       "      <th>transferred</th>\n",
       "      <th>transactions</th>\n",
       "      <th>family</th>\n",
       "      <th>class</th>\n",
       "      <th>perishable</th>\n",
       "      <th>dcoilwtico</th>\n",
       "    </tr>\n",
       "  </thead>\n",
       "  <tbody>\n",
       "    <tr>\n",
       "      <th>0</th>\n",
       "      <td>0</td>\n",
       "      <td>2013-01-01</td>\n",
       "      <td>25</td>\n",
       "      <td>103665</td>\n",
       "      <td>7.0</td>\n",
       "      <td>True</td>\n",
       "      <td>Salinas</td>\n",
       "      <td>Santa Elena</td>\n",
       "      <td>D</td>\n",
       "      <td>1</td>\n",
       "      <td>Holiday</td>\n",
       "      <td>False</td>\n",
       "      <td>770.0</td>\n",
       "      <td>BREAD/BAKERY</td>\n",
       "      <td>2712</td>\n",
       "      <td>1</td>\n",
       "      <td>93.14</td>\n",
       "    </tr>\n",
       "    <tr>\n",
       "      <th>1</th>\n",
       "      <td>1</td>\n",
       "      <td>2013-01-01</td>\n",
       "      <td>25</td>\n",
       "      <td>105574</td>\n",
       "      <td>1.0</td>\n",
       "      <td>True</td>\n",
       "      <td>Salinas</td>\n",
       "      <td>Santa Elena</td>\n",
       "      <td>D</td>\n",
       "      <td>1</td>\n",
       "      <td>Holiday</td>\n",
       "      <td>False</td>\n",
       "      <td>770.0</td>\n",
       "      <td>GROCERY I</td>\n",
       "      <td>1045</td>\n",
       "      <td>0</td>\n",
       "      <td>93.14</td>\n",
       "    </tr>\n",
       "    <tr>\n",
       "      <th>2</th>\n",
       "      <td>2</td>\n",
       "      <td>2013-01-01</td>\n",
       "      <td>25</td>\n",
       "      <td>105575</td>\n",
       "      <td>2.0</td>\n",
       "      <td>True</td>\n",
       "      <td>Salinas</td>\n",
       "      <td>Santa Elena</td>\n",
       "      <td>D</td>\n",
       "      <td>1</td>\n",
       "      <td>Holiday</td>\n",
       "      <td>False</td>\n",
       "      <td>770.0</td>\n",
       "      <td>GROCERY I</td>\n",
       "      <td>1045</td>\n",
       "      <td>0</td>\n",
       "      <td>93.14</td>\n",
       "    </tr>\n",
       "  </tbody>\n",
       "</table>\n",
       "</div>"
      ],
      "text/plain": [
       "   id       date  store_nbr  item_nbr  unit_sales  onpromotion     city  \\\n",
       "0   0 2013-01-01         25    103665         7.0         True  Salinas   \n",
       "1   1 2013-01-01         25    105574         1.0         True  Salinas   \n",
       "2   2 2013-01-01         25    105575         2.0         True  Salinas   \n",
       "\n",
       "         state store_type  store_cluster holiday_type  transferred  \\\n",
       "0  Santa Elena          D              1      Holiday        False   \n",
       "1  Santa Elena          D              1      Holiday        False   \n",
       "2  Santa Elena          D              1      Holiday        False   \n",
       "\n",
       "   transactions        family  class  perishable  dcoilwtico  \n",
       "0         770.0  BREAD/BAKERY   2712           1       93.14  \n",
       "1         770.0     GROCERY I   1045           0       93.14  \n",
       "2         770.0     GROCERY I   1045           0       93.14  "
      ]
     },
     "execution_count": 25,
     "metadata": {},
     "output_type": "execute_result"
    }
   ],
   "source": [
    "## choose cities\n",
    "array = [\"Puyo\", \"Playas\", \"El Carmen\", \n",
    "         \"Riobamba\", \"Salinas\", \"Ibarra\", \n",
    "         \"Guaranda\", \"Manta\", \"Quevedo\", \"Libertad\"]\n",
    "\n",
    "myCities = df.loc[df['city'].isin(array)]\n",
    "myCities.head(3)"
   ]
  },
  {
   "cell_type": "code",
   "execution_count": 26,
   "metadata": {},
   "outputs": [
    {
     "data": {
      "text/plain": [
       "array([ 1,  7, 15,  3, 10, 13, 11])"
      ]
     },
     "execution_count": 26,
     "metadata": {},
     "output_type": "execute_result"
    }
   ],
   "source": [
    "## covers stores in 4 clusters, 7 states\n",
    "\n",
    "myCities['store_cluster'].unique()"
   ]
  },
  {
   "cell_type": "code",
   "execution_count": 27,
   "metadata": {},
   "outputs": [
    {
     "name": "stdout",
     "output_type": "stream",
     "text": [
      "<class 'pandas.core.frame.DataFrame'>\n",
      "Int64Index: 18101977 entries, 0 to 125880297\n",
      "Data columns (total 17 columns):\n",
      "id               int64\n",
      "date             datetime64[ns]\n",
      "store_nbr        int64\n",
      "item_nbr         int64\n",
      "unit_sales       float64\n",
      "onpromotion      bool\n",
      "city             object\n",
      "state            object\n",
      "store_type       object\n",
      "store_cluster    int64\n",
      "holiday_type     object\n",
      "transferred      bool\n",
      "transactions     float64\n",
      "family           object\n",
      "class            int64\n",
      "perishable       int64\n",
      "dcoilwtico       float64\n",
      "dtypes: bool(2), datetime64[ns](1), float64(3), int64(6), object(5)\n",
      "memory usage: 2.2+ GB\n"
     ]
    }
   ],
   "source": [
    "myCities.info()"
   ]
  },
  {
   "cell_type": "code",
   "execution_count": 28,
   "metadata": {},
   "outputs": [
    {
     "data": {
      "text/html": [
       "<div>\n",
       "<style scoped>\n",
       "    .dataframe tbody tr th:only-of-type {\n",
       "        vertical-align: middle;\n",
       "    }\n",
       "\n",
       "    .dataframe tbody tr th {\n",
       "        vertical-align: top;\n",
       "    }\n",
       "\n",
       "    .dataframe thead th {\n",
       "        text-align: right;\n",
       "    }\n",
       "</style>\n",
       "<table border=\"1\" class=\"dataframe\">\n",
       "  <thead>\n",
       "    <tr style=\"text-align: right;\">\n",
       "      <th></th>\n",
       "      <th>id</th>\n",
       "      <th>date</th>\n",
       "      <th>store_nbr</th>\n",
       "      <th>item_nbr</th>\n",
       "      <th>unit_sales</th>\n",
       "      <th>onpromotion</th>\n",
       "      <th>city</th>\n",
       "      <th>state</th>\n",
       "      <th>store_type</th>\n",
       "      <th>store_cluster</th>\n",
       "      <th>holiday_type</th>\n",
       "      <th>transferred</th>\n",
       "      <th>transactions</th>\n",
       "      <th>family</th>\n",
       "      <th>class</th>\n",
       "      <th>perishable</th>\n",
       "      <th>dcoilwtico</th>\n",
       "    </tr>\n",
       "  </thead>\n",
       "  <tbody>\n",
       "    <tr>\n",
       "      <th>30</th>\n",
       "      <td>30</td>\n",
       "      <td>2013-01-01</td>\n",
       "      <td>25</td>\n",
       "      <td>158680</td>\n",
       "      <td>1.0</td>\n",
       "      <td>True</td>\n",
       "      <td>Salinas</td>\n",
       "      <td>Santa Elena</td>\n",
       "      <td>D</td>\n",
       "      <td>1</td>\n",
       "      <td>Holiday</td>\n",
       "      <td>False</td>\n",
       "      <td>770.0</td>\n",
       "      <td>EGGS</td>\n",
       "      <td>2502</td>\n",
       "      <td>1</td>\n",
       "      <td>93.14</td>\n",
       "    </tr>\n",
       "    <tr>\n",
       "      <th>56</th>\n",
       "      <td>56</td>\n",
       "      <td>2013-01-01</td>\n",
       "      <td>25</td>\n",
       "      <td>208384</td>\n",
       "      <td>3.0</td>\n",
       "      <td>True</td>\n",
       "      <td>Salinas</td>\n",
       "      <td>Santa Elena</td>\n",
       "      <td>D</td>\n",
       "      <td>1</td>\n",
       "      <td>Holiday</td>\n",
       "      <td>False</td>\n",
       "      <td>770.0</td>\n",
       "      <td>EGGS</td>\n",
       "      <td>2502</td>\n",
       "      <td>1</td>\n",
       "      <td>93.14</td>\n",
       "    </tr>\n",
       "    <tr>\n",
       "      <th>74</th>\n",
       "      <td>74</td>\n",
       "      <td>2013-01-01</td>\n",
       "      <td>25</td>\n",
       "      <td>227111</td>\n",
       "      <td>1.0</td>\n",
       "      <td>True</td>\n",
       "      <td>Salinas</td>\n",
       "      <td>Santa Elena</td>\n",
       "      <td>D</td>\n",
       "      <td>1</td>\n",
       "      <td>Holiday</td>\n",
       "      <td>False</td>\n",
       "      <td>770.0</td>\n",
       "      <td>EGGS</td>\n",
       "      <td>2502</td>\n",
       "      <td>1</td>\n",
       "      <td>93.14</td>\n",
       "    </tr>\n",
       "  </tbody>\n",
       "</table>\n",
       "</div>"
      ],
      "text/plain": [
       "    id       date  store_nbr  item_nbr  unit_sales  onpromotion     city  \\\n",
       "30  30 2013-01-01         25    158680         1.0         True  Salinas   \n",
       "56  56 2013-01-01         25    208384         3.0         True  Salinas   \n",
       "74  74 2013-01-01         25    227111         1.0         True  Salinas   \n",
       "\n",
       "          state store_type  store_cluster holiday_type  transferred  \\\n",
       "30  Santa Elena          D              1      Holiday        False   \n",
       "56  Santa Elena          D              1      Holiday        False   \n",
       "74  Santa Elena          D              1      Holiday        False   \n",
       "\n",
       "    transactions family  class  perishable  dcoilwtico  \n",
       "30         770.0   EGGS   2502           1       93.14  \n",
       "56         770.0   EGGS   2502           1       93.14  \n",
       "74         770.0   EGGS   2502           1       93.14  "
      ]
     },
     "execution_count": 28,
     "metadata": {},
     "output_type": "execute_result"
    }
   ],
   "source": [
    "## Choose family\n",
    "array = [\"EGGS\"]\n",
    "Cities10eggs = myCities.loc[myCities['family'].isin(array)]\n",
    "Cities10eggs.head(3)"
   ]
  },
  {
   "cell_type": "code",
   "execution_count": 29,
   "metadata": {},
   "outputs": [],
   "source": [
    "Cities10eggs.to_csv(r'/Users/tianqi/Downloads/Capstone Data/Cities10eggs.csv', header=True, index=False)"
   ]
  },
  {
   "cell_type": "code",
   "execution_count": 30,
   "metadata": {},
   "outputs": [
    {
     "name": "stdout",
     "output_type": "stream",
     "text": [
      "<class 'pandas.core.frame.DataFrame'>\n",
      "Int64Index: 197557 entries, 30 to 125879633\n",
      "Data columns (total 17 columns):\n",
      "id               197557 non-null int64\n",
      "date             197557 non-null datetime64[ns]\n",
      "store_nbr        197557 non-null int64\n",
      "item_nbr         197557 non-null int64\n",
      "unit_sales       197557 non-null float64\n",
      "onpromotion      197557 non-null bool\n",
      "city             197557 non-null object\n",
      "state            197557 non-null object\n",
      "store_type       197557 non-null object\n",
      "store_cluster    197557 non-null int64\n",
      "holiday_type     197557 non-null object\n",
      "transferred      197557 non-null bool\n",
      "transactions     197224 non-null float64\n",
      "family           197557 non-null object\n",
      "class            197557 non-null int64\n",
      "perishable       197557 non-null int64\n",
      "dcoilwtico       197557 non-null float64\n",
      "dtypes: bool(2), datetime64[ns](1), float64(3), int64(6), object(5)\n",
      "memory usage: 24.5+ MB\n"
     ]
    }
   ],
   "source": [
    "Cities10eggs.info()"
   ]
  },
  {
   "cell_type": "code",
   "execution_count": null,
   "metadata": {},
   "outputs": [],
   "source": []
  }
 ],
 "metadata": {
  "kernelspec": {
   "display_name": "Python 3",
   "language": "python",
   "name": "python3"
  },
  "language_info": {
   "codemirror_mode": {
    "name": "ipython",
    "version": 3
   },
   "file_extension": ".py",
   "mimetype": "text/x-python",
   "name": "python",
   "nbconvert_exporter": "python",
   "pygments_lexer": "ipython3",
   "version": "3.7.3"
  }
 },
 "nbformat": 4,
 "nbformat_minor": 2
}
