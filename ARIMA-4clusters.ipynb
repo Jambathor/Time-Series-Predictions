{
 "cells": [
  {
   "cell_type": "code",
   "execution_count": 1,
   "metadata": {},
   "outputs": [],
   "source": [
    "## Import packages\n",
    "\n",
    "import numpy as np\n",
    "import pandas as pd\n",
    "import seaborn as sns\n",
    "import matplotlib.pyplot as plt\n",
    "%matplotlib inline"
   ]
  },
  {
   "cell_type": "code",
   "execution_count": 2,
   "metadata": {},
   "outputs": [
    {
     "name": "stdout",
     "output_type": "stream",
     "text": [
      "Azure ML SDK Version:  1.0.72\n"
     ]
    }
   ],
   "source": [
    "import azureml.core\n",
    "from azureml.core import Workspace\n",
    "\n",
    "# check core SDK version number\n",
    "print(\"Azure ML SDK Version: \", azureml.core.VERSION)"
   ]
  },
  {
   "cell_type": "code",
   "execution_count": 3,
   "metadata": {},
   "outputs": [
    {
     "name": "stdout",
     "output_type": "stream",
     "text": [
      "tl289603\twestus2\ttl2896ws\n"
     ]
    }
   ],
   "source": [
    "# load workspace configuration from the config.json file in the current folder.\n",
    "ws = Workspace.from_config()\n",
    "print(ws.name, ws.location, ws.resource_group, sep='\\t')"
   ]
  },
  {
   "cell_type": "code",
   "execution_count": 4,
   "metadata": {},
   "outputs": [],
   "source": [
    "from azureml.core import Experiment\n",
    "experiment = Experiment(workspace=ws, name=\"TS-experiment\")"
   ]
  },
  {
   "cell_type": "code",
   "execution_count": 5,
   "metadata": {},
   "outputs": [],
   "source": [
    "# %%writefile $script_folder/train.py\n",
    "\n",
    "from azureml.core import Dataset, Run\n",
    "\n",
    "#run = Run.get_context()\n",
    "#workspace = run.experiment.workspace\n",
    "\n",
    "dataset_name = 'cluster4_eggfamily'\n",
    "\n",
    "# Get a dataset by name\n",
    "data = Dataset.get_by_name(workspace=ws, name=dataset_name)\n",
    "\n",
    "# Load a TabularDataset into pandas DataFrame\n",
    "data =data.to_pandas_dataframe()"
   ]
  },
  {
   "cell_type": "code",
   "execution_count": 6,
   "metadata": {},
   "outputs": [],
   "source": [
    "## change data type of \"date\", (not necessary in Azure)\n",
    "data['date'] = data['date'].astype('datetime64[ns]')"
   ]
  },
  {
   "cell_type": "code",
   "execution_count": 7,
   "metadata": {},
   "outputs": [
    {
     "name": "stdout",
     "output_type": "stream",
     "text": [
      "<class 'pandas.core.frame.DataFrame'>\n",
      "RangeIndex: 135294 entries, 0 to 135293\n",
      "Data columns (total 17 columns):\n",
      "id               135294 non-null int64\n",
      "date             135294 non-null datetime64[ns]\n",
      "store_nbr        135294 non-null int64\n",
      "item_nbr         135294 non-null int64\n",
      "unit_sales       135294 non-null float64\n",
      "onpromotion      135294 non-null bool\n",
      "city             135294 non-null object\n",
      "state            135294 non-null object\n",
      "store_type       135294 non-null object\n",
      "store_cluster    135294 non-null int64\n",
      "holiday_type     135294 non-null object\n",
      "transferred      135294 non-null bool\n",
      "transactions     135067 non-null float64\n",
      "family           135294 non-null object\n",
      "class            135294 non-null int64\n",
      "perishable       135294 non-null int64\n",
      "dcoilwtico       135294 non-null float64\n",
      "dtypes: bool(2), datetime64[ns](1), float64(3), int64(6), object(5)\n",
      "memory usage: 15.7+ MB\n"
     ]
    }
   ],
   "source": [
    "data.info()"
   ]
  },
  {
   "cell_type": "code",
   "execution_count": 8,
   "metadata": {},
   "outputs": [
    {
     "data": {
      "text/html": [
       "<div>\n",
       "<style scoped>\n",
       "    .dataframe tbody tr th:only-of-type {\n",
       "        vertical-align: middle;\n",
       "    }\n",
       "\n",
       "    .dataframe tbody tr th {\n",
       "        vertical-align: top;\n",
       "    }\n",
       "\n",
       "    .dataframe thead th {\n",
       "        text-align: right;\n",
       "    }\n",
       "</style>\n",
       "<table border=\"1\" class=\"dataframe\">\n",
       "  <thead>\n",
       "    <tr style=\"text-align: right;\">\n",
       "      <th></th>\n",
       "      <th>id</th>\n",
       "      <th>date</th>\n",
       "      <th>store_nbr</th>\n",
       "      <th>item_nbr</th>\n",
       "      <th>unit_sales</th>\n",
       "      <th>onpromotion</th>\n",
       "      <th>city</th>\n",
       "      <th>state</th>\n",
       "      <th>store_type</th>\n",
       "      <th>store_cluster</th>\n",
       "      <th>holiday_type</th>\n",
       "      <th>transferred</th>\n",
       "      <th>transactions</th>\n",
       "      <th>family</th>\n",
       "      <th>class</th>\n",
       "      <th>perishable</th>\n",
       "      <th>dcoilwtico</th>\n",
       "    </tr>\n",
       "  </thead>\n",
       "  <tbody>\n",
       "    <tr>\n",
       "      <th>0</th>\n",
       "      <td>13421</td>\n",
       "      <td>2013-01-02</td>\n",
       "      <td>14</td>\n",
       "      <td>108833</td>\n",
       "      <td>2.0</td>\n",
       "      <td>True</td>\n",
       "      <td>Riobamba</td>\n",
       "      <td>Chimborazo</td>\n",
       "      <td>C</td>\n",
       "      <td>7</td>\n",
       "      <td>Work Day</td>\n",
       "      <td>True</td>\n",
       "      <td>2002.0</td>\n",
       "      <td>EGGS</td>\n",
       "      <td>2502</td>\n",
       "      <td>1</td>\n",
       "      <td>93.14</td>\n",
       "    </tr>\n",
       "    <tr>\n",
       "      <th>1</th>\n",
       "      <td>13475</td>\n",
       "      <td>2013-01-02</td>\n",
       "      <td>14</td>\n",
       "      <td>208384</td>\n",
       "      <td>3.0</td>\n",
       "      <td>True</td>\n",
       "      <td>Riobamba</td>\n",
       "      <td>Chimborazo</td>\n",
       "      <td>C</td>\n",
       "      <td>7</td>\n",
       "      <td>Work Day</td>\n",
       "      <td>True</td>\n",
       "      <td>2002.0</td>\n",
       "      <td>EGGS</td>\n",
       "      <td>2502</td>\n",
       "      <td>1</td>\n",
       "      <td>93.14</td>\n",
       "    </tr>\n",
       "    <tr>\n",
       "      <th>2</th>\n",
       "      <td>13597</td>\n",
       "      <td>2013-01-02</td>\n",
       "      <td>14</td>\n",
       "      <td>357961</td>\n",
       "      <td>5.0</td>\n",
       "      <td>True</td>\n",
       "      <td>Riobamba</td>\n",
       "      <td>Chimborazo</td>\n",
       "      <td>C</td>\n",
       "      <td>7</td>\n",
       "      <td>Work Day</td>\n",
       "      <td>True</td>\n",
       "      <td>2002.0</td>\n",
       "      <td>EGGS</td>\n",
       "      <td>2502</td>\n",
       "      <td>1</td>\n",
       "      <td>93.14</td>\n",
       "    </tr>\n",
       "    <tr>\n",
       "      <th>3</th>\n",
       "      <td>13598</td>\n",
       "      <td>2013-01-02</td>\n",
       "      <td>14</td>\n",
       "      <td>357962</td>\n",
       "      <td>6.0</td>\n",
       "      <td>True</td>\n",
       "      <td>Riobamba</td>\n",
       "      <td>Chimborazo</td>\n",
       "      <td>C</td>\n",
       "      <td>7</td>\n",
       "      <td>Work Day</td>\n",
       "      <td>True</td>\n",
       "      <td>2002.0</td>\n",
       "      <td>EGGS</td>\n",
       "      <td>2502</td>\n",
       "      <td>1</td>\n",
       "      <td>93.14</td>\n",
       "    </tr>\n",
       "    <tr>\n",
       "      <th>4</th>\n",
       "      <td>13625</td>\n",
       "      <td>2013-01-02</td>\n",
       "      <td>14</td>\n",
       "      <td>376427</td>\n",
       "      <td>4.0</td>\n",
       "      <td>True</td>\n",
       "      <td>Riobamba</td>\n",
       "      <td>Chimborazo</td>\n",
       "      <td>C</td>\n",
       "      <td>7</td>\n",
       "      <td>Work Day</td>\n",
       "      <td>True</td>\n",
       "      <td>2002.0</td>\n",
       "      <td>EGGS</td>\n",
       "      <td>2502</td>\n",
       "      <td>1</td>\n",
       "      <td>93.14</td>\n",
       "    </tr>\n",
       "  </tbody>\n",
       "</table>\n",
       "</div>"
      ],
      "text/plain": [
       "      id       date  store_nbr  item_nbr  unit_sales  onpromotion      city  \\\n",
       "0  13421 2013-01-02         14    108833         2.0         True  Riobamba   \n",
       "1  13475 2013-01-02         14    208384         3.0         True  Riobamba   \n",
       "2  13597 2013-01-02         14    357961         5.0         True  Riobamba   \n",
       "3  13598 2013-01-02         14    357962         6.0         True  Riobamba   \n",
       "4  13625 2013-01-02         14    376427         4.0         True  Riobamba   \n",
       "\n",
       "        state store_type  store_cluster holiday_type  transferred  \\\n",
       "0  Chimborazo          C              7     Work Day         True   \n",
       "1  Chimborazo          C              7     Work Day         True   \n",
       "2  Chimborazo          C              7     Work Day         True   \n",
       "3  Chimborazo          C              7     Work Day         True   \n",
       "4  Chimborazo          C              7     Work Day         True   \n",
       "\n",
       "   transactions family  class  perishable  dcoilwtico  \n",
       "0        2002.0   EGGS   2502           1       93.14  \n",
       "1        2002.0   EGGS   2502           1       93.14  \n",
       "2        2002.0   EGGS   2502           1       93.14  \n",
       "3        2002.0   EGGS   2502           1       93.14  \n",
       "4        2002.0   EGGS   2502           1       93.14  "
      ]
     },
     "execution_count": 8,
     "metadata": {},
     "output_type": "execute_result"
    }
   ],
   "source": [
    "data.head()"
   ]
  },
  {
   "cell_type": "code",
   "execution_count": 9,
   "metadata": {},
   "outputs": [],
   "source": [
    "total_sales = data.groupby('date').sum()"
   ]
  },
  {
   "cell_type": "code",
   "execution_count": 10,
   "metadata": {},
   "outputs": [
    {
     "data": {
      "text/html": [
       "<div>\n",
       "<style scoped>\n",
       "    .dataframe tbody tr th:only-of-type {\n",
       "        vertical-align: middle;\n",
       "    }\n",
       "\n",
       "    .dataframe tbody tr th {\n",
       "        vertical-align: top;\n",
       "    }\n",
       "\n",
       "    .dataframe thead th {\n",
       "        text-align: right;\n",
       "    }\n",
       "</style>\n",
       "<table border=\"1\" class=\"dataframe\">\n",
       "  <thead>\n",
       "    <tr style=\"text-align: right;\">\n",
       "      <th></th>\n",
       "      <th>unit_sales</th>\n",
       "    </tr>\n",
       "    <tr>\n",
       "      <th>date</th>\n",
       "      <th></th>\n",
       "    </tr>\n",
       "  </thead>\n",
       "  <tbody>\n",
       "    <tr>\n",
       "      <th>2013-01-02</th>\n",
       "      <td>729.0</td>\n",
       "    </tr>\n",
       "    <tr>\n",
       "      <th>2013-01-03</th>\n",
       "      <td>510.0</td>\n",
       "    </tr>\n",
       "    <tr>\n",
       "      <th>2013-01-04</th>\n",
       "      <td>372.0</td>\n",
       "    </tr>\n",
       "    <tr>\n",
       "      <th>2013-01-05</th>\n",
       "      <td>537.0</td>\n",
       "    </tr>\n",
       "    <tr>\n",
       "      <th>2013-01-06</th>\n",
       "      <td>541.0</td>\n",
       "    </tr>\n",
       "  </tbody>\n",
       "</table>\n",
       "</div>"
      ],
      "text/plain": [
       "            unit_sales\n",
       "date                  \n",
       "2013-01-02       729.0\n",
       "2013-01-03       510.0\n",
       "2013-01-04       372.0\n",
       "2013-01-05       537.0\n",
       "2013-01-06       541.0"
      ]
     },
     "execution_count": 10,
     "metadata": {},
     "output_type": "execute_result"
    }
   ],
   "source": [
    "total_sales = total_sales.drop(columns = ['id', 'store_nbr', 'item_nbr', 'onpromotion', 'store_cluster', \n",
    "                                          'transferred','transactions', 'class', 'perishable', 'dcoilwtico'])\n",
    "total_sales.head()"
   ]
  },
  {
   "cell_type": "markdown",
   "metadata": {},
   "source": [
    "## Feature Selection"
   ]
  },
  {
   "cell_type": "code",
   "execution_count": 11,
   "metadata": {},
   "outputs": [
    {
     "name": "stdout",
     "output_type": "stream",
     "text": [
      "            unit_sales\n",
      "date                  \n",
      "2013-01-02       729.0\n",
      "2013-01-03       510.0\n",
      "2013-01-04       372.0\n",
      "2013-01-05       537.0\n",
      "2013-01-06       541.0\n"
     ]
    },
    {
     "data": {
      "image/png": "[encoded data removed]",
      "text/plain": [
       "<Figure size 432x288 with 1 Axes>"
      ]
     },
     "metadata": {
      "needs_background": "light"
     },
     "output_type": "display_data"
    }
   ],
   "source": [
    "from matplotlib import pyplot\n",
    "series = total_sales\n",
    "# display first few rows\n",
    "print(series.head(5))\n",
    "# line plot of dataset\n",
    "series.plot()\n",
    "pyplot.show()"
   ]
  },
  {
   "cell_type": "code",
   "execution_count": 12,
   "metadata": {},
   "outputs": [
    {
     "data": {
      "image/png": "[encoded data removed]",
      "text/plain": [
       "<Figure size 432x288 with 1 Axes>"
      ]
     },
     "metadata": {
      "needs_background": "light"
     },
     "output_type": "display_data"
    }
   ],
   "source": [
    "## Autocorrelation Plot\n",
    "from statsmodels.graphics.tsaplots import plot_acf\n",
    "\n",
    "plot_acf(series)\n",
    "pyplot.show()"
   ]
  },
  {
   "cell_type": "markdown",
   "metadata": {},
   "source": [
    "Traditionally, time series features are selected based on their correlation with the output variable.\n",
    "\n",
    "This is called autocorrelation and involves plotting autocorrelation plots, also called a correlogram. These show the correlation of each lagged observation and whether or not the correlation is statistically significant.\n",
    "\n",
    "Running the code creates a correlogram, or Autocorrelation Function (ACF) plot, of the data.\n",
    "\n",
    "The plot shows lag values along the x-axis and correlation on the y-axis between -1 and 1 for negatively and positively correlated lags respectively.\n",
    "\n",
    "The dots above the blue area indicate statistical significance. The correlation of 1 for the lag value of 0 indicates 100% positive correlation of an observation with itself.\n",
    "\n",
    "The plot shows significant lag values at 7, 14, 21, 28 days."
   ]
  },
  {
   "cell_type": "code",
   "execution_count": null,
   "metadata": {},
   "outputs": [],
   "source": []
  },
  {
   "cell_type": "markdown",
   "metadata": {},
   "source": [
    "## ARIMA\n",
    "#### To get to know ARIMA model, only use dates and sum of unit sales in the model\n",
    "#### This would be the ARIMA time series model"
   ]
  },
  {
   "cell_type": "code",
   "execution_count": 14,
   "metadata": {},
   "outputs": [
    {
     "data": {
      "image/png": "[encoded data removed]",
      "text/plain": [
       "<Figure size 432x288 with 1 Axes>"
      ]
     },
     "metadata": {
      "needs_background": "light"
     },
     "output_type": "display_data"
    }
   ],
   "source": [
    "## autocorrelation plot of the time series\n",
    "\n",
    "from pandas.plotting import autocorrelation_plot\n",
    "\n",
    "autocorrelation_plot(series)\n",
    "pyplot.show()"
   ]
  },
  {
   "cell_type": "code",
   "execution_count": 29,
   "metadata": {
    "scrolled": true
   },
   "outputs": [
    {
     "name": "stderr",
     "output_type": "stream",
     "text": [
      "/anaconda/envs/azureml_py36/lib/python3.6/site-packages/statsmodels/tsa/base/tsa_model.py:219: ValueWarning: A date index has been provided, but it has no associated frequency information and so will be ignored when e.g. forecasting.\n",
      "  ' ignored when e.g. forecasting.', ValueWarning)\n",
      "/anaconda/envs/azureml_py36/lib/python3.6/site-packages/statsmodels/tsa/base/tsa_model.py:219: ValueWarning: A date index has been provided, but it has no associated frequency information and so will be ignored when e.g. forecasting.\n",
      "  ' ignored when e.g. forecasting.', ValueWarning)\n",
      "/anaconda/envs/azureml_py36/lib/python3.6/site-packages/scipy/signal/signaltools.py:1341: FutureWarning: Using a non-tuple sequence for multidimensional indexing is deprecated; use `arr[tuple(seq)]` instead of `arr[seq]`. In the future this will be interpreted as an array index, `arr[np.array(seq)]`, which will result either in an error or a different result.\n",
      "  out_full[ind] += zi\n",
      "/anaconda/envs/azureml_py36/lib/python3.6/site-packages/scipy/signal/signaltools.py:1344: FutureWarning: Using a non-tuple sequence for multidimensional indexing is deprecated; use `arr[tuple(seq)]` instead of `arr[seq]`. In the future this will be interpreted as an array index, `arr[np.array(seq)]`, which will result either in an error or a different result.\n",
      "  out = out_full[ind]\n",
      "/anaconda/envs/azureml_py36/lib/python3.6/site-packages/scipy/signal/signaltools.py:1350: FutureWarning: Using a non-tuple sequence for multidimensional indexing is deprecated; use `arr[tuple(seq)]` instead of `arr[seq]`. In the future this will be interpreted as an array index, `arr[np.array(seq)]`, which will result either in an error or a different result.\n",
      "  zf = out_full[ind]\n"
     ]
    },
    {
     "name": "stdout",
     "output_type": "stream",
     "text": [
      "                             ARIMA Model Results                              \n",
      "==============================================================================\n",
      "Dep. Variable:           D.unit_sales   No. Observations:                 1678\n",
      "Model:                 ARIMA(7, 1, 0)   Log Likelihood              -10596.351\n",
      "Method:                       css-mle   S.D. of innovations            133.584\n",
      "Date:                Sat, 23 Nov 2019   AIC                          21210.701\n",
      "Time:                        00:07:04   BIC                          21259.529\n",
      "Sample:                             1   HQIC                         21228.789\n",
      "                                                                              \n",
      "======================================================================================\n",
      "                         coef    std err          z      P>|z|      [0.025      0.975]\n",
      "--------------------------------------------------------------------------------------\n",
      "const                  0.0904      0.671      0.135      0.893      -1.225       1.406\n",
      "ar.L1.D.unit_sales    -0.6870      0.024    -28.132      0.000      -0.735      -0.639\n",
      "ar.L2.D.unit_sales    -0.6691      0.027    -24.789      0.000      -0.722      -0.616\n",
      "ar.L3.D.unit_sales    -0.7057      0.027    -25.866      0.000      -0.759      -0.652\n",
      "ar.L4.D.unit_sales    -0.7081      0.027    -26.046      0.000      -0.761      -0.655\n",
      "ar.L5.D.unit_sales    -0.6477      0.027    -23.794      0.000      -0.701      -0.594\n",
      "ar.L6.D.unit_sales    -0.5032      0.027    -18.668      0.000      -0.556      -0.450\n",
      "ar.L7.D.unit_sales     0.0546      0.024      2.237      0.025       0.007       0.102\n",
      "                                    Roots                                    \n",
      "=============================================================================\n",
      "                  Real          Imaginary           Modulus         Frequency\n",
      "-----------------------------------------------------------------------------\n",
      "AR.1            0.6440           -0.8105j            1.0352           -0.1431\n",
      "AR.2            0.6440           +0.8105j            1.0352            0.1431\n",
      "AR.3           -1.0249           -0.4903j            1.1362           -0.4290\n",
      "AR.4           -1.0249           +0.4903j            1.1362            0.4290\n",
      "AR.5           -0.2504           -1.0958j            1.1240           -0.2858\n",
      "AR.6           -0.2504           +1.0958j            1.1240            0.2858\n",
      "AR.7           10.4767           -0.0000j           10.4767           -0.0000\n",
      "-----------------------------------------------------------------------------\n"
     ]
    },
    {
     "data": {
      "image/png": "[encoded data removed]",
      "text/plain": [
       "<Figure size 432x288 with 1 Axes>"
      ]
     },
     "metadata": {
      "needs_background": "light"
     },
     "output_type": "display_data"
    },
    {
     "data": {
      "image/png": "[encoded data removed]",
      "text/plain": [
       "<Figure size 432x288 with 1 Axes>"
      ]
     },
     "metadata": {
      "needs_background": "light"
     },
     "output_type": "display_data"
    },
    {
     "name": "stdout",
     "output_type": "stream",
     "text": [
      "                 0\n",
      "count  1678.000000\n",
      "mean     -0.334195\n",
      "std     133.815076\n",
      "min    -736.092451\n",
      "25%     -72.088363\n",
      "50%      -8.949600\n",
      "75%      62.746020\n",
      "max    1030.636252\n"
     ]
    }
   ],
   "source": [
    "from pandas import DataFrame\n",
    "from statsmodels.tsa.arima_model import ARIMA\n",
    "\n",
    "# fit model\n",
    "model = ARIMA(series, order=(7,1,0))\n",
    "model_fit = model.fit(disp=0)\n",
    "print(model_fit.summary())\n",
    "# plot residual errors\n",
    "residuals = DataFrame(model_fit.resid)\n",
    "residuals.plot()\n",
    "pyplot.show()\n",
    "residuals.plot(kind='kde')\n",
    "pyplot.show()\n",
    "print(residuals.describe())"
   ]
  },
  {
   "cell_type": "markdown",
   "metadata": {},
   "source": [
    "1. model results including the coefficient values\n",
    "\n",
    "2. Line plot of the residual errors;\n",
    "\n",
    "3. Density plot of the residual error values;\n",
    "\n",
    "4. The distribution of the residual errors is displayed.\n",
    "\n",
    "The results show that indeed there is a bias in the prediction (a non-zero mean in the residuals)."
   ]
  },
  {
   "cell_type": "code",
   "execution_count": 27,
   "metadata": {
    "scrolled": true
   },
   "outputs": [
    {
     "name": "stderr",
     "output_type": "stream",
     "text": [
      "/anaconda/envs/azureml_py36/lib/python3.6/site-packages/scipy/signal/signaltools.py:1341: FutureWarning: Using a non-tuple sequence for multidimensional indexing is deprecated; use `arr[tuple(seq)]` instead of `arr[seq]`. In the future this will be interpreted as an array index, `arr[np.array(seq)]`, which will result either in an error or a different result.\n",
      "  out_full[ind] += zi\n",
      "/anaconda/envs/azureml_py36/lib/python3.6/site-packages/scipy/signal/signaltools.py:1344: FutureWarning: Using a non-tuple sequence for multidimensional indexing is deprecated; use `arr[tuple(seq)]` instead of `arr[seq]`. In the future this will be interpreted as an array index, `arr[np.array(seq)]`, which will result either in an error or a different result.\n",
      "  out = out_full[ind]\n",
      "/anaconda/envs/azureml_py36/lib/python3.6/site-packages/scipy/signal/signaltools.py:1350: FutureWarning: Using a non-tuple sequence for multidimensional indexing is deprecated; use `arr[tuple(seq)]` instead of `arr[seq]`. In the future this will be interpreted as an array index, `arr[np.array(seq)]`, which will result either in an error or a different result.\n",
      "  zf = out_full[ind]\n"
     ]
    },
    {
     "name": "stdout",
     "output_type": "stream",
     "text": [
      "predicted=1196.487105, expected=1056.000000\n",
      "predicted=993.443637, expected=432.000000\n",
      "predicted=468.971584, expected=451.000000\n",
      "predicted=413.194001, expected=531.000000\n",
      "predicted=494.676068, expected=629.000000\n",
      "predicted=685.206039, expected=805.000000\n",
      "predicted=865.510418, expected=944.000000\n",
      "predicted=888.442555, expected=1418.000000\n",
      "predicted=749.402777, expected=588.000000\n",
      "predicted=503.659554, expected=542.000000\n",
      "predicted=555.286156, expected=374.000000\n",
      "predicted=598.498307, expected=514.000000\n",
      "predicted=759.492619, expected=703.000000\n",
      "predicted=956.131184, expected=982.000000\n",
      "predicted=1115.088852, expected=1835.000000\n",
      "predicted=965.331602, expected=877.000000\n",
      "predicted=606.426036, expected=454.000000\n",
      "predicted=407.212487, expected=384.000000\n",
      "predicted=524.226535, expected=466.000000\n",
      "predicted=717.309961, expected=911.000000\n",
      "predicted=1126.161727, expected=976.000000\n",
      "predicted=1388.400696, expected=1352.000000\n",
      "predicted=923.936511, expected=505.000000\n",
      "predicted=432.685931, expected=518.000000\n",
      "predicted=444.564963, expected=574.000000\n",
      "predicted=604.326015, expected=472.000000\n",
      "predicted=817.069247, expected=744.000000\n",
      "predicted=957.961373, expected=993.000000\n",
      "predicted=1085.488457, expected=1382.000000\n",
      "predicted=762.426204, expected=397.000000\n",
      "predicted=477.040644, expected=595.000000\n",
      "predicted=563.412831, expected=528.000000\n",
      "predicted=557.722017, expected=472.000000\n",
      "predicted=732.018399, expected=767.000000\n",
      "predicted=982.419992, expected=883.000000\n",
      "predicted=1057.661985, expected=1431.000000\n",
      "predicted=717.524698, expected=521.000000\n",
      "predicted=562.422838, expected=627.000000\n",
      "predicted=543.199576, expected=489.000000\n",
      "predicted=543.034017, expected=460.000000\n",
      "predicted=728.257817, expected=644.000000\n",
      "predicted=890.812133, expected=840.000000\n",
      "predicted=1108.324587, expected=1814.000000\n",
      "predicted=895.310703, expected=706.000000\n",
      "predicted=633.719335, expected=590.000000\n",
      "predicted=492.891097, expected=460.000000\n",
      "predicted=504.351847, expected=546.000000\n",
      "predicted=698.337791, expected=601.000000\n",
      "predicted=915.800377, expected=770.000000\n",
      "predicted=1350.093745, expected=1385.000000\n",
      "predicted=838.662995, expected=462.000000\n",
      "predicted=528.820868, expected=526.000000\n",
      "predicted=474.665063, expected=460.000000\n",
      "predicted=550.984806, expected=538.000000\n",
      "predicted=638.703918, expected=621.000000\n",
      "predicted=809.408408, expected=965.000000\n",
      "predicted=1134.071814, expected=1514.000000\n",
      "predicted=737.346507, expected=712.000000\n",
      "predicted=579.753569, expected=579.000000\n",
      "predicted=494.899113, expected=449.000000\n",
      "predicted=548.969619, expected=512.000000\n",
      "predicted=673.540034, expected=689.000000\n",
      "predicted=971.721886, expected=922.000000\n",
      "predicted=1230.289230, expected=1572.000000\n",
      "predicted=897.911128, expected=742.000000\n",
      "predicted=603.851142, expected=642.000000\n",
      "predicted=499.846169, expected=593.000000\n",
      "predicted=584.513301, expected=500.000000\n",
      "predicted=709.113158, expected=808.000000\n",
      "predicted=982.237526, expected=944.000000\n",
      "predicted=1289.662650, expected=1109.000000\n",
      "predicted=780.038096, expected=588.000000\n",
      "predicted=606.936713, expected=577.000000\n",
      "predicted=574.678277, expected=456.000000\n",
      "predicted=541.390556, expected=412.000000\n",
      "predicted=739.584134, expected=651.000000\n",
      "predicted=873.374461, expected=951.000000\n",
      "predicted=988.079460, expected=1233.000000\n",
      "predicted=744.570489, expected=540.000000\n",
      "predicted=542.792740, expected=601.000000\n",
      "predicted=482.783524, expected=674.000000\n",
      "predicted=545.206997, expected=577.000000\n",
      "predicted=708.936406, expected=1065.000000\n",
      "predicted=1028.112764, expected=1209.000000\n",
      "predicted=1138.298063, expected=1813.000000\n",
      "predicted=894.259419, expected=794.000000\n",
      "predicted=680.356765, expected=678.000000\n",
      "predicted=666.256072, expected=632.000000\n",
      "predicted=676.287674, expected=633.000000\n",
      "predicted=1024.659096, expected=905.000000\n",
      "predicted=1188.865590, expected=1269.000000\n",
      "predicted=1531.024943, expected=754.000000\n",
      "predicted=683.958507, expected=757.000000\n",
      "predicted=677.051167, expected=645.000000\n",
      "predicted=646.614370, expected=763.000000\n",
      "predicted=735.300512, expected=716.000000\n",
      "predicted=914.724535, expected=872.000000\n",
      "predicted=1082.682875, expected=1156.000000\n",
      "predicted=838.255405, expected=1334.000000\n",
      "predicted=924.421559, expected=662.000000\n",
      "predicted=662.300866, expected=859.000000\n",
      "predicted=787.658435, expected=714.000000\n",
      "predicted=759.536276, expected=762.000000\n",
      "predicted=903.561338, expected=1015.000000\n",
      "predicted=1140.503479, expected=981.000000\n",
      "predicted=1133.512985, expected=813.000000\n",
      "predicted=692.767249, expected=688.000000\n",
      "predicted=794.619442, expected=574.000000\n",
      "predicted=680.851292, expected=793.000000\n",
      "predicted=819.001874, expected=689.000000\n",
      "predicted=924.969714, expected=1589.000000\n",
      "predicted=1122.514365, expected=1198.000000\n",
      "predicted=908.374776, expected=940.000000\n",
      "predicted=732.708355, expected=961.000000\n",
      "predicted=714.898897, expected=669.000000\n",
      "predicted=790.743659, expected=982.000000\n",
      "predicted=912.832589, expected=1281.000000\n",
      "predicted=1481.335639, expected=1136.000000\n",
      "predicted=1116.336385, expected=636.000000\n",
      "predicted=820.174515, expected=525.000000\n",
      "predicted=779.790225, expected=465.000000\n",
      "predicted=656.857418, expected=597.000000\n",
      "predicted=938.701513, expected=840.000000\n",
      "predicted=1120.098177, expected=1046.000000\n",
      "predicted=1001.078614, expected=978.000000\n",
      "predicted=684.558169, expected=713.000000\n",
      "predicted=568.297854, expected=617.000000\n",
      "predicted=539.800810, expected=512.000000\n",
      "predicted=635.560853, expected=562.000000\n",
      "predicted=807.425430, expected=1066.000000\n",
      "predicted=1046.105496, expected=940.000000\n",
      "predicted=915.597644, expected=996.000000\n",
      "predicted=756.305974, expected=734.000000\n",
      "predicted=628.457306, expected=552.000000\n",
      "predicted=544.727165, expected=473.000000\n",
      "predicted=626.871484, expected=595.000000\n",
      "predicted=936.024323, expected=886.000000\n",
      "predicted=916.795755, expected=1075.000000\n",
      "predicted=973.398532, expected=1082.000000\n",
      "predicted=788.436028, expected=716.000000\n",
      "predicted=578.386264, expected=829.000000\n",
      "predicted=607.469620, expected=497.000000\n",
      "predicted=640.483023, expected=625.000000\n",
      "predicted=858.784466, expected=973.000000\n",
      "predicted=1046.236972, expected=880.000000\n",
      "predicted=963.511480, expected=1002.000000\n",
      "predicted=783.874385, expected=621.000000\n",
      "predicted=716.548809, expected=634.000000\n",
      "predicted=548.619312, expected=587.000000\n",
      "predicted=685.672632, expected=644.000000\n",
      "predicted=886.301359, expected=889.000000\n",
      "predicted=884.085533, expected=1034.000000\n",
      "predicted=954.176150, expected=1111.000000\n",
      "predicted=748.976545, expected=752.000000\n",
      "predicted=666.045740, expected=602.000000\n",
      "predicted=602.657883, expected=742.000000\n",
      "predicted=729.498805, expected=623.000000\n",
      "predicted=861.092437, expected=862.000000\n",
      "predicted=990.280883, expected=741.000000\n",
      "predicted=931.189290, expected=1216.000000\n",
      "predicted=845.884995, expected=827.000000\n",
      "predicted=691.365942, expected=654.000000\n",
      "predicted=706.823899, expected=614.000000\n",
      "predicted=646.961879, expected=651.000000\n",
      "predicted=814.152120, expected=973.000000\n",
      "predicted=878.680371, expected=700.000000\n",
      "predicted=1018.393063, expected=736.000000\n",
      "predicted=731.947076, expected=1095.000000\n",
      "predicted=771.222704, expected=1203.000000\n",
      "predicted=822.536934, expected=898.000000\n",
      "predicted=778.273139, expected=756.000000\n",
      "predicted=871.847074, expected=1042.000000\n",
      "predicted=810.640272, expected=1086.000000\n",
      "predicted=926.225512, expected=1280.000000\n",
      "predicted=1186.134306, expected=811.000000\n",
      "predicted=1026.854613, expected=713.000000\n",
      "predicted=800.153063, expected=623.000000\n",
      "predicted=762.233824, expected=670.000000\n",
      "predicted=965.762305, expected=1007.000000\n",
      "predicted=1081.978756, expected=1192.000000\n",
      "predicted=1180.850594, expected=1020.000000\n",
      "predicted=822.665311, expected=790.000000\n",
      "predicted=709.555191, expected=655.000000\n",
      "predicted=649.081184, expected=783.000000\n",
      "predicted=783.944022, expected=777.000000\n",
      "predicted=989.765389, expected=1057.000000\n",
      "predicted=1120.431897, expected=1152.000000\n",
      "predicted=1004.917110, expected=1334.000000\n",
      "predicted=927.706740, expected=776.000000\n",
      "predicted=706.880233, expected=789.000000\n",
      "predicted=795.358109, expected=621.000000\n",
      "predicted=790.115524, expected=816.000000\n",
      "predicted=1029.021614, expected=861.000000\n",
      "predicted=1081.918225, expected=1360.000000\n"
     ]
    },
    {
     "name": "stdout",
     "output_type": "stream",
     "text": [
      "predicted=1251.890102, expected=1080.000000\n",
      "predicted=838.796658, expected=550.000000\n",
      "predicted=681.519580, expected=663.000000\n",
      "predicted=654.658795, expected=620.000000\n",
      "predicted=809.361941, expected=731.000000\n",
      "predicted=908.084068, expected=1313.000000\n",
      "predicted=1305.688877, expected=1052.000000\n",
      "predicted=966.378285, expected=1389.000000\n",
      "predicted=784.648468, expected=972.000000\n",
      "predicted=764.601289, expected=715.000000\n",
      "predicted=686.819955, expected=571.000000\n",
      "predicted=783.778072, expected=603.000000\n",
      "predicted=1099.055428, expected=865.000000\n",
      "predicted=1031.688392, expected=1209.000000\n",
      "predicted=1270.815300, expected=1079.000000\n",
      "predicted=933.119966, expected=673.000000\n",
      "predicted=653.610609, expected=605.000000\n",
      "predicted=581.575092, expected=756.000000\n",
      "predicted=722.241629, expected=794.000000\n",
      "predicted=926.430249, expected=916.000000\n",
      "predicted=1096.202235, expected=986.000000\n",
      "predicted=963.711787, expected=1094.000000\n",
      "predicted=775.194770, expected=899.000000\n",
      "predicted=722.801885, expected=684.000000\n",
      "predicted=749.762126, expected=563.000000\n",
      "predicted=749.172978, expected=537.000000\n",
      "predicted=826.607207, expected=912.000000\n",
      "predicted=984.357416, expected=1048.000000\n",
      "predicted=1048.924509, expected=1312.000000\n",
      "predicted=970.954896, expected=688.000000\n",
      "predicted=647.732935, expected=765.000000\n",
      "predicted=614.260997, expected=581.000000\n",
      "predicted=632.867735, expected=588.000000\n",
      "predicted=873.108432, expected=971.000000\n",
      "predicted=1058.043586, expected=875.000000\n",
      "predicted=1087.687900, expected=1379.000000\n",
      "predicted=867.565928, expected=1143.000000\n",
      "predicted=856.192976, expected=751.000000\n",
      "predicted=633.321499, expected=610.000000\n",
      "predicted=650.915528, expected=650.000000\n",
      "predicted=902.065682, expected=1045.000000\n",
      "predicted=1016.404242, expected=1185.000000\n",
      "predicted=1293.814087, expected=1508.000000\n",
      "predicted=1163.392428, expected=667.000000\n",
      "predicted=677.952713, expected=609.000000\n",
      "predicted=605.670354, expected=588.000000\n",
      "predicted=720.962419, expected=558.000000\n",
      "predicted=973.872216, expected=885.000000\n",
      "predicted=1128.426682, expected=814.000000\n",
      "predicted=1159.609551, expected=1301.000000\n",
      "predicted=801.349084, expected=711.000000\n",
      "predicted=637.452534, expected=628.000000\n",
      "predicted=592.604837, expected=512.000000\n",
      "predicted=599.065365, expected=617.000000\n",
      "predicted=838.932132, expected=915.000000\n",
      "predicted=910.514229, expected=1199.000000\n",
      "predicted=1189.235418, expected=1078.000000\n",
      "predicted=771.845628, expected=593.000000\n",
      "predicted=584.088335, expected=574.000000\n",
      "predicted=546.092125, expected=532.000000\n",
      "predicted=675.338176, expected=674.000000\n",
      "predicted=914.657079, expected=809.000000\n",
      "predicted=1055.487808, expected=871.000000\n",
      "predicted=917.785801, expected=1174.000000\n",
      "predicted=737.392830, expected=685.000000\n",
      "predicted=608.054142, expected=622.000000\n",
      "predicted=575.455760, expected=565.000000\n",
      "predicted=677.796207, expected=794.000000\n",
      "predicted=845.913339, expected=897.000000\n",
      "predicted=923.803421, expected=1145.000000\n",
      "predicted=1086.954245, expected=1087.000000\n",
      "predicted=767.809037, expected=677.000000\n",
      "predicted=628.409989, expected=600.000000\n",
      "predicted=609.627081, expected=601.000000\n",
      "predicted=784.670939, expected=618.000000\n",
      "predicted=870.784341, expected=893.000000\n",
      "predicted=1055.401240, expected=1102.000000\n",
      "predicted=1014.602109, expected=1071.000000\n",
      "predicted=761.602204, expected=889.000000\n",
      "predicted=676.860848, expected=693.000000\n",
      "predicted=637.868023, expected=630.000000\n",
      "predicted=683.232264, expected=619.000000\n",
      "predicted=867.287929, expected=1034.000000\n",
      "predicted=1084.466344, expected=962.000000\n",
      "predicted=1004.326057, expected=1081.000000\n",
      "predicted=892.162590, expected=726.000000\n",
      "predicted=677.528476, expected=646.000000\n",
      "predicted=640.396693, expected=577.000000\n",
      "predicted=683.178075, expected=636.000000\n",
      "predicted=933.323789, expected=887.000000\n",
      "predicted=947.448171, expected=1000.000000\n",
      "predicted=999.055156, expected=1071.000000\n",
      "predicted=792.949454, expected=682.000000\n",
      "predicted=637.957968, expected=556.000000\n",
      "predicted=578.027969, expected=479.000000\n",
      "predicted=646.157096, expected=567.000000\n",
      "predicted=835.377880, expected=988.000000\n",
      "predicted=1006.062634, expected=1332.000000\n",
      "predicted=1086.950566, expected=1306.000000\n",
      "predicted=825.014581, expected=904.000000\n",
      "predicted=629.914989, expected=631.000000\n",
      "predicted=539.117013, expected=537.000000\n",
      "predicted=656.270745, expected=750.000000\n",
      "predicted=1013.362629, expected=757.000000\n",
      "predicted=1165.790474, expected=1014.000000\n",
      "predicted=1129.532746, expected=1003.000000\n",
      "predicted=860.807219, expected=582.000000\n",
      "predicted=587.152193, expected=592.000000\n",
      "predicted=575.703203, expected=738.000000\n",
      "predicted=778.627090, expected=719.000000\n",
      "predicted=804.735920, expected=808.000000\n",
      "predicted=943.075020, expected=858.000000\n",
      "predicted=879.280710, expected=1083.000000\n",
      "predicted=722.749374, expected=738.000000\n",
      "predicted=666.370381, expected=638.000000\n",
      "predicted=704.236817, expected=629.000000\n",
      "predicted=709.014921, expected=636.000000\n",
      "predicted=787.158218, expected=774.000000\n",
      "predicted=865.326968, expected=1010.000000\n",
      "predicted=1008.695549, expected=935.000000\n",
      "predicted=764.192561, expected=704.000000\n",
      "predicted=643.730312, expected=663.000000\n",
      "predicted=638.629115, expected=558.000000\n",
      "predicted=652.582362, expected=804.000000\n",
      "predicted=835.953458, expected=784.000000\n",
      "predicted=937.912796, expected=826.000000\n",
      "predicted=850.803311, expected=1043.000000\n",
      "predicted=781.585407, expected=855.000000\n",
      "predicted=715.194265, expected=769.000000\n",
      "predicted=654.832020, expected=664.000000\n",
      "predicted=769.688217, expected=743.000000\n",
      "predicted=791.114517, expected=723.000000\n",
      "predicted=834.801136, expected=968.000000\n",
      "predicted=994.565292, expected=833.000000\n",
      "predicted=822.507393, expected=541.000000\n",
      "predicted=671.476290, expected=530.000000\n",
      "predicted=622.731113, expected=626.000000\n",
      "predicted=725.570847, expected=540.000000\n",
      "predicted=713.475259, expected=582.000000\n",
      "predicted=821.793479, expected=734.000000\n",
      "predicted=740.607286, expected=888.000000\n",
      "predicted=639.413768, expected=703.000000\n",
      "Test MSE: 34190.934\n"
     ]
    },
    {
     "data": {
      "image/png": "[encoded data removed]",
      "text/plain": [
       "<Figure size 432x288 with 1 Axes>"
      ]
     },
     "metadata": {
      "needs_background": "light"
     },
     "output_type": "display_data"
    }
   ],
   "source": [
    "## rolling forecast with the ARIMA model in Python.\n",
    "\n",
    "from pandas import read_csv\n",
    "from pandas import datetime\n",
    "from matplotlib import pyplot\n",
    "from statsmodels.tsa.arima_model import ARIMA\n",
    "from sklearn.metrics import mean_squared_error\n",
    "\n",
    "def parser(x):\n",
    "\treturn datetime.strptime('210'+x, '%Y-%m')\n",
    "\n",
    "series = total_sales\n",
    "X = series.values\n",
    "size = int(len(X) * 0.8)\n",
    "train, test = X[0:size], X[size:len(X)]\n",
    "history = [x for x in train]\n",
    "predictions = list()\n",
    "for t in range(len(test)):\n",
    "\tmodel = ARIMA(history, order=(7,1,0))\n",
    "\tmodel_fit = model.fit(disp=0)\n",
    "\toutput = model_fit.forecast()\n",
    "\tyhat = output[0]\n",
    "\tpredictions.append(yhat)\n",
    "\tobs = test[t]\n",
    "\thistory.append(obs)\n",
    "\tprint('predicted=%f, expected=%f' % (yhat, obs))\n",
    "error = mean_squared_error(test, predictions)\n",
    "print('Test MSE: %.3f' % error)\n",
    "# plot\n",
    "pyplot.plot(test)\n",
    "pyplot.plot(predictions, color='red')\n",
    "pyplot.show()"
   ]
  },
  {
   "cell_type": "markdown",
   "metadata": {},
   "source": [
    "Running the example prints the prediction and expected value each iteration.\n",
    "\n",
    "We can also calculate a final mean squared error score (MSE) for the predictions, providing a point of comparison for other ARIMA configurations.\n",
    "\n",
    "A line plot is created showing the expected values (blue) compared to the rolling forecast predictions (red). We can see the values show some trend and are in the correct scale."
   ]
  },
  {
   "cell_type": "code",
   "execution_count": 28,
   "metadata": {},
   "outputs": [
    {
     "data": {
      "text/plain": [
       "16.429046036677526"
      ]
     },
     "execution_count": 28,
     "metadata": {},
     "output_type": "execute_result"
    }
   ],
   "source": [
    "### Mean absolute percentage error (MAPE)\n",
    "\n",
    "def mean_absolute_percentage_error(y_true, y_pred): \n",
    "    y_true, y_pred = np.array(y_true), np.array(y_pred)\n",
    "    return np.mean(np.abs((y_true - y_pred) / y_true)) * 100\n",
    "\n",
    "y_true = test; y_pred = predictions\n",
    "\n",
    "mean_absolute_percentage_error(y_true, y_pred)"
   ]
  },
  {
   "cell_type": "code",
   "execution_count": null,
   "metadata": {},
   "outputs": [],
   "source": []
  }
 ],
 "metadata": {
  "kernelspec": {
   "display_name": "Python 3",
   "language": "python",
   "name": "python3"
  },
  "language_info": {
   "codemirror_mode": {
    "name": "ipython",
    "version": 3
   },
   "file_extension": ".py",
   "mimetype": "text/x-python",
   "name": "python",
   "nbconvert_exporter": "python",
   "pygments_lexer": "ipython3",
   "version": "3.7.3"
  }
 },
 "nbformat": 4,
 "nbformat_minor": 2
}
